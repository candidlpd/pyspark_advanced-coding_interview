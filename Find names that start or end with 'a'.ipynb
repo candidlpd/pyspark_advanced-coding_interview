{
 "cells": [
  {
   "cell_type": "markdown",
   "metadata": {},
   "source": [
    "# Find names that start/end with 'a' "
   ]
  },
  {
   "cell_type": "code",
   "execution_count": 1,
   "metadata": {},
   "outputs": [
    {
     "data": {
      "text/plain": [
       "'H:\\\\pyspark_advanced-coding_interview'"
      ]
     },
     "execution_count": 1,
     "metadata": {},
     "output_type": "execute_result"
    }
   ],
   "source": [
    "import os\n",
    "os.getcwd()\n",
    "os.chdir(\"H:\\pyspark_advanced-coding_interview\")\n",
    "os.getcwd()"
   ]
  },
  {
   "cell_type": "code",
   "execution_count": 1,
   "metadata": {},
   "outputs": [
    {
     "name": "stdout",
     "output_type": "stream",
     "text": [
      "+---+------+\n",
      "|ID |Name  |\n",
      "+---+------+\n",
      "|1  |Anna  |\n",
      "|2  |Amelia|\n",
      "|3  |Brian |\n",
      "|4  |Sandra|\n",
      "|5  |Angela|\n",
      "|6  |Diana |\n",
      "|7  |Alexa |\n",
      "|8  |Aaron |\n",
      "|9  |Amanda|\n",
      "|10 |Sofia |\n",
      "+---+------+\n",
      "\n"
     ]
    }
   ],
   "source": [
    "from pyspark.sql import SparkSession\n",
    "from pyspark.sql.types import StructType, StructField, StringType\n",
    "\n",
    "# Initialize Spark Session\n",
    "spark = SparkSession.builder.appName(\"NamePatternMatching\").getOrCreate()\n",
    "\n",
    "# Define schema and sample data\n",
    "schema = StructType([\n",
    "    StructField(\"ID\", StringType(), True),\n",
    "    StructField(\"Name\", StringType(), True)\n",
    "])\n",
    "\n",
    "# Sample data with names\n",
    "data = [\n",
    "    (\"1\", \"Anna\"),\n",
    "    (\"2\", \"Amelia\"),\n",
    "    (\"3\", \"Brian\"),\n",
    "    (\"4\", \"Sandra\"),\n",
    "    (\"5\", \"Angela\"),\n",
    "    (\"6\", \"Diana\"),\n",
    "    (\"7\", \"Alexa\"),\n",
    "    (\"8\", \"Aaron\"),\n",
    "    (\"9\", \"Amanda\"),\n",
    "    (\"10\", \"Sofia\")\n",
    "]\n",
    "\n",
    "# Create DataFrame\n",
    "df = spark.createDataFrame(data, schema)\n",
    "df.show(truncate=False)\n"
   ]
  },
  {
   "cell_type": "markdown",
   "metadata": {},
   "source": [
    "# Pyspark"
   ]
  },
  {
   "cell_type": "code",
   "execution_count": 2,
   "metadata": {},
   "outputs": [
    {
     "name": "stdout",
     "output_type": "stream",
     "text": [
      "+---+------+\n",
      "|ID |Name  |\n",
      "+---+------+\n",
      "|1  |Anna  |\n",
      "|2  |Amelia|\n",
      "|5  |Angela|\n",
      "|7  |Alexa |\n",
      "|8  |Aaron |\n",
      "|9  |Amanda|\n",
      "+---+------+\n",
      "\n",
      "+---+------+\n",
      "|ID |Name  |\n",
      "+---+------+\n",
      "|1  |Anna  |\n",
      "|2  |Amelia|\n",
      "|4  |Sandra|\n",
      "|5  |Angela|\n",
      "|6  |Diana |\n",
      "|7  |Alexa |\n",
      "|9  |Amanda|\n",
      "|10 |Sofia |\n",
      "+---+------+\n",
      "\n"
     ]
    }
   ],
   "source": [
    "# Find names that start with 'A'\n",
    "names_start_with_a = df.filter(df[\"Name\"].startswith(\"A\"))\n",
    "names_start_with_a.show(truncate=False)\n",
    "\n",
    "# Find names that end with 'a'\n",
    "names_end_with_a = df.filter(df[\"Name\"].endswith(\"a\"))\n",
    "names_end_with_a.show(truncate=False)\n"
   ]
  },
  {
   "cell_type": "code",
   "execution_count": 3,
   "metadata": {},
   "outputs": [
    {
     "name": "stdout",
     "output_type": "stream",
     "text": [
      "+---+------+\n",
      "|ID |Name  |\n",
      "+---+------+\n",
      "|1  |Anna  |\n",
      "|2  |Amelia|\n",
      "|5  |Angela|\n",
      "|7  |Alexa |\n",
      "|8  |Aaron |\n",
      "|9  |Amanda|\n",
      "+---+------+\n",
      "\n",
      "+---+------+\n",
      "|ID |Name  |\n",
      "+---+------+\n",
      "|1  |Anna  |\n",
      "|2  |Amelia|\n",
      "|4  |Sandra|\n",
      "|5  |Angela|\n",
      "|6  |Diana |\n",
      "|7  |Alexa |\n",
      "|9  |Amanda|\n",
      "|10 |Sofia |\n",
      "+---+------+\n",
      "\n"
     ]
    }
   ],
   "source": [
    "# Use regular expressions to find names that start with 'A'\n",
    "names_start_with_a_regex = df.filter(df[\"Name\"].rlike(\"^A\"))\n",
    "names_start_with_a_regex.show(truncate=False)\n",
    "\n",
    "# Use regular expressions to find names that end with 'a'\n",
    "names_end_with_a_regex = df.filter(df[\"Name\"].rlike(\"a$\"))\n",
    "names_end_with_a_regex.show(truncate=False)\n"
   ]
  },
  {
   "cell_type": "markdown",
   "metadata": {},
   "source": [
    "# Spark SQL"
   ]
  },
  {
   "cell_type": "code",
   "execution_count": 4,
   "metadata": {},
   "outputs": [],
   "source": [
    "# Register as a temporary table\n",
    "df.createOrReplaceTempView(\"NamesTable\")\n"
   ]
  },
  {
   "cell_type": "code",
   "execution_count": 5,
   "metadata": {},
   "outputs": [
    {
     "name": "stdout",
     "output_type": "stream",
     "text": [
      "+---+------+\n",
      "|ID |Name  |\n",
      "+---+------+\n",
      "|1  |Anna  |\n",
      "|2  |Amelia|\n",
      "|5  |Angela|\n",
      "|7  |Alexa |\n",
      "|8  |Aaron |\n",
      "|9  |Amanda|\n",
      "+---+------+\n",
      "\n",
      "+---+------+\n",
      "|ID |Name  |\n",
      "+---+------+\n",
      "|1  |Anna  |\n",
      "|2  |Amelia|\n",
      "|4  |Sandra|\n",
      "|5  |Angela|\n",
      "|6  |Diana |\n",
      "|7  |Alexa |\n",
      "|9  |Amanda|\n",
      "|10 |Sofia |\n",
      "+---+------+\n",
      "\n"
     ]
    }
   ],
   "source": [
    "# SQL Query to find names starting with 'A'\n",
    "sql_query_start = \"\"\"\n",
    "SELECT * FROM NamesTable WHERE Name LIKE 'A%'\n",
    "\"\"\"\n",
    "\n",
    "# Execute the query\n",
    "result_start_sql = spark.sql(sql_query_start)\n",
    "result_start_sql.show(truncate=False)\n",
    "\n",
    "# SQL Query to find names ending with 'a'\n",
    "sql_query_end = \"\"\"\n",
    "SELECT * FROM NamesTable WHERE Name LIKE '%a'\n",
    "\"\"\"\n",
    "\n",
    "# Execute the query\n",
    "result_end_sql = spark.sql(sql_query_end)\n",
    "result_end_sql.show(truncate=False)\n"
   ]
  },
  {
   "cell_type": "code",
   "execution_count": 6,
   "metadata": {},
   "outputs": [
    {
     "name": "stdout",
     "output_type": "stream",
     "text": [
      "+---+------+\n",
      "|ID |Name  |\n",
      "+---+------+\n",
      "|1  |Anna  |\n",
      "|2  |Amelia|\n",
      "|5  |Angela|\n",
      "|7  |Alexa |\n",
      "|8  |Aaron |\n",
      "|9  |Amanda|\n",
      "+---+------+\n",
      "\n",
      "+---+------+\n",
      "|ID |Name  |\n",
      "+---+------+\n",
      "|1  |Anna  |\n",
      "|2  |Amelia|\n",
      "|4  |Sandra|\n",
      "|5  |Angela|\n",
      "|6  |Diana |\n",
      "|7  |Alexa |\n",
      "|9  |Amanda|\n",
      "|10 |Sofia |\n",
      "+---+------+\n",
      "\n"
     ]
    }
   ],
   "source": [
    "# SQL Query to find names using regex for starting 'A'\n",
    "sql_query_rlike_start = \"\"\"\n",
    "SELECT * FROM NamesTable WHERE Name RLIKE '^A'\n",
    "\"\"\"\n",
    "\n",
    "# Execute the query\n",
    "result_rlike_start_sql = spark.sql(sql_query_rlike_start)\n",
    "result_rlike_start_sql.show(truncate=False)\n",
    "\n",
    "# SQL Query to find names using regex for ending 'a'\n",
    "sql_query_rlike_end = \"\"\"\n",
    "SELECT * FROM NamesTable WHERE Name RLIKE 'a$'\n",
    "\"\"\"\n",
    "\n",
    "# Execute the query\n",
    "result_rlike_end_sql = spark.sql(sql_query_rlike_end)\n",
    "result_rlike_end_sql.show(truncate=False)\n"
   ]
  },
  {
   "cell_type": "markdown",
   "metadata": {},
   "source": [
    "# Python"
   ]
  },
  {
   "cell_type": "code",
   "execution_count": 7,
   "metadata": {},
   "outputs": [
    {
     "name": "stdout",
     "output_type": "stream",
     "text": [
      "['Anna', 'Amelia', 'Angela', 'Alexa', 'Aaron', 'Amanda']\n",
      "['Anna', 'Amelia', 'Sandra', 'Angela', 'Diana', 'Alexa', 'Amanda', 'Sofia']\n"
     ]
    }
   ],
   "source": [
    "# Example list of names\n",
    "names = [\"Anna\", \"Amelia\", \"Brian\", \"Sandra\", \"Angela\", \"Diana\", \"Alexa\", \"Aaron\", \"Amanda\", \"Sofia\"]\n",
    "\n",
    "# Names that start with 'A'\n",
    "names_start_with_a = [name for name in names if name.startswith(\"A\")]\n",
    "print(names_start_with_a)  # Output: ['Anna', 'Amelia', 'Angela', 'Alexa', 'Aaron', 'Amanda']\n",
    "\n",
    "# Names that end with 'a'\n",
    "names_end_with_a = [name for name in names if name.endswith(\"a\")]\n",
    "print(names_end_with_a)  # Output: ['Anna', 'Amelia', 'Sandra', 'Angela', 'Diana', 'Alexa', 'Amanda', 'Sofia']\n"
   ]
  },
  {
   "cell_type": "code",
   "execution_count": null,
   "metadata": {},
   "outputs": [],
   "source": [
    "import re\n",
    "\n",
    "# Names that start with 'A' using regex\n",
    "names_start_with_a_regex = [name for name in names if re.match(\"^A\", name)]\n",
    "print(names_start_with_a_regex)  # Output: ['Anna', 'Amelia', 'Angela', 'Alexa', 'Aaron', 'Amanda']\n",
    "\n",
    "# Names that end with 'a' using regex\n",
    "names_end_with_a_regex = [name for name in names if re.search(\"a$\", name)]\n",
    "print(names_end_with_a_regex)  # Output: ['Anna', 'Amelia', 'Sandra', 'Angela', 'Diana', 'Alexa', 'Amanda', 'Sofia']\n"
   ]
  }
 ],
 "metadata": {
  "kernelspec": {
   "display_name": "Python 3",
   "language": "python",
   "name": "python3"
  },
  "language_info": {
   "codemirror_mode": {
    "name": "ipython",
    "version": 3
   },
   "file_extension": ".py",
   "mimetype": "text/x-python",
   "name": "python",
   "nbconvert_exporter": "python",
   "pygments_lexer": "ipython3",
   "version": "3.11.8"
  }
 },
 "nbformat": 4,
 "nbformat_minor": 2
}
