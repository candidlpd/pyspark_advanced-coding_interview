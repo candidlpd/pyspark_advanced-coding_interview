{
 "cells": [
  {
   "cell_type": "code",
   "execution_count": 1,
   "metadata": {},
   "outputs": [
    {
     "data": {
      "text/plain": [
       "'H:\\\\pyspark_advanced-coding_interview'"
      ]
     },
     "execution_count": 1,
     "metadata": {},
     "output_type": "execute_result"
    }
   ],
   "source": [
    "import os\n",
    "os.getcwd()\n",
    "os.chdir(\"H:\\pyspark_advanced-coding_interview\")\n",
    "os.getcwd()"
   ]
  },
  {
   "cell_type": "code",
   "execution_count": 4,
   "metadata": {},
   "outputs": [
    {
     "name": "stdout",
     "output_type": "stream",
     "text": [
      "+---------+\n",
      "|   result|\n",
      "+---------+\n",
      "|1p2r3 1ql|\n",
      "+---------+\n",
      "\n",
      "+--------------------+\n",
      "|              result|\n",
      "+--------------------+\n",
      "|spark data proces...|\n",
      "+--------------------+\n",
      "\n"
     ]
    }
   ],
   "source": [
    "from pyspark.sql import SparkSession\n",
    "from pyspark.sql.functions import expr\n",
    "\n",
    "# Initialize Spark Session\n",
    "spark = SparkSession.builder.appName(\"LeapYearCheck\").getOrCreate()\n",
    "\n",
    "#it replaces each occurrence of a specified character with another character.\n",
    "spark.sql(\"SELECT translate('spark sql', 'sak', '123') AS result;\").show()\n",
    "\n",
    "spark.sql(\"SELECT replace('spark sql is powerful', 'sql', 'data processing') AS result;\").show()"
   ]
  },
  {
   "cell_type": "code",
   "execution_count": 6,
   "metadata": {},
   "outputs": [
    {
     "name": "stdout",
     "output_type": "stream",
     "text": [
      "+---------+---------------+\n",
      "|     text|translated_text|\n",
      "+---------+---------------+\n",
      "|spark sql|      1p2r3 1ql|\n",
      "+---------+---------------+\n",
      "\n",
      "+---------+--------------------+\n",
      "|     text|       replaced_text|\n",
      "+---------+--------------------+\n",
      "|spark sql|spark data proces...|\n",
      "+---------+--------------------+\n",
      "\n"
     ]
    }
   ],
   "source": [
    "from pyspark.sql import SparkSession\n",
    "from pyspark.sql.functions import translate\n",
    "\n",
    "# Initialize Spark Session\n",
    "spark = SparkSession.builder.appName(\"TranslateExample\").getOrCreate()\n",
    "\n",
    "# Create a DataFrame\n",
    "data = [(\"spark sql\",)]\n",
    "df = spark.createDataFrame(data, [\"text\"])\n",
    "\n",
    "# Apply translate\n",
    "df.withColumn(\"translated_text\", translate(\"text\", \"sak\", \"123\")).show()\n",
    "\n",
    "from pyspark.sql.functions import expr\n",
    "\n",
    "# Apply replace\n",
    "df.withColumn(\"replaced_text\", expr(\"replace(text, 'sql', 'data processing')\")).show()\n",
    "\n"
   ]
  },
  {
   "cell_type": "code",
   "execution_count": null,
   "metadata": {},
   "outputs": [],
   "source": []
  }
 ],
 "metadata": {
  "kernelspec": {
   "display_name": "Python 3",
   "language": "python",
   "name": "python3"
  },
  "language_info": {
   "codemirror_mode": {
    "name": "ipython",
    "version": 3
   },
   "file_extension": ".py",
   "mimetype": "text/x-python",
   "name": "python",
   "nbconvert_exporter": "python",
   "pygments_lexer": "ipython3",
   "version": "3.11.8"
  }
 },
 "nbformat": 4,
 "nbformat_minor": 2
}
