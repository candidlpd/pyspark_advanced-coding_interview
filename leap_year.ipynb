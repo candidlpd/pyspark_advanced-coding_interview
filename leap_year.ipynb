{
 "cells": [
  {
   "cell_type": "code",
   "execution_count": 2,
   "metadata": {},
   "outputs": [
    {
     "data": {
      "text/plain": [
       "'H:\\\\pyspark_advanced-coding_interview'"
      ]
     },
     "execution_count": 2,
     "metadata": {},
     "output_type": "execute_result"
    }
   ],
   "source": [
    "import os\n",
    "os.getcwd()\n",
    "os.chdir(\"H:\\pyspark_advanced-coding_interview\")\n",
    "os.getcwd()"
   ]
  },
  {
   "cell_type": "code",
   "execution_count": 1,
   "metadata": {},
   "outputs": [
    {
     "name": "stdout",
     "output_type": "stream",
     "text": [
      "+----+----------------+\n",
      "|year|leap_year_status|\n",
      "+----+----------------+\n",
      "|2020|       Leap Year|\n",
      "|2021| Not a Leap Year|\n",
      "|2022| Not a Leap Year|\n",
      "|2023| Not a Leap Year|\n",
      "|2024|       Leap Year|\n",
      "+----+----------------+\n",
      "\n"
     ]
    }
   ],
   "source": [
    "from pyspark.sql import SparkSession\n",
    "from pyspark.sql.functions import expr\n",
    "\n",
    "# Initialize Spark Session\n",
    "spark = SparkSession.builder.appName(\"LeapYearCheck\").getOrCreate()\n",
    "\n",
    "# Sample Data\n",
    "data = [(2020,), (2021,), (2022,), (2023,), (2024,)]\n",
    "df = spark.createDataFrame(data, [\"year\"])\n",
    "\n",
    "# Create Temp View\n",
    "df.createOrReplaceTempView(\"years\")\n",
    "\n",
    "# Spark SQL Query\n",
    "result = spark.sql(\"\"\"\n",
    "    SELECT year,\n",
    "        CASE\n",
    "            WHEN (year % 4 = 0 AND year % 100 != 0) OR (year % 400 = 0) THEN 'Leap Year'\n",
    "            ELSE 'Not a Leap Year'\n",
    "        END AS leap_year_status\n",
    "    FROM years\n",
    "\"\"\")\n",
    "\n",
    "result.show()\n"
   ]
  },
  {
   "cell_type": "code",
   "execution_count": null,
   "metadata": {},
   "outputs": [],
   "source": []
  }
 ],
 "metadata": {
  "kernelspec": {
   "display_name": "Python 3",
   "language": "python",
   "name": "python3"
  },
  "language_info": {
   "codemirror_mode": {
    "name": "ipython",
    "version": 3
   },
   "file_extension": ".py",
   "mimetype": "text/x-python",
   "name": "python",
   "nbconvert_exporter": "python",
   "pygments_lexer": "ipython3",
   "version": "3.11.8"
  }
 },
 "nbformat": 4,
 "nbformat_minor": 2
}
