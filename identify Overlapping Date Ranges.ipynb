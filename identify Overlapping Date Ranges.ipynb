{
 "cells": [
  {
   "cell_type": "markdown",
   "metadata": {},
   "source": [
    "# identify Overlapping Date Ranges"
   ]
  },
  {
   "cell_type": "code",
   "execution_count": 1,
   "metadata": {},
   "outputs": [
    {
     "data": {
      "text/plain": [
       "'H:\\\\pyspark_advanced-coding_interview'"
      ]
     },
     "execution_count": 1,
     "metadata": {},
     "output_type": "execute_result"
    }
   ],
   "source": [
    "import os\n",
    "os.getcwd()\n",
    "os.chdir(\"H:\\pyspark_advanced-coding_interview\")\n",
    "os.getcwd()"
   ]
  },
  {
   "cell_type": "markdown",
   "metadata": {},
   "source": [
    "# Pyspark"
   ]
  },
  {
   "cell_type": "code",
   "execution_count": 2,
   "metadata": {},
   "outputs": [
    {
     "name": "stdout",
     "output_type": "stream",
     "text": [
      "+---------+----------+----------------------------+--------------+------------+----------+----------+\n",
      "|FirstName|LastName  |Title                       |DepartmentName|Phone       |StartDate |EndDate   |\n",
      "+---------+----------+----------------------------+--------------+------------+----------+----------+\n",
      "|Guy      |Gilbert   |Production Technician - WC60|Production    |320-555-0195|2006-01-06|null      |\n",
      "|Kevin    |Brown     |Marketing Assistant         |Marketing     |150-555-0189|2006-08-26|null      |\n",
      "|Roberto  |Tamburello|Engineering Manager         |Engineering   |212-555-0187|2007-06-11|null      |\n",
      "|Rob      |Walters   |Senior Tool Designer        |Tool Design   |612-555-0149|2007-07-05|2009-12-28|\n",
      "|Rob      |Walters   |Senior Tool Designer        |Tool Design   |412-555-6754|2007-07-06|2009-12-27|\n",
      "|Thierry  |D'Hers    |Tool Designer               |Tool Design   |168-555-0183|2007-07-13|null      |\n",
      "|David    |Bradley   |Marketing Manager           |Marketing     |412-555-1234|2007-07-20|2009-02-11|\n",
      "|David    |Bradley   |Marketing Manager           |Marketing     |913-555-0172|2009-02-12|null      |\n",
      "|JoLynn   |Dobney    |Production Supervisor - WC60|Production    |903-555-0143|2007-07-26|null      |\n",
      "|Ruth     |Ellerbrock|Production Technician - WC10|Production    |145-555-0130|2007-08-06|null      |\n",
      "|Gail     |Erickson  |Design Engineer             |Engineering   |849-555-0513|2007-08-06|null      |\n",
      "+---------+----------+----------------------------+--------------+------------+----------+----------+\n",
      "\n"
     ]
    }
   ],
   "source": [
    "from pyspark.sql import SparkSession\n",
    "from pyspark.sql.types import StructType, StructField, StringType, DateType\n",
    "from datetime import datetime\n",
    "\n",
    "# Initialize Spark Session\n",
    "spark = SparkSession.builder.appName(\"OverlappingDateRanges\").getOrCreate()\n",
    "\n",
    "# Define schema using StructType and StructField\n",
    "schema = StructType([\n",
    "    StructField(\"FirstName\", StringType(), True),\n",
    "    StructField(\"LastName\", StringType(), True),\n",
    "    StructField(\"Title\", StringType(), True),\n",
    "    StructField(\"DepartmentName\", StringType(), True),\n",
    "    StructField(\"Phone\", StringType(), True),\n",
    "    StructField(\"StartDate\", DateType(), True),\n",
    "    StructField(\"EndDate\", DateType(), True)\n",
    "])\n",
    "\n",
    "# Sample data based on the image\n",
    "data = [\n",
    "    (\"Guy\", \"Gilbert\", \"Production Technician - WC60\", \"Production\", \"320-555-0195\", datetime(2006, 1, 6), None),\n",
    "    (\"Kevin\", \"Brown\", \"Marketing Assistant\", \"Marketing\", \"150-555-0189\", datetime(2006, 8, 26), None),\n",
    "    (\"Roberto\", \"Tamburello\", \"Engineering Manager\", \"Engineering\", \"212-555-0187\", datetime(2007, 6, 11), None),\n",
    "    (\"Rob\", \"Walters\", \"Senior Tool Designer\", \"Tool Design\", \"612-555-0149\", datetime(2007, 7, 5), datetime(2009, 12, 28)),\n",
    "    (\"Rob\", \"Walters\", \"Senior Tool Designer\", \"Tool Design\", \"412-555-6754\", datetime(2007, 7, 6), datetime(2009, 12, 27)),\n",
    "    (\"Thierry\", \"D'Hers\", \"Tool Designer\", \"Tool Design\", \"168-555-0183\", datetime(2007, 7, 13), None),\n",
    "    (\"David\", \"Bradley\", \"Marketing Manager\", \"Marketing\", \"412-555-1234\", datetime(2007, 7, 20), datetime(2009, 2, 11)),\n",
    "    (\"David\", \"Bradley\", \"Marketing Manager\", \"Marketing\", \"913-555-0172\", datetime(2009, 2, 12), None),\n",
    "    (\"JoLynn\", \"Dobney\", \"Production Supervisor - WC60\", \"Production\", \"903-555-0143\", datetime(2007, 7, 26), None),\n",
    "    (\"Ruth\", \"Ellerbrock\", \"Production Technician - WC10\", \"Production\", \"145-555-0130\", datetime(2007, 8, 6), None),\n",
    "    (\"Gail\", \"Erickson\", \"Design Engineer\", \"Engineering\", \"849-555-0513\", datetime(2007, 8, 6), None)\n",
    "]\n",
    "\n",
    "# Create DataFrame\n",
    "df = spark.createDataFrame(data, schema)\n",
    "df.show(truncate=False)\n"
   ]
  },
  {
   "cell_type": "code",
   "execution_count": 3,
   "metadata": {},
   "outputs": [],
   "source": [
    "# Register the DataFrame as a temporary table\n",
    "df.createOrReplaceTempView(\"Employees\")\n"
   ]
  },
  {
   "cell_type": "code",
   "execution_count": 9,
   "metadata": {},
   "outputs": [
    {
     "name": "stdout",
     "output_type": "stream",
     "text": [
      "+---------+--------+----------+----------+----------+----------+\n",
      "|FirstName|LastName|StartDate |EndDate   |StartDate |EndDate   |\n",
      "+---------+--------+----------+----------+----------+----------+\n",
      "|Rob      |Walters |2007-07-05|2009-12-28|2007-07-06|2009-12-27|\n",
      "|Rob      |Walters |2007-07-06|2009-12-27|2007-07-05|2009-12-28|\n",
      "+---------+--------+----------+----------+----------+----------+\n",
      "\n"
     ]
    }
   ],
   "source": [
    "from pyspark.sql.functions import col\n",
    "\n",
    "# Perform self-join to find overlapping ranges\n",
    "overlapping_df = df.alias(\"a\").join(df.alias(\"b\"),\n",
    "                                   (col(\"a.FirstName\") == col(\"b.FirstName\")) &\n",
    "                                   (col(\"a.LastName\") == col(\"b.LastName\")) &\n",
    "                                   (col(\"a.StartDate\") < col(\"b.EndDate\")) &\n",
    "                                   (col(\"b.StartDate\") < col(\"a.EndDate\")) &\n",
    "                                   (col(\"a.Phone\") != col(\"b.Phone\")), \"inner\") \\\n",
    "    .select(\"a.FirstName\", \"a.LastName\", \"a.StartDate\", \"a.EndDate\", \"b.StartDate\", \"b.EndDate\")\n",
    "\n",
    "overlapping_df.show(truncate=False)\n",
    "\n"
   ]
  },
  {
   "cell_type": "markdown",
   "metadata": {},
   "source": [
    "# Spark SQL"
   ]
  },
  {
   "cell_type": "code",
   "execution_count": 8,
   "metadata": {},
   "outputs": [
    {
     "name": "stdout",
     "output_type": "stream",
     "text": [
      "+---------+--------+----------+----------+----------+----------+\n",
      "|FirstName|LastName|StartDate |EndDate   |StartDate |EndDate   |\n",
      "+---------+--------+----------+----------+----------+----------+\n",
      "|Rob      |Walters |2007-07-05|2009-12-28|2007-07-06|2009-12-27|\n",
      "|Rob      |Walters |2007-07-06|2009-12-27|2007-07-05|2009-12-28|\n",
      "+---------+--------+----------+----------+----------+----------+\n",
      "\n"
     ]
    }
   ],
   "source": [
    "# SQL Query to identify overlapping date ranges\n",
    "sql_query = \"\"\"\n",
    "SELECT a.FirstName, a.LastName, a.StartDate, a.EndDate, b.StartDate, b.EndDate\n",
    "FROM Employees a\n",
    "JOIN Employees b\n",
    "ON a.FirstName = b.FirstName\n",
    "AND a.LastName = b.LastName\n",
    "AND a.StartDate < b.EndDate\n",
    "AND b.StartDate < a.EndDate\n",
    "AND a.Phone != b.Phone\n",
    "\"\"\"\n",
    "\n",
    "# Execute the query\n",
    "overlapping_sql_df = spark.sql(sql_query)\n",
    "overlapping_sql_df.show(truncate=False)\n",
    "\n"
   ]
  },
  {
   "cell_type": "markdown",
   "metadata": {},
   "source": [
    "# Python"
   ]
  },
  {
   "cell_type": "code",
   "execution_count": 7,
   "metadata": {},
   "outputs": [
    {
     "name": "stdout",
     "output_type": "stream",
     "text": [
      "  FirstName LastName StartDate1   EndDate1 StartDate2   EndDate2\n",
      "0       Rob  Walters 2007-07-05 2009-12-28 2007-07-06 2009-12-27\n",
      "1       Rob  Walters 2007-07-06 2009-12-27 2007-07-05 2009-12-28\n"
     ]
    }
   ],
   "source": [
    "import pandas as pd\n",
    "\n",
    "# Sample Data - Assuming data from the Spark DataFrame is converted to pandas DataFrame\n",
    "data = [\n",
    "    (\"Guy\", \"Gilbert\", \"Production Technician - WC60\", \"Production\", \"320-555-0195\", \"2006-01-06\", None),\n",
    "    (\"Kevin\", \"Brown\", \"Marketing Assistant\", \"Marketing\", \"150-555-0189\", \"2006-08-26\", None),\n",
    "    (\"Roberto\", \"Tamburello\", \"Engineering Manager\", \"Engineering\", \"212-555-0187\", \"2007-06-11\", None),\n",
    "    (\"Rob\", \"Walters\", \"Senior Tool Designer\", \"Tool Design\", \"612-555-0149\", \"2007-07-05\", \"2009-12-28\"),\n",
    "    (\"Rob\", \"Walters\", \"Senior Tool Designer\", \"Tool Design\", \"412-555-6754\", \"2007-07-06\", \"2009-12-27\"),\n",
    "    (\"Thierry\", \"D'Hers\", \"Tool Designer\", \"Tool Design\", \"168-555-0183\", \"2007-07-13\", None),\n",
    "    (\"David\", \"Bradley\", \"Marketing Manager\", \"Marketing\", \"412-555-1234\", \"2007-07-20\", \"2009-02-11\"),\n",
    "    (\"David\", \"Bradley\", \"Marketing Manager\", \"Marketing\", \"913-555-0172\", \"2009-02-12\", None),\n",
    "    (\"JoLynn\", \"Dobney\", \"Production Supervisor - WC60\", \"Production\", \"903-555-0143\", \"2007-07-26\", None),\n",
    "    (\"Ruth\", \"Ellerbrock\", \"Production Technician - WC10\", \"Production\", \"145-555-0130\", \"2007-08-06\", None),\n",
    "    (\"Gail\", \"Erickson\", \"Design Engineer\", \"Engineering\", \"849-555-0513\", \"2007-08-06\", None)\n",
    "]\n",
    "\n",
    "# Create pandas DataFrame\n",
    "df_pandas = pd.DataFrame(data, columns=[\"FirstName\", \"LastName\", \"Title\", \"DepartmentName\", \"Phone\", \"StartDate\", \"EndDate\"])\n",
    "df_pandas[\"StartDate\"] = pd.to_datetime(df_pandas[\"StartDate\"])\n",
    "df_pandas[\"EndDate\"] = pd.to_datetime(df_pandas[\"EndDate\"])\n",
    "\n",
    "# Identify overlapping date ranges using nested loops\n",
    "overlaps = []\n",
    "for i, row1 in df_pandas.iterrows():\n",
    "    for j, row2 in df_pandas.iterrows():\n",
    "        if i != j and row1[\"FirstName\"] == row2[\"FirstName\"] and row1[\"LastName\"] == row2[\"LastName\"]:\n",
    "            if row1[\"StartDate\"] < row2[\"EndDate\"] and row2[\"StartDate\"] < row1[\"EndDate\"]:\n",
    "                overlaps.append((row1[\"FirstName\"], row1[\"LastName\"], row1[\"StartDate\"], row1[\"EndDate\"],\n",
    "                                 row2[\"StartDate\"], row2[\"EndDate\"]))\n",
    "\n",
    "# Convert to DataFrame to display\n",
    "overlap_df = pd.DataFrame(overlaps, columns=[\"FirstName\", \"LastName\", \"StartDate1\", \"EndDate1\", \"StartDate2\", \"EndDate2\"])\n",
    "print(overlap_df)\n"
   ]
  },
  {
   "cell_type": "code",
   "execution_count": null,
   "metadata": {},
   "outputs": [],
   "source": []
  }
 ],
 "metadata": {
  "kernelspec": {
   "display_name": "Python 3",
   "language": "python",
   "name": "python3"
  },
  "language_info": {
   "codemirror_mode": {
    "name": "ipython",
    "version": 3
   },
   "file_extension": ".py",
   "mimetype": "text/x-python",
   "name": "python",
   "nbconvert_exporter": "python",
   "pygments_lexer": "ipython3",
   "version": "3.11.8"
  }
 },
 "nbformat": 4,
 "nbformat_minor": 2
}
