{
 "cells": [
  {
   "cell_type": "code",
   "execution_count": 10,
   "metadata": {},
   "outputs": [
    {
     "data": {
      "text/plain": [
       "'H:\\\\pyspark_advanced-coding_interview'"
      ]
     },
     "execution_count": 10,
     "metadata": {},
     "output_type": "execute_result"
    }
   ],
   "source": [
    "import os\n",
    "os.getcwd()\n",
    "os.chdir(\"H:\\pyspark_advanced-coding_interview\")\n",
    "os.getcwd()"
   ]
  },
  {
   "cell_type": "markdown",
   "metadata": {},
   "source": [
    "# Count the occurrence of a character in a string"
   ]
  },
  {
   "cell_type": "markdown",
   "metadata": {},
   "source": [
    "# Pyspark"
   ]
  },
  {
   "cell_type": "code",
   "execution_count": 1,
   "metadata": {},
   "outputs": [
    {
     "name": "stdout",
     "output_type": "stream",
     "text": [
      "+---+-----------------------+\n",
      "|ID |Text                   |\n",
      "+---+-----------------------+\n",
      "|1  |hello world            |\n",
      "|2  |python programming     |\n",
      "|3  |data science with spark|\n",
      "|4  |hello again            |\n",
      "|5  |the quick brown fox    |\n",
      "+---+-----------------------+\n",
      "\n"
     ]
    }
   ],
   "source": [
    "from pyspark.sql import SparkSession\n",
    "from pyspark.sql.types import StructType, StructField, StringType\n",
    "\n",
    "# Initialize Spark Session\n",
    "spark = SparkSession.builder.appName(\"CharacterCount\").getOrCreate()\n",
    "\n",
    "# Define schema and sample data\n",
    "schema = StructType([\n",
    "    StructField(\"ID\", StringType(), True),\n",
    "    StructField(\"Text\", StringType(), True)\n",
    "])\n",
    "\n",
    "# Sample data with some strings\n",
    "data = [\n",
    "    (\"1\", \"hello world\"),\n",
    "    (\"2\", \"python programming\"),\n",
    "    (\"3\", \"data science with spark\"),\n",
    "    (\"4\", \"hello again\"),\n",
    "    (\"5\", \"the quick brown fox\")\n",
    "]\n",
    "\n",
    "# Create DataFrame\n",
    "df = spark.createDataFrame(data, schema)\n",
    "df.show(truncate=False)\n"
   ]
  },
  {
   "cell_type": "code",
   "execution_count": 2,
   "metadata": {},
   "outputs": [
    {
     "name": "stdout",
     "output_type": "stream",
     "text": [
      "+---+-----------------------+-----+\n",
      "|ID |Text                   |Count|\n",
      "+---+-----------------------+-----+\n",
      "|1  |hello world            |2    |\n",
      "|2  |python programming     |2    |\n",
      "|3  |data science with spark|0    |\n",
      "|4  |hello again            |1    |\n",
      "|5  |the quick brown fox    |2    |\n",
      "+---+-----------------------+-----+\n",
      "\n"
     ]
    }
   ],
   "source": [
    "from pyspark.sql.functions import length, regexp_replace\n",
    "\n",
    "# Character to count\n",
    "char_to_count = \"o\"\n",
    "\n",
    "# Count occurrences by comparing lengths\n",
    "df_with_count = df.withColumn(\n",
    "    \"Count\", \n",
    "    length(\"Text\") - length(regexp_replace(\"Text\", char_to_count, \"\"))\n",
    ")\n",
    "df_with_count.show(truncate=False)\n"
   ]
  },
  {
   "cell_type": "code",
   "execution_count": 3,
   "metadata": {},
   "outputs": [
    {
     "name": "stdout",
     "output_type": "stream",
     "text": [
      "+---+-----------------------+-----+\n",
      "|ID |Text                   |Count|\n",
      "+---+-----------------------+-----+\n",
      "|1  |hello world            |2    |\n",
      "|2  |python programming     |2    |\n",
      "|3  |data science with spark|0    |\n",
      "|4  |hello again            |1    |\n",
      "|5  |the quick brown fox    |2    |\n",
      "+---+-----------------------+-----+\n",
      "\n"
     ]
    }
   ],
   "source": [
    "from pyspark.sql.functions import size, split\n",
    "\n",
    "# Count occurrences using split and size\n",
    "df_with_split_count = df.withColumn(\n",
    "    \"Count\", \n",
    "    size(split(\"Text\", char_to_count)) - 1\n",
    ")\n",
    "df_with_split_count.show(truncate=False)\n"
   ]
  },
  {
   "cell_type": "markdown",
   "metadata": {},
   "source": [
    "# Spark SQL"
   ]
  },
  {
   "cell_type": "code",
   "execution_count": 4,
   "metadata": {},
   "outputs": [],
   "source": [
    "# Register as a temporary table\n",
    "df.createOrReplaceTempView(\"TextData\")\n"
   ]
  },
  {
   "cell_type": "code",
   "execution_count": 5,
   "metadata": {},
   "outputs": [
    {
     "name": "stdout",
     "output_type": "stream",
     "text": [
      "+---+-----------------------+-----+\n",
      "|ID |Text                   |Count|\n",
      "+---+-----------------------+-----+\n",
      "|1  |hello world            |2    |\n",
      "|2  |python programming     |2    |\n",
      "|3  |data science with spark|0    |\n",
      "|4  |hello again            |1    |\n",
      "|5  |the quick brown fox    |2    |\n",
      "+---+-----------------------+-----+\n",
      "\n"
     ]
    }
   ],
   "source": [
    "# SQL Query\n",
    "sql_query = \"\"\"\n",
    "SELECT ID, Text, \n",
    "       LENGTH(Text) - LENGTH(REGEXP_REPLACE(Text, 'o', '')) AS Count\n",
    "FROM TextData\n",
    "\"\"\"\n",
    "\n",
    "# Execute the query\n",
    "result_sql = spark.sql(sql_query)\n",
    "result_sql.show(truncate=False)\n"
   ]
  },
  {
   "cell_type": "code",
   "execution_count": 6,
   "metadata": {},
   "outputs": [
    {
     "name": "stdout",
     "output_type": "stream",
     "text": [
      "+---+-----------------------+-----+\n",
      "|ID |Text                   |Count|\n",
      "+---+-----------------------+-----+\n",
      "|1  |hello world            |2    |\n",
      "|2  |python programming     |2    |\n",
      "|3  |data science with spark|0    |\n",
      "|4  |hello again            |1    |\n",
      "|5  |the quick brown fox    |2    |\n",
      "+---+-----------------------+-----+\n",
      "\n"
     ]
    }
   ],
   "source": [
    "# SQL Query\n",
    "sql_query_split = \"\"\"\n",
    "SELECT ID, Text, \n",
    "       SIZE(SPLIT(Text, 'o')) - 1 AS Count\n",
    "FROM TextData\n",
    "\"\"\"\n",
    "\n",
    "# Execute the query\n",
    "result_sql_split = spark.sql(sql_query_split)\n",
    "result_sql_split.show(truncate=False)\n"
   ]
  },
  {
   "cell_type": "markdown",
   "metadata": {},
   "source": [
    "# Python"
   ]
  },
  {
   "cell_type": "code",
   "execution_count": 7,
   "metadata": {},
   "outputs": [
    {
     "name": "stdout",
     "output_type": "stream",
     "text": [
      "[2, 2, 0, 1, 2]\n"
     ]
    }
   ],
   "source": [
    "# Example strings\n",
    "strings = [\"hello world\", \"python programming\", \"data science with spark\", \"hello again\", \"the quick brown fox\"]\n",
    "\n",
    "# Character to count\n",
    "char_to_count = \"o\"\n",
    "\n",
    "# Count occurrences using str.count\n",
    "counts = [s.count(char_to_count) for s in strings]\n",
    "print(counts)  # Output: [2, 2, 1, 1, 2]\n"
   ]
  },
  {
   "cell_type": "code",
   "execution_count": 8,
   "metadata": {},
   "outputs": [
    {
     "name": "stdout",
     "output_type": "stream",
     "text": [
      "'o' appears 2 times in 'hello world'\n",
      "'o' appears 2 times in 'python programming'\n",
      "'o' appears 0 times in 'data science with spark'\n",
      "'o' appears 1 times in 'hello again'\n",
      "'o' appears 2 times in 'the quick brown fox'\n"
     ]
    }
   ],
   "source": [
    "from collections import Counter\n",
    "\n",
    "# Count occurrences using collections.Counter\n",
    "for s in strings:\n",
    "    counter = Counter(s)\n",
    "    print(f\"'{char_to_count}' appears {counter[char_to_count]} times in '{s}'\")\n"
   ]
  },
  {
   "cell_type": "code",
   "execution_count": 9,
   "metadata": {},
   "outputs": [
    {
     "name": "stdout",
     "output_type": "stream",
     "text": [
      "'o' appears 2 times in 'hello world'\n",
      "'o' appears 2 times in 'python programming'\n",
      "'o' appears 0 times in 'data science with spark'\n",
      "'o' appears 1 times in 'hello again'\n",
      "'o' appears 2 times in 'the quick brown fox'\n"
     ]
    }
   ],
   "source": [
    "# Count occurrences manually using str.find()\n",
    "for s in strings:\n",
    "    count = 0\n",
    "    index = s.find(char_to_count)\n",
    "    while index != -1:\n",
    "        count += 1\n",
    "        index = s.find(char_to_count, index + 1)\n",
    "    print(f\"'{char_to_count}' appears {count} times in '{s}'\")\n"
   ]
  },
  {
   "cell_type": "code",
   "execution_count": null,
   "metadata": {},
   "outputs": [],
   "source": []
  }
 ],
 "metadata": {
  "kernelspec": {
   "display_name": "Python 3",
   "language": "python",
   "name": "python3"
  },
  "language_info": {
   "codemirror_mode": {
    "name": "ipython",
    "version": 3
   },
   "file_extension": ".py",
   "mimetype": "text/x-python",
   "name": "python",
   "nbconvert_exporter": "python",
   "pygments_lexer": "ipython3",
   "version": "3.11.8"
  }
 },
 "nbformat": 4,
 "nbformat_minor": 2
}
