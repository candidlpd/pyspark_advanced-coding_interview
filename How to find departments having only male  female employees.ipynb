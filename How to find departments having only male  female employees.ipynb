{
 "cells": [
  {
   "cell_type": "markdown",
   "metadata": {},
   "source": [
    "# How to find departments having only male / female employees"
   ]
  },
  {
   "cell_type": "code",
   "execution_count": 1,
   "metadata": {},
   "outputs": [
    {
     "data": {
      "text/plain": [
       "'H:\\\\pyspark_advanced-coding_interview'"
      ]
     },
     "execution_count": 1,
     "metadata": {},
     "output_type": "execute_result"
    }
   ],
   "source": [
    "import os\n",
    "os.getcwd()\n",
    "os.chdir(\"H:\\pyspark_advanced-coding_interview\")\n",
    "os.getcwd()"
   ]
  },
  {
   "cell_type": "markdown",
   "metadata": {},
   "source": [
    "# Pysaprk"
   ]
  },
  {
   "cell_type": "code",
   "execution_count": 2,
   "metadata": {},
   "outputs": [
    {
     "name": "stdout",
     "output_type": "stream",
     "text": [
      "+----------+------------+----------+------+\n",
      "|EmployeeID|EmployeeName|Department|Gender|\n",
      "+----------+------------+----------+------+\n",
      "|1         |Alice       |Marketing |Female|\n",
      "|2         |Bob         |Marketing |Male  |\n",
      "|3         |Charlie     |IT        |Male  |\n",
      "|4         |David       |IT        |Male  |\n",
      "|5         |Eve         |HR        |Female|\n",
      "|6         |Frank       |HR        |Male  |\n",
      "|7         |Grace       |Finance   |Female|\n",
      "|8         |Heidi       |Finance   |Female|\n",
      "|9         |Ivan        |Production|Male  |\n",
      "|10        |Judy        |Production|Male  |\n",
      "|11        |Kevin       |Sales     |Male  |\n",
      "|12        |Laura       |Sales     |Female|\n",
      "|13        |Mallory     |Legal     |Female|\n",
      "|14        |Niaj        |Legal     |Female|\n",
      "|15        |Oscar       |Logistics |Male  |\n",
      "+----------+------------+----------+------+\n",
      "\n"
     ]
    }
   ],
   "source": [
    "from pyspark.sql import SparkSession\n",
    "from pyspark.sql.types import StructType, StructField, StringType, IntegerType\n",
    "\n",
    "# Initialize Spark Session\n",
    "spark = SparkSession.builder.appName(\"GenderSpecificDepartments\").getOrCreate()\n",
    "\n",
    "# Define schema and sample data\n",
    "schema = StructType([\n",
    "    StructField(\"EmployeeID\", IntegerType(), True),\n",
    "    StructField(\"EmployeeName\", StringType(), True),\n",
    "    StructField(\"Department\", StringType(), True),\n",
    "    StructField(\"Gender\", StringType(), True)\n",
    "])\n",
    "\n",
    "# Sample data\n",
    "data = [\n",
    "    (1, \"Alice\", \"Marketing\", \"Female\"),\n",
    "    (2, \"Bob\", \"Marketing\", \"Male\"),\n",
    "    (3, \"Charlie\", \"IT\", \"Male\"),\n",
    "    (4, \"David\", \"IT\", \"Male\"),\n",
    "    (5, \"Eve\", \"HR\", \"Female\"),\n",
    "    (6, \"Frank\", \"HR\", \"Male\"),\n",
    "    (7, \"Grace\", \"Finance\", \"Female\"),\n",
    "    (8, \"Heidi\", \"Finance\", \"Female\"),\n",
    "    (9, \"Ivan\", \"Production\", \"Male\"),\n",
    "    (10, \"Judy\", \"Production\", \"Male\"),\n",
    "    (11, \"Kevin\", \"Sales\", \"Male\"),\n",
    "    (12, \"Laura\", \"Sales\", \"Female\"),\n",
    "    (13, \"Mallory\", \"Legal\", \"Female\"),\n",
    "    (14, \"Niaj\", \"Legal\", \"Female\"),\n",
    "    (15, \"Oscar\", \"Logistics\", \"Male\")\n",
    "]\n",
    "\n",
    "# Create DataFrame\n",
    "df = spark.createDataFrame(data, schema)\n",
    "df.show(truncate=False)\n"
   ]
  },
  {
   "cell_type": "code",
   "execution_count": 4,
   "metadata": {},
   "outputs": [
    {
     "name": "stdout",
     "output_type": "stream",
     "text": [
      "+----------+\n",
      "|Department|\n",
      "+----------+\n",
      "|IT        |\n",
      "|Finance   |\n",
      "|Production|\n",
      "|Legal     |\n",
      "|Logistics |\n",
      "+----------+\n",
      "\n"
     ]
    }
   ],
   "source": [
    "from pyspark.sql.functions import countDistinct, col\n",
    "\n",
    "# Count distinct genders in each department\n",
    "department_gender_count = df.groupBy(\"Department\") \\\n",
    "    .agg(countDistinct(\"Gender\").alias(\"GenderCount\"))\n",
    "\n",
    "# Filter departments having only one distinct gender (either all male or all female)\n",
    "single_gender_departments = department_gender_count.filter(col(\"GenderCount\") == 1)\n",
    "\n",
    "# Join back to get gender-specific departments\n",
    "result_df = single_gender_departments.join(df, \"Department\").select(\"Department\").distinct()\n",
    "result_df.show(truncate=False)\n"
   ]
  },
  {
   "cell_type": "code",
   "execution_count": 14,
   "metadata": {},
   "outputs": [
    {
     "name": "stdout",
     "output_type": "stream",
     "text": [
      "+----------+---------+-----------+\n",
      "|Department|MaleCount|FemaleCount|\n",
      "+----------+---------+-----------+\n",
      "|Finance   |0        |1          |\n",
      "|Production|1        |0          |\n",
      "|Legal     |0        |1          |\n",
      "|IT        |1        |0          |\n",
      "|Logistics |1        |0          |\n",
      "+----------+---------+-----------+\n",
      "\n"
     ]
    }
   ],
   "source": [
    "from pyspark.sql.functions import countDistinct, when\n",
    "\n",
    "# Calculate distinct counts of males and females in each department\n",
    "df_gender_count = df.groupBy(\"Department\") \\\n",
    "    .agg(\n",
    "        countDistinct(when(df.Gender == \"Male\", \"EmployeeID\")).alias(\"MaleCount\"),\n",
    "        countDistinct(when(df.Gender == \"Female\", \"EmployeeID\")).alias(\"FemaleCount\")\n",
    "    )\n",
    "\n",
    "# Filter departments that have only males or only females\n",
    "df_only_gender_dept = df_gender_count.filter(\n",
    "    (df_gender_count.MaleCount > 0) & (df_gender_count.FemaleCount == 0) |\n",
    "    (df_gender_count.FemaleCount > 0) & (df_gender_count.MaleCount == 0)\n",
    ")\n",
    "\n",
    "df_only_gender_dept.show(truncate=False)\n"
   ]
  },
  {
   "cell_type": "code",
   "execution_count": 10,
   "metadata": {},
   "outputs": [
    {
     "name": "stdout",
     "output_type": "stream",
     "text": [
      "+----------+--------+\n",
      "|Department|Genders |\n",
      "+----------+--------+\n",
      "|IT        |[Male]  |\n",
      "|Finance   |[Female]|\n",
      "|Production|[Male]  |\n",
      "|Legal     |[Female]|\n",
      "|Logistics |[Male]  |\n",
      "+----------+--------+\n",
      "\n"
     ]
    }
   ],
   "source": [
    "from pyspark.sql.functions import collect_set, size, col\n",
    "\n",
    "# Use collect_set to get a list of unique genders for each department\n",
    "department_gender_set = df.groupBy(\"Department\") \\\n",
    "    .agg(collect_set(\"Gender\").alias(\"Genders\"))\n",
    "\n",
    "# Filter departments with a single gender in the list\n",
    "single_gender_set = department_gender_set.filter(size(col(\"Genders\")) == 1)\n",
    "single_gender_set.show(truncate=False)\n"
   ]
  },
  {
   "cell_type": "markdown",
   "metadata": {},
   "source": [
    "# Spark SQL"
   ]
  },
  {
   "cell_type": "code",
   "execution_count": 3,
   "metadata": {},
   "outputs": [],
   "source": [
    "# Register the DataFrame as a temporary table\n",
    "df.createOrReplaceTempView(\"Employees\")\n"
   ]
  },
  {
   "cell_type": "code",
   "execution_count": 6,
   "metadata": {},
   "outputs": [
    {
     "name": "stdout",
     "output_type": "stream",
     "text": [
      "+----------+\n",
      "|Department|\n",
      "+----------+\n",
      "|Finance   |\n",
      "|Production|\n",
      "|Legal     |\n",
      "|IT        |\n",
      "|Logistics |\n",
      "+----------+\n",
      "\n"
     ]
    }
   ],
   "source": [
    "# SQL Query\n",
    "sql_query = \"\"\"\n",
    "SELECT Department\n",
    "FROM Employees\n",
    "GROUP BY Department\n",
    "HAVING COUNT(DISTINCT Gender) = 1\n",
    "\"\"\"\n",
    "\n",
    "# Execute the query\n",
    "result_sql = spark.sql(sql_query)\n",
    "result_sql.show(truncate=False)\n"
   ]
  },
  {
   "cell_type": "code",
   "execution_count": 11,
   "metadata": {},
   "outputs": [
    {
     "name": "stdout",
     "output_type": "stream",
     "text": [
      "+----------+\n",
      "|Department|\n",
      "+----------+\n",
      "|Finance   |\n",
      "|Production|\n",
      "|Legal     |\n",
      "|IT        |\n",
      "|Logistics |\n",
      "+----------+\n",
      "\n"
     ]
    }
   ],
   "source": [
    "# SQL Query to find departments with only male or only female employees\n",
    "query_gender_based_departments = \"\"\"\n",
    "SELECT Department\n",
    "FROM (\n",
    "    SELECT Department,\n",
    "           COUNT(DISTINCT CASE WHEN Gender = 'Male' THEN 1 END) AS MaleCount,\n",
    "           COUNT(DISTINCT CASE WHEN Gender = 'Female' THEN 1 END) AS FemaleCount\n",
    "    FROM Employees\n",
    "    GROUP BY Department\n",
    ") AS dept_count\n",
    "WHERE (MaleCount > 0 AND FemaleCount = 0) OR (FemaleCount > 0 AND MaleCount = 0)\n",
    "\"\"\"\n",
    "\n",
    "# Execute the query\n",
    "result_gender_dept = spark.sql(query_gender_based_departments)\n",
    "result_gender_dept.show(truncate=False)\n"
   ]
  },
  {
   "cell_type": "code",
   "execution_count": 12,
   "metadata": {},
   "outputs": [
    {
     "name": "stdout",
     "output_type": "stream",
     "text": [
      "+----------+\n",
      "|Department|\n",
      "+----------+\n",
      "|Logistics |\n",
      "+----------+\n",
      "\n"
     ]
    }
   ],
   "source": [
    "# SQL Query using HAVING clause\n",
    "query_having = \"\"\"\n",
    "SELECT Department\n",
    "FROM Employees\n",
    "GROUP BY Department\n",
    "HAVING COUNT(DISTINCT CASE WHEN Gender = 'Male' THEN 1 END) = COUNT(EmployeeID)\n",
    "    OR COUNT(DISTINCT CASE WHEN Gender = 'Female' THEN 1 END) = COUNT(EmployeeID)\n",
    "\"\"\"\n",
    "\n",
    "# Execute the query\n",
    "result_having = spark.sql(query_having)\n",
    "result_having.show(truncate=False)\n"
   ]
  },
  {
   "cell_type": "code",
   "execution_count": 13,
   "metadata": {},
   "outputs": [
    {
     "name": "stdout",
     "output_type": "stream",
     "text": [
      "+----------+\n",
      "|Department|\n",
      "+----------+\n",
      "|Production|\n",
      "|IT        |\n",
      "|Logistics |\n",
      "|Finance   |\n",
      "|Legal     |\n",
      "+----------+\n",
      "\n"
     ]
    }
   ],
   "source": [
    "# SQL Query using EXISTS and NOT EXISTS\n",
    "query_exists = \"\"\"\n",
    "SELECT DISTINCT a.Department\n",
    "FROM Employees a\n",
    "WHERE EXISTS (\n",
    "    SELECT 1 FROM Employees b WHERE a.Department = b.Department AND b.Gender = 'Male'\n",
    ")\n",
    "AND NOT EXISTS (\n",
    "    SELECT 1 FROM Employees c WHERE a.Department = c.Department AND c.Gender = 'Female'\n",
    ")\n",
    "UNION\n",
    "SELECT DISTINCT a.Department\n",
    "FROM Employees a\n",
    "WHERE EXISTS (\n",
    "    SELECT 1 FROM Employees b WHERE a.Department = b.Department AND b.Gender = 'Female'\n",
    ")\n",
    "AND NOT EXISTS (\n",
    "    SELECT 1 FROM Employees c WHERE a.Department = c.Department AND c.Gender = 'Male'\n",
    ")\n",
    "\"\"\"\n",
    "\n",
    "# Execute the query\n",
    "result_exists = spark.sql(query_exists)\n",
    "result_exists.show(truncate=False)\n"
   ]
  },
  {
   "cell_type": "code",
   "execution_count": 7,
   "metadata": {},
   "outputs": [
    {
     "name": "stdout",
     "output_type": "stream",
     "text": [
      "+----------+\n",
      "|Department|\n",
      "+----------+\n",
      "|IT        |\n",
      "|Finance   |\n",
      "|Production|\n",
      "|Legal     |\n",
      "|Logistics |\n",
      "+----------+\n",
      "\n"
     ]
    }
   ],
   "source": [
    "# SQL Query using COLLECT_SET equivalent in SQL\n",
    "sql_query_collect_set = \"\"\"\n",
    "SELECT Department\n",
    "FROM (\n",
    "    SELECT Department, COLLECT_SET(Gender) AS Genders\n",
    "    FROM Employees\n",
    "    GROUP BY Department\n",
    ") AS DepartmentGender\n",
    "WHERE SIZE(Genders) = 1\n",
    "\"\"\"\n",
    "\n",
    "# Execute the query\n",
    "result_collect_set_sql = spark.sql(sql_query_collect_set)\n",
    "result_collect_set_sql.show(truncate=False)\n"
   ]
  },
  {
   "cell_type": "markdown",
   "metadata": {},
   "source": [
    "# Python"
   ]
  },
  {
   "cell_type": "code",
   "execution_count": 8,
   "metadata": {},
   "outputs": [
    {
     "name": "stdout",
     "output_type": "stream",
     "text": [
      "0       Finance\n",
      "2            IT\n",
      "3         Legal\n",
      "4     Logistics\n",
      "6    Production\n",
      "Name: Department, dtype: object\n"
     ]
    }
   ],
   "source": [
    "import pandas as pd\n",
    "\n",
    "# Create pandas DataFrame\n",
    "data = [\n",
    "    (1, \"Alice\", \"Marketing\", \"Female\"),\n",
    "    (2, \"Bob\", \"Marketing\", \"Male\"),\n",
    "    (3, \"Charlie\", \"IT\", \"Male\"),\n",
    "    (4, \"David\", \"IT\", \"Male\"),\n",
    "    (5, \"Eve\", \"HR\", \"Female\"),\n",
    "    (6, \"Frank\", \"HR\", \"Male\"),\n",
    "    (7, \"Grace\", \"Finance\", \"Female\"),\n",
    "    (8, \"Heidi\", \"Finance\", \"Female\"),\n",
    "    (9, \"Ivan\", \"Production\", \"Male\"),\n",
    "    (10, \"Judy\", \"Production\", \"Male\"),\n",
    "    (11, \"Kevin\", \"Sales\", \"Male\"),\n",
    "    (12, \"Laura\", \"Sales\", \"Female\"),\n",
    "    (13, \"Mallory\", \"Legal\", \"Female\"),\n",
    "    (14, \"Niaj\", \"Legal\", \"Female\"),\n",
    "    (15, \"Oscar\", \"Logistics\", \"Male\")\n",
    "]\n",
    "\n",
    "# Convert to pandas DataFrame\n",
    "df_pandas = pd.DataFrame(data, columns=[\"EmployeeID\", \"EmployeeName\", \"Department\", \"Gender\"])\n",
    "\n",
    "# Group by Department and get unique Gender counts\n",
    "gender_count = df_pandas.groupby(\"Department\")[\"Gender\"].nunique().reset_index()\n",
    "single_gender_departments = gender_count[gender_count[\"Gender\"] == 1][\"Department\"]\n",
    "print(single_gender_departments)\n"
   ]
  },
  {
   "cell_type": "code",
   "execution_count": 9,
   "metadata": {},
   "outputs": [
    {
     "name": "stdout",
     "output_type": "stream",
     "text": [
      "['IT', 'Finance', 'Production', 'Legal', 'Logistics']\n"
     ]
    }
   ],
   "source": [
    "# Create dictionary to store departments with genders\n",
    "department_dict = {}\n",
    "\n",
    "for row in data:\n",
    "    department = row[2]\n",
    "    gender = row[3]\n",
    "    if department not in department_dict:\n",
    "        department_dict[department] = set()\n",
    "    department_dict[department].add(gender)\n",
    "\n",
    "# Identify departments with only one unique gender\n",
    "single_gender_departments = [dept for dept, genders in department_dict.items() if len(genders) == 1]\n",
    "print(single_gender_departments)\n"
   ]
  },
  {
   "cell_type": "code",
   "execution_count": null,
   "metadata": {},
   "outputs": [],
   "source": []
  }
 ],
 "metadata": {
  "kernelspec": {
   "display_name": "Python 3",
   "language": "python",
   "name": "python3"
  },
  "language_info": {
   "codemirror_mode": {
    "name": "ipython",
    "version": 3
   },
   "file_extension": ".py",
   "mimetype": "text/x-python",
   "name": "python",
   "nbconvert_exporter": "python",
   "pygments_lexer": "ipython3",
   "version": "3.11.8"
  }
 },
 "nbformat": 4,
 "nbformat_minor": 2
}
