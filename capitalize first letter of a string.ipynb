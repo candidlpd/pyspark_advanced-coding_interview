{
 "cells": [
  {
   "cell_type": "code",
   "execution_count": 1,
   "metadata": {},
   "outputs": [
    {
     "data": {
      "text/plain": [
       "'H:\\\\pyspark_advanced-coding_interview'"
      ]
     },
     "execution_count": 1,
     "metadata": {},
     "output_type": "execute_result"
    }
   ],
   "source": [
    "import os\n",
    "os.getcwd()\n",
    "os.chdir(\"H:\\pyspark_advanced-coding_interview\")\n",
    "os.getcwd()"
   ]
  },
  {
   "cell_type": "code",
   "execution_count": 2,
   "metadata": {},
   "outputs": [
    {
     "name": "stdout",
     "output_type": "stream",
     "text": [
      "+-------+\n",
      "|   Name|\n",
      "+-------+\n",
      "|  alice|\n",
      "|    bob|\n",
      "|charlie|\n",
      "|  david|\n",
      "|    eve|\n",
      "|  frank|\n",
      "|  grace|\n",
      "|  heidi|\n",
      "|   ivan|\n",
      "|   judy|\n",
      "|mallory|\n",
      "|  oscar|\n",
      "|  peggy|\n",
      "|  trent|\n",
      "| victor|\n",
      "+-------+\n",
      "\n"
     ]
    }
   ],
   "source": [
    "from pyspark.sql import SparkSession\n",
    "from pyspark.sql.types import StructType, StructField, StringType\n",
    "\n",
    "# Initialize Spark Session\n",
    "spark = SparkSession.builder.appName(\"CapitalizeFirstLetter\").getOrCreate()\n",
    "\n",
    "# Define schema using StructType and StructField\n",
    "schema = StructType([\n",
    "    StructField(\"Name\", StringType(), True)\n",
    "])\n",
    "\n",
    "# Sample data (unformatted names)\n",
    "data = [\n",
    "    (\"alice\",),\n",
    "    (\"bob\",),\n",
    "    (\"charlie\",),\n",
    "    (\"david\",),\n",
    "    (\"eve\",),\n",
    "    (\"frank\",),\n",
    "    (\"grace\",),\n",
    "    (\"heidi\",),\n",
    "    (\"ivan\",),\n",
    "    (\"judy\",),\n",
    "    (\"mallory\",),\n",
    "    (\"oscar\",),\n",
    "    (\"peggy\",),\n",
    "    (\"trent\",),\n",
    "    (\"victor\",)\n",
    "]\n",
    "\n",
    "# Create DataFrame\n",
    "df = spark.createDataFrame(data, schema)\n",
    "df.show()\n"
   ]
  },
  {
   "cell_type": "markdown",
   "metadata": {},
   "source": [
    "# Pyspark"
   ]
  },
  {
   "cell_type": "code",
   "execution_count": 3,
   "metadata": {},
   "outputs": [
    {
     "name": "stdout",
     "output_type": "stream",
     "text": [
      "+-------+---------------+\n",
      "|   Name|CapitalizedName|\n",
      "+-------+---------------+\n",
      "|  alice|          Alice|\n",
      "|    bob|            Bob|\n",
      "|charlie|        Charlie|\n",
      "|  david|          David|\n",
      "|    eve|            Eve|\n",
      "|  frank|          Frank|\n",
      "|  grace|          Grace|\n",
      "|  heidi|          Heidi|\n",
      "|   ivan|           Ivan|\n",
      "|   judy|           Judy|\n",
      "|mallory|        Mallory|\n",
      "|  oscar|          Oscar|\n",
      "|  peggy|          Peggy|\n",
      "|  trent|          Trent|\n",
      "| victor|         Victor|\n",
      "+-------+---------------+\n",
      "\n"
     ]
    }
   ],
   "source": [
    "from pyspark.sql.functions import initcap\n",
    "\n",
    "# Use initcap to capitalize the first letter\n",
    "capitalized_df = df.withColumn(\"CapitalizedName\", initcap(\"Name\"))\n",
    "capitalized_df.show()\n"
   ]
  },
  {
   "cell_type": "code",
   "execution_count": 4,
   "metadata": {},
   "outputs": [
    {
     "name": "stdout",
     "output_type": "stream",
     "text": [
      "+-------+---------------------+\n",
      "|   Name|CustomCapitalizedName|\n",
      "+-------+---------------------+\n",
      "|  alice|                Alice|\n",
      "|    bob|                  Bob|\n",
      "|charlie|              Charlie|\n",
      "|  david|                David|\n",
      "|    eve|                  Eve|\n",
      "|  frank|                Frank|\n",
      "|  grace|                Grace|\n",
      "|  heidi|                Heidi|\n",
      "|   ivan|                 Ivan|\n",
      "|   judy|                 Judy|\n",
      "|mallory|              Mallory|\n",
      "|  oscar|                Oscar|\n",
      "|  peggy|                Peggy|\n",
      "|  trent|                Trent|\n",
      "| victor|               Victor|\n",
      "+-------+---------------------+\n",
      "\n"
     ]
    }
   ],
   "source": [
    "from pyspark.sql.functions import upper, substring, concat\n",
    "\n",
    "# Capitalize the first letter using upper and substring\n",
    "custom_capitalized_df = df.withColumn(\n",
    "    \"CustomCapitalizedName\", \n",
    "    concat(upper(substring(\"Name\", 1, 1)), substring(\"Name\", 2, 100))\n",
    ")\n",
    "\n",
    "custom_capitalized_df.show()\n"
   ]
  },
  {
   "cell_type": "code",
   "execution_count": 7,
   "metadata": {},
   "outputs": [
    {
     "name": "stdout",
     "output_type": "stream",
     "text": [
      "+-------+------------------+\n",
      "|   Name|UDFCapitalizedName|\n",
      "+-------+------------------+\n",
      "|  alice|             Alice|\n",
      "|    bob|               Bob|\n",
      "|charlie|           Charlie|\n",
      "|  david|             David|\n",
      "|    eve|               Eve|\n",
      "|  frank|             Frank|\n",
      "|  grace|             Grace|\n",
      "|  heidi|             Heidi|\n",
      "|   ivan|              Ivan|\n",
      "|   judy|              Judy|\n",
      "|mallory|           Mallory|\n",
      "|  oscar|             Oscar|\n",
      "|  peggy|             Peggy|\n",
      "|  trent|             Trent|\n",
      "| victor|            Victor|\n",
      "+-------+------------------+\n",
      "\n"
     ]
    }
   ],
   "source": [
    "from pyspark.sql.functions import udf\n",
    "from pyspark.sql.types import StringType\n",
    "\n",
    "# Define a custom function\n",
    "def capitalize_first_letter(name):\n",
    "    if name:\n",
    "        return name[0].upper() + name[1:]\n",
    "    return name\n",
    "\n",
    "# Register the function as a UDF\n",
    "capitalize_udf = udf(capitalize_first_letter, StringType())\n",
    "\n",
    "# Apply the UDF to capitalize the first letter\n",
    "udf_capitalized_df = df.withColumn(\"UDFCapitalizedName\", capitalize_udf(\"Name\"))\n",
    "udf_capitalized_df.show()\n"
   ]
  },
  {
   "cell_type": "code",
   "execution_count": 5,
   "metadata": {},
   "outputs": [
    {
     "name": "stdout",
     "output_type": "stream",
     "text": [
      "+-------+-------------------+\n",
      "|   Name|ExprCapitalizedName|\n",
      "+-------+-------------------+\n",
      "|  alice|              Alice|\n",
      "|    bob|                Bob|\n",
      "|charlie|            Charlie|\n",
      "|  david|              David|\n",
      "|    eve|                Eve|\n",
      "|  frank|              Frank|\n",
      "|  grace|              Grace|\n",
      "|  heidi|              Heidi|\n",
      "|   ivan|               Ivan|\n",
      "|   judy|               Judy|\n",
      "|mallory|            Mallory|\n",
      "|  oscar|              Oscar|\n",
      "|  peggy|              Peggy|\n",
      "|  trent|              Trent|\n",
      "| victor|             Victor|\n",
      "+-------+-------------------+\n",
      "\n"
     ]
    }
   ],
   "source": [
    "from pyspark.sql.functions import expr\n",
    "\n",
    "# Use expr to capitalize the first letter\n",
    "expr_capitalized_df = df.withColumn(\n",
    "    \"ExprCapitalizedName\", \n",
    "    expr(\"concat(upper(substring(Name, 1, 1)), substring(Name, 2, length(Name) - 1))\")\n",
    ")\n",
    "\n",
    "expr_capitalized_df.show()\n"
   ]
  },
  {
   "cell_type": "markdown",
   "metadata": {},
   "source": [
    "# Spark SQL"
   ]
  },
  {
   "cell_type": "code",
   "execution_count": 6,
   "metadata": {},
   "outputs": [
    {
     "name": "stdout",
     "output_type": "stream",
     "text": [
      "+-------+------------------+\n",
      "|   Name|SQLCapitalizedName|\n",
      "+-------+------------------+\n",
      "|  alice|             Alice|\n",
      "|    bob|               Bob|\n",
      "|charlie|           Charlie|\n",
      "|  david|             David|\n",
      "|    eve|               Eve|\n",
      "|  frank|             Frank|\n",
      "|  grace|             Grace|\n",
      "|  heidi|             Heidi|\n",
      "|   ivan|              Ivan|\n",
      "|   judy|              Judy|\n",
      "|mallory|           Mallory|\n",
      "|  oscar|             Oscar|\n",
      "|  peggy|             Peggy|\n",
      "|  trent|             Trent|\n",
      "| victor|            Victor|\n",
      "+-------+------------------+\n",
      "\n"
     ]
    }
   ],
   "source": [
    "# Register the DataFrame as a temporary table\n",
    "df.createOrReplaceTempView(\"Names\")\n",
    "\n",
    "# SQL Query to capitalize the first letter\n",
    "query_sql = \"\"\"\n",
    "SELECT Name, \n",
    "       CONCAT(UPPER(SUBSTRING(Name, 1, 1)), SUBSTRING(Name, 2, LENGTH(Name) - 1)) AS SQLCapitalizedName\n",
    "FROM Names\n",
    "\"\"\"\n",
    "\n",
    "# Execute the query\n",
    "sql_capitalized_df = spark.sql(query_sql)\n",
    "sql_capitalized_df.show()\n"
   ]
  },
  {
   "cell_type": "markdown",
   "metadata": {},
   "source": [
    "# Python"
   ]
  },
  {
   "cell_type": "code",
   "execution_count": 8,
   "metadata": {},
   "outputs": [
    {
     "name": "stdout",
     "output_type": "stream",
     "text": [
      "Alice\n"
     ]
    }
   ],
   "source": [
    "# Example string\n",
    "name = \"alice\"\n",
    "\n",
    "# Capitalize using str.capitalize()\n",
    "capitalized_name = name.capitalize()\n",
    "print(capitalized_name)  # Output: Alice\n"
   ]
  },
  {
   "cell_type": "code",
   "execution_count": 9,
   "metadata": {},
   "outputs": [
    {
     "name": "stdout",
     "output_type": "stream",
     "text": [
      "John Doe\n"
     ]
    }
   ],
   "source": [
    "# Example string\n",
    "full_name = \"john doe\"\n",
    "\n",
    "# Capitalize using str.title()\n",
    "capitalized_full_name = full_name.title()\n",
    "print(capitalized_full_name)  # Output: John Doe\n"
   ]
  },
  {
   "cell_type": "code",
   "execution_count": 10,
   "metadata": {},
   "outputs": [
    {
     "name": "stdout",
     "output_type": "stream",
     "text": [
      "Python programming\n"
     ]
    }
   ],
   "source": [
    "# Example string\n",
    "sentence = \"python programming\"\n",
    "\n",
    "# Capitalize first letter using slicing\n",
    "capitalized_sentence = sentence[0].upper() + sentence[1:]\n",
    "print(capitalized_sentence)  # Output: Python programming\n"
   ]
  },
  {
   "cell_type": "code",
   "execution_count": 11,
   "metadata": {},
   "outputs": [
    {
     "name": "stdout",
     "output_type": "stream",
     "text": [
      "Hello World, Welcome To Python\n"
     ]
    }
   ],
   "source": [
    "import string\n",
    "\n",
    "# Example string\n",
    "phrase = \"hello world, welcome to python\"\n",
    "\n",
    "# Capitalize each word using string.capwords()\n",
    "capitalized_phrase = string.capwords(phrase)\n",
    "print(capitalized_phrase)  # Output: Hello World, Welcome To Python\n"
   ]
  },
  {
   "cell_type": "code",
   "execution_count": 12,
   "metadata": {},
   "outputs": [
    {
     "name": "stdout",
     "output_type": "stream",
     "text": [
      "This is an example using regular expressions.\n"
     ]
    }
   ],
   "source": [
    "import re\n",
    "\n",
    "# Example string\n",
    "text = \"this is an example using regular expressions.\"\n",
    "\n",
    "# Capitalize first letter of the sentence using re.sub\n",
    "capitalized_text = re.sub(r'^\\w', lambda x: x.group().upper(), text)\n",
    "print(capitalized_text)  # Output: This is an example using regular expressions.\n"
   ]
  },
  {
   "cell_type": "code",
   "execution_count": 13,
   "metadata": {},
   "outputs": [
    {
     "name": "stdout",
     "output_type": "stream",
     "text": [
      "['John', 'Jane', 'Doe', 'Smith']\n"
     ]
    }
   ],
   "source": [
    "# Example list of names\n",
    "names = [\"john\", \"jane\", \"doe\", \"smith\"]\n",
    "\n",
    "# Capitalize each name in the list\n",
    "capitalized_names = [name.capitalize() for name in names]\n",
    "print(capitalized_names)  # Output: ['John', 'Jane', 'Doe', 'Smith']\n"
   ]
  },
  {
   "cell_type": "code",
   "execution_count": null,
   "metadata": {},
   "outputs": [],
   "source": []
  }
 ],
 "metadata": {
  "kernelspec": {
   "display_name": "Python 3",
   "language": "python",
   "name": "python3"
  },
  "language_info": {
   "codemirror_mode": {
    "name": "ipython",
    "version": 3
   },
   "file_extension": ".py",
   "mimetype": "text/x-python",
   "name": "python",
   "nbconvert_exporter": "python",
   "pygments_lexer": "ipython3",
   "version": "3.11.8"
  }
 },
 "nbformat": 4,
 "nbformat_minor": 2
}
