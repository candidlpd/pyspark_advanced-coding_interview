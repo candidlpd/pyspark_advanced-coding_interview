{
 "cells": [
  {
   "cell_type": "markdown",
   "metadata": {},
   "source": [
    "# find employees retiring at the end of the month"
   ]
  },
  {
   "cell_type": "code",
   "execution_count": 1,
   "metadata": {},
   "outputs": [
    {
     "data": {
      "text/plain": [
       "'H:\\\\pyspark_advanced-coding_interview'"
      ]
     },
     "execution_count": 1,
     "metadata": {},
     "output_type": "execute_result"
    }
   ],
   "source": [
    "import os\n",
    "os.getcwd()\n",
    "os.chdir(\"H:\\pyspark_advanced-coding_interview\")\n",
    "os.getcwd()"
   ]
  },
  {
   "cell_type": "code",
   "execution_count": 2,
   "metadata": {},
   "outputs": [
    {
     "name": "stdout",
     "output_type": "stream",
     "text": [
      "+----------+------------+----------+--------------+\n",
      "|EmployeeID|EmployeeName|Department|RetirementDate|\n",
      "+----------+------------+----------+--------------+\n",
      "|         1|       Alice|        HR|    2024-10-31|\n",
      "|         2|         Bob|        IT|    2024-10-15|\n",
      "|         3|     Charlie|   Finance|    2024-11-30|\n",
      "|         4|       David|        HR|    2024-10-31|\n",
      "|         5|         Eve|        IT|    2024-12-31|\n",
      "|         6|       Frank|   Finance|    2024-11-15|\n",
      "|         7|       Grace|     Sales|    2024-10-31|\n",
      "|         8|       Heidi| Marketing|    2024-10-25|\n",
      "|         9|        Ivan|        IT|    2024-12-31|\n",
      "|        10|        Judy|     Sales|    2024-10-31|\n",
      "|        11|       Kevin| Marketing|    2024-11-30|\n",
      "|        12|       Laura|   Finance|    2024-12-25|\n",
      "|        13|     Mallory|        HR|    2024-10-31|\n",
      "|        14|        Niaj|        IT|    2024-10-30|\n",
      "|        15|       Oscar|     Sales|    2024-11-30|\n",
      "+----------+------------+----------+--------------+\n",
      "\n"
     ]
    }
   ],
   "source": [
    "from pyspark.sql import SparkSession\n",
    "from pyspark.sql.types import StructType, StructField, IntegerType, StringType, DateType\n",
    "from datetime import datetime\n",
    "\n",
    "# Initialize Spark Session\n",
    "spark = SparkSession.builder.appName(\"EmployeesRetiringEndOfMonth\").getOrCreate()\n",
    "\n",
    "# Define schema using StructType and StructField\n",
    "schema = StructType([\n",
    "    StructField(\"EmployeeID\", IntegerType(), True),\n",
    "    StructField(\"EmployeeName\", StringType(), True),\n",
    "    StructField(\"Department\", StringType(), True),\n",
    "    StructField(\"RetirementDate\", DateType(), True)\n",
    "])\n",
    "\n",
    "# Sample data (EmployeeID, EmployeeName, Department, RetirementDate)\n",
    "data = [\n",
    "    (1, \"Alice\", \"HR\", datetime.strptime(\"2024-10-31\", \"%Y-%m-%d\").date()),\n",
    "    (2, \"Bob\", \"IT\", datetime.strptime(\"2024-10-15\", \"%Y-%m-%d\").date()),\n",
    "    (3, \"Charlie\", \"Finance\", datetime.strptime(\"2024-11-30\", \"%Y-%m-%d\").date()),\n",
    "    (4, \"David\", \"HR\", datetime.strptime(\"2024-10-31\", \"%Y-%m-%d\").date()),\n",
    "    (5, \"Eve\", \"IT\", datetime.strptime(\"2024-12-31\", \"%Y-%m-%d\").date()),\n",
    "    (6, \"Frank\", \"Finance\", datetime.strptime(\"2024-11-15\", \"%Y-%m-%d\").date()),\n",
    "    (7, \"Grace\", \"Sales\", datetime.strptime(\"2024-10-31\", \"%Y-%m-%d\").date()),\n",
    "    (8, \"Heidi\", \"Marketing\", datetime.strptime(\"2024-10-25\", \"%Y-%m-%d\").date()),\n",
    "    (9, \"Ivan\", \"IT\", datetime.strptime(\"2024-12-31\", \"%Y-%m-%d\").date()),\n",
    "    (10, \"Judy\", \"Sales\", datetime.strptime(\"2024-10-31\", \"%Y-%m-%d\").date()),\n",
    "    (11, \"Kevin\", \"Marketing\", datetime.strptime(\"2024-11-30\", \"%Y-%m-%d\").date()),\n",
    "    (12, \"Laura\", \"Finance\", datetime.strptime(\"2024-12-25\", \"%Y-%m-%d\").date()),\n",
    "    (13, \"Mallory\", \"HR\", datetime.strptime(\"2024-10-31\", \"%Y-%m-%d\").date()),\n",
    "    (14, \"Niaj\", \"IT\", datetime.strptime(\"2024-10-30\", \"%Y-%m-%d\").date()),\n",
    "    (15, \"Oscar\", \"Sales\", datetime.strptime(\"2024-11-30\", \"%Y-%m-%d\").date())\n",
    "]\n",
    "\n",
    "# Create DataFrame\n",
    "df = spark.createDataFrame(data, schema)\n",
    "df.show()\n"
   ]
  },
  {
   "cell_type": "code",
   "execution_count": 3,
   "metadata": {},
   "outputs": [
    {
     "name": "stdout",
     "output_type": "stream",
     "text": [
      "+----------+------------+----------+----------+\n",
      "|EmployeeID|EmployeeName|Department| BirthDate|\n",
      "+----------+------------+----------+----------+\n",
      "|         1|       Alice|        HR|1959-10-25|\n",
      "|         2|         Bob|        IT|1958-11-15|\n",
      "|         3|     Charlie|   Finance|1960-10-01|\n",
      "|         4|       David|        IT|1958-10-30|\n",
      "|         5|         Eve| Marketing|1961-09-20|\n",
      "|         6|       Frank|        HR|1959-11-28|\n",
      "|         7|       Grace|        IT|1960-12-10|\n",
      "|         8|       Heidi|   Finance|1958-11-05|\n",
      "|         9|        Ivan| Marketing|1959-10-25|\n",
      "|        10|        Judy|        HR|1958-10-30|\n",
      "|        11|       Kevin|        IT|1961-08-30|\n",
      "|        12|       Laura|     Sales|1958-11-18|\n",
      "|        13|     Mallory|     Sales|1960-12-21|\n",
      "|        14|        Niaj|   Finance|1959-11-15|\n",
      "|        15|       Oscar|        IT|1961-09-01|\n",
      "+----------+------------+----------+----------+\n",
      "\n"
     ]
    }
   ],
   "source": [
    "from pyspark.sql import SparkSession\n",
    "from pyspark.sql.types import StructType, StructField, IntegerType, StringType, DateType\n",
    "from datetime import datetime\n",
    "\n",
    "# Initialize Spark Session\n",
    "spark = SparkSession.builder.appName(\"RetirementCalculation\").getOrCreate()\n",
    "\n",
    "# Define schema using StructType and StructField\n",
    "schema = StructType([\n",
    "    StructField(\"EmployeeID\", IntegerType(), True),\n",
    "    StructField(\"EmployeeName\", StringType(), True),\n",
    "    StructField(\"Department\", StringType(), True),\n",
    "    StructField(\"BirthDate\", DateType(), True)\n",
    "])\n",
    "\n",
    "# Sample data (EmployeeID, EmployeeName, Department, BirthDate)\n",
    "data = [\n",
    "    (1, \"Alice\", \"HR\", datetime.strptime(\"1959-10-25\", \"%Y-%m-%d\").date()),\n",
    "    (2, \"Bob\", \"IT\", datetime.strptime(\"1958-11-15\", \"%Y-%m-%d\").date()),\n",
    "    (3, \"Charlie\", \"Finance\", datetime.strptime(\"1960-10-01\", \"%Y-%m-%d\").date()),\n",
    "    (4, \"David\", \"IT\", datetime.strptime(\"1958-10-30\", \"%Y-%m-%d\").date()),\n",
    "    (5, \"Eve\", \"Marketing\", datetime.strptime(\"1961-09-20\", \"%Y-%m-%d\").date()),\n",
    "    (6, \"Frank\", \"HR\", datetime.strptime(\"1959-11-28\", \"%Y-%m-%d\").date()),\n",
    "    (7, \"Grace\", \"IT\", datetime.strptime(\"1960-12-10\", \"%Y-%m-%d\").date()),\n",
    "    (8, \"Heidi\", \"Finance\", datetime.strptime(\"1958-11-05\", \"%Y-%m-%d\").date()),\n",
    "    (9, \"Ivan\", \"Marketing\", datetime.strptime(\"1959-10-25\", \"%Y-%m-%d\").date()),\n",
    "    (10, \"Judy\", \"HR\", datetime.strptime(\"1958-10-30\", \"%Y-%m-%d\").date()),\n",
    "    (11, \"Kevin\", \"IT\", datetime.strptime(\"1961-08-30\", \"%Y-%m-%d\").date()),\n",
    "    (12, \"Laura\", \"Sales\", datetime.strptime(\"1958-11-18\", \"%Y-%m-%d\").date()),\n",
    "    (13, \"Mallory\", \"Sales\", datetime.strptime(\"1960-12-21\", \"%Y-%m-%d\").date()),\n",
    "    (14, \"Niaj\", \"Finance\", datetime.strptime(\"1959-11-15\", \"%Y-%m-%d\").date()),\n",
    "    (15, \"Oscar\", \"IT\", datetime.strptime(\"1961-09-01\", \"%Y-%m-%d\").date())\n",
    "]\n",
    "\n",
    "# Create DataFrame\n",
    "df = spark.createDataFrame(data, schema)\n",
    "df.show()\n"
   ]
  },
  {
   "cell_type": "code",
   "execution_count": 4,
   "metadata": {},
   "outputs": [],
   "source": [
    "# Register the DataFrame as a temporary table\n",
    "df.createOrReplaceTempView(\"Employees\")\n"
   ]
  },
  {
   "cell_type": "markdown",
   "metadata": {},
   "source": [
    "# Pyspark"
   ]
  },
  {
   "cell_type": "code",
   "execution_count": 8,
   "metadata": {},
   "outputs": [
    {
     "name": "stdout",
     "output_type": "stream",
     "text": [
      "+----------+------------+----------+---------+--------------+\n",
      "|EmployeeID|EmployeeName|Department|BirthDate|RetirementDate|\n",
      "+----------+------------+----------+---------+--------------+\n",
      "+----------+------------+----------+---------+--------------+\n",
      "\n"
     ]
    }
   ],
   "source": [
    "from pyspark.sql.functions import year, month, dayofmonth\n",
    "\n",
    "# Calculate Retirement Date\n",
    "retirement_df = df.withColumn(\"RetirementDate\", add_months(df[\"BirthDate\"], 60 * 12))\n",
    "\n",
    "# Extract year, month, and day of the last day of the current month\n",
    "current_year = year(last_day(current_date()))\n",
    "current_month = month(last_day(current_date()))\n",
    "current_day = dayofmonth(last_day(current_date()))\n",
    "\n",
    "# Find employees retiring at the end of the current month\n",
    "retiring_employees_specific = retirement_df.filter(\n",
    "    (year(\"RetirementDate\") == current_year) & \n",
    "    (month(\"RetirementDate\") == current_month) & \n",
    "    (dayofmonth(\"RetirementDate\") == current_day)\n",
    ")\n",
    "retiring_employees_specific.show(truncate=False)\n"
   ]
  },
  {
   "cell_type": "code",
   "execution_count": 5,
   "metadata": {},
   "outputs": [
    {
     "name": "stdout",
     "output_type": "stream",
     "text": [
      "+----------+------------+----------+---------+--------------+\n",
      "|EmployeeID|EmployeeName|Department|BirthDate|RetirementDate|\n",
      "+----------+------------+----------+---------+--------------+\n",
      "+----------+------------+----------+---------+--------------+\n",
      "\n"
     ]
    }
   ],
   "source": [
    "from pyspark.sql.functions import expr, add_months, last_day, current_date, date_format\n",
    "\n",
    "# Add 65 years to BirthDate to get RetirementDate\n",
    "retirement_df = df.withColumn(\"RetirementDate\", add_months(df[\"BirthDate\"], 65 * 12))\n",
    "\n",
    "# Find employees retiring at the end of the current month\n",
    "end_of_month = date_format(last_day(current_date()), \"yyyy-MM-dd\")\n",
    "retiring_employees = retirement_df.filter(date_format(\"RetirementDate\", \"yyyy-MM-dd\") == end_of_month)\n",
    "retiring_employees.show(truncate=False)\n"
   ]
  },
  {
   "cell_type": "markdown",
   "metadata": {},
   "source": [
    "# Spark SQL"
   ]
  },
  {
   "cell_type": "code",
   "execution_count": 6,
   "metadata": {},
   "outputs": [
    {
     "name": "stdout",
     "output_type": "stream",
     "text": [
      "+----------+------------+----------+---------+--------------+\n",
      "|EmployeeID|EmployeeName|Department|BirthDate|RetirementDate|\n",
      "+----------+------------+----------+---------+--------------+\n",
      "+----------+------------+----------+---------+--------------+\n",
      "\n"
     ]
    }
   ],
   "source": [
    "# SQL Query to find employees retiring at the end of the month\n",
    "sql_query = \"\"\"\n",
    "SELECT EmployeeID, EmployeeName, Department, BirthDate, \n",
    "       ADD_MONTHS(BirthDate, 65 * 12) AS RetirementDate\n",
    "FROM Employees\n",
    "WHERE DATE_FORMAT(ADD_MONTHS(BirthDate, 65 * 12), 'yyyy-MM-dd') = DATE_FORMAT(LAST_DAY(CURRENT_DATE()), 'yyyy-MM-dd')\n",
    "\"\"\"\n",
    "\n",
    "# Execute the query\n",
    "retiring_employees_sql = spark.sql(sql_query)\n",
    "retiring_employees_sql.show(truncate=False)\n"
   ]
  },
  {
   "cell_type": "markdown",
   "metadata": {},
   "source": [
    "#  Python"
   ]
  },
  {
   "cell_type": "code",
   "execution_count": 16,
   "metadata": {},
   "outputs": [
    {
     "name": "stdout",
     "output_type": "stream",
     "text": [
      "Collecting pandas\n",
      "  Downloading pandas-2.2.3-cp311-cp311-win_amd64.whl.metadata (19 kB)\n",
      "Collecting numpy>=1.23.2 (from pandas)\n",
      "  Downloading numpy-2.1.2-cp311-cp311-win_amd64.whl.metadata (59 kB)\n",
      "Requirement already satisfied: python-dateutil>=2.8.2 in c:\\users\\lpdda\\appdata\\roaming\\python\\python311\\site-packages (from pandas) (2.9.0.post0)\n",
      "Collecting pytz>=2020.1 (from pandas)\n",
      "  Downloading pytz-2024.2-py2.py3-none-any.whl.metadata (22 kB)\n",
      "Collecting tzdata>=2022.7 (from pandas)\n",
      "  Downloading tzdata-2024.2-py2.py3-none-any.whl.metadata (1.4 kB)\n",
      "Requirement already satisfied: six>=1.5 in c:\\users\\lpdda\\appdata\\roaming\\python\\python311\\site-packages (from python-dateutil>=2.8.2->pandas) (1.16.0)\n",
      "Downloading pandas-2.2.3-cp311-cp311-win_amd64.whl (11.6 MB)\n",
      "   ---------------------------------------- 0.0/11.6 MB ? eta -:--:--\n",
      "   ----------------- ---------------------- 5.0/11.6 MB 30.2 MB/s eta 0:00:01\n",
      "   ---------------------------------------- 11.6/11.6 MB 42.8 MB/s eta 0:00:00\n",
      "Downloading numpy-2.1.2-cp311-cp311-win_amd64.whl (12.9 MB)\n",
      "   ---------------------------------------- 0.0/12.9 MB ? eta -:--:--\n",
      "   ---------------------------------------- 12.9/12.9 MB 80.3 MB/s eta 0:00:00\n",
      "Downloading pytz-2024.2-py2.py3-none-any.whl (508 kB)\n",
      "Downloading tzdata-2024.2-py2.py3-none-any.whl (346 kB)\n",
      "Installing collected packages: pytz, tzdata, numpy, pandas\n",
      "Successfully installed numpy-2.1.2 pandas-2.2.3 pytz-2024.2 tzdata-2024.2\n"
     ]
    }
   ],
   "source": [
    "!pip install pandas"
   ]
  },
  {
   "cell_type": "code",
   "execution_count": 17,
   "metadata": {},
   "outputs": [
    {
     "data": {
      "text/html": [
       "<div>\n",
       "<style scoped>\n",
       "    .dataframe tbody tr th:only-of-type {\n",
       "        vertical-align: middle;\n",
       "    }\n",
       "\n",
       "    .dataframe tbody tr th {\n",
       "        vertical-align: top;\n",
       "    }\n",
       "\n",
       "    .dataframe thead th {\n",
       "        text-align: right;\n",
       "    }\n",
       "</style>\n",
       "<table border=\"1\" class=\"dataframe\">\n",
       "  <thead>\n",
       "    <tr style=\"text-align: right;\">\n",
       "      <th></th>\n",
       "      <th>EmployeeID</th>\n",
       "      <th>EmployeeName</th>\n",
       "      <th>Department</th>\n",
       "      <th>BirthDate</th>\n",
       "    </tr>\n",
       "  </thead>\n",
       "  <tbody>\n",
       "    <tr>\n",
       "      <th>0</th>\n",
       "      <td>1</td>\n",
       "      <td>Alice</td>\n",
       "      <td>HR</td>\n",
       "      <td>1959-10-25</td>\n",
       "    </tr>\n",
       "    <tr>\n",
       "      <th>1</th>\n",
       "      <td>2</td>\n",
       "      <td>Bob</td>\n",
       "      <td>IT</td>\n",
       "      <td>1958-11-15</td>\n",
       "    </tr>\n",
       "    <tr>\n",
       "      <th>2</th>\n",
       "      <td>3</td>\n",
       "      <td>Charlie</td>\n",
       "      <td>Finance</td>\n",
       "      <td>1960-10-01</td>\n",
       "    </tr>\n",
       "    <tr>\n",
       "      <th>3</th>\n",
       "      <td>4</td>\n",
       "      <td>David</td>\n",
       "      <td>IT</td>\n",
       "      <td>1958-10-30</td>\n",
       "    </tr>\n",
       "    <tr>\n",
       "      <th>4</th>\n",
       "      <td>5</td>\n",
       "      <td>Eve</td>\n",
       "      <td>Marketing</td>\n",
       "      <td>1961-09-20</td>\n",
       "    </tr>\n",
       "  </tbody>\n",
       "</table>\n",
       "</div>"
      ],
      "text/plain": [
       "   EmployeeID EmployeeName Department  BirthDate\n",
       "0           1        Alice         HR 1959-10-25\n",
       "1           2          Bob         IT 1958-11-15\n",
       "2           3      Charlie    Finance 1960-10-01\n",
       "3           4        David         IT 1958-10-30\n",
       "4           5          Eve  Marketing 1961-09-20"
      ]
     },
     "execution_count": 17,
     "metadata": {},
     "output_type": "execute_result"
    }
   ],
   "source": [
    "import pandas as pd\n",
    "from datetime import datetime\n",
    "\n",
    "# Define sample data\n",
    "data = {\n",
    "    \"EmployeeID\": [1, 2, 3, 4, 5, 6, 7, 8, 9, 10, 11, 12, 13, 14, 15],\n",
    "    \"EmployeeName\": [\n",
    "        \"Alice\", \"Bob\", \"Charlie\", \"David\", \"Eve\", \"Frank\", \"Grace\", \"Heidi\", \n",
    "        \"Ivan\", \"Judy\", \"Kevin\", \"Laura\", \"Mallory\", \"Niaj\", \"Oscar\"\n",
    "    ],\n",
    "    \"Department\": [\n",
    "        \"HR\", \"IT\", \"Finance\", \"IT\", \"Marketing\", \"HR\", \"IT\", \"Finance\", \n",
    "        \"Marketing\", \"HR\", \"IT\", \"Sales\", \"Sales\", \"Finance\", \"IT\"\n",
    "    ],\n",
    "    \"BirthDate\": [\n",
    "        \"1959-10-25\", \"1958-11-15\", \"1960-10-01\", \"1958-10-30\", \"1961-09-20\",\n",
    "        \"1959-11-28\", \"1960-12-10\", \"1958-11-05\", \"1959-10-25\", \"1958-10-30\",\n",
    "        \"1961-08-30\", \"1958-11-18\", \"1960-12-21\", \"1959-11-15\", \"1961-09-01\"\n",
    "    ]\n",
    "}\n",
    "\n",
    "# Create DataFrame\n",
    "df = pd.DataFrame(data)\n",
    "df[\"BirthDate\"] = pd.to_datetime(df[\"BirthDate\"])\n",
    "df.head()\n"
   ]
  },
  {
   "cell_type": "code",
   "execution_count": 18,
   "metadata": {},
   "outputs": [
    {
     "name": "stdout",
     "output_type": "stream",
     "text": [
      "Empty DataFrame\n",
      "Columns: [EmployeeID, EmployeeName, Department, BirthDate, RetirementDate]\n",
      "Index: []\n"
     ]
    }
   ],
   "source": [
    "import calendar\n",
    "\n",
    "# Add 65 years to calculate the RetirementDate\n",
    "df[\"RetirementDate\"] = df[\"BirthDate\"] + pd.DateOffset(years=65)  # Adds 65 years to each BirthDate to determine RetirementDate\n",
    "\n",
    "# Find the last day of the current month\n",
    "today = datetime.now()\n",
    "last_day_current_month = calendar.monthrange(today.year, today.month)[1]  #Fetches the last day of the current month\n",
    "end_of_month = datetime(today.year, today.month, last_day_current_month)\n",
    "\n",
    "# Filter employees whose RetirementDate is the end of the month\n",
    "retiring_employees = df[df[\"RetirementDate\"] == end_of_month]\n",
    "print(retiring_employees)\n"
   ]
  },
  {
   "cell_type": "code",
   "execution_count": 19,
   "metadata": {},
   "outputs": [
    {
     "name": "stdout",
     "output_type": "stream",
     "text": [
      "   EmployeeID EmployeeName Department  BirthDate RetirementDate  \\\n",
      "0           1        Alice         HR 1959-10-25     2024-10-25   \n",
      "8           9         Ivan  Marketing 1959-10-25     2024-10-25   \n",
      "\n",
      "  RetirementMonthEnd  \n",
      "0         2024-10-31  \n",
      "8         2024-10-31  \n"
     ]
    }
   ],
   "source": [
    "# Calculate the last day of the retirement month and the current month\n",
    "df[\"RetirementDate\"] = df[\"BirthDate\"] + pd.DateOffset(years=65)\n",
    "df[\"RetirementMonthEnd\"] = df[\"RetirementDate\"].apply(lambda x: x.replace(day=calendar.monthrange(x.year, x.month)[1]))\n",
    "\n",
    "# Compare with the end of the current month\n",
    "retiring_employees_end_month = df[df[\"RetirementMonthEnd\"] == end_of_month]\n",
    "print(retiring_employees_end_month)\n"
   ]
  },
  {
   "cell_type": "code",
   "execution_count": 20,
   "metadata": {},
   "outputs": [
    {
     "name": "stdout",
     "output_type": "stream",
     "text": [
      "Empty DataFrame\n",
      "Columns: [EmployeeID, EmployeeName, Department, BirthDate, RetirementDate, RetirementMonthEnd, IsEndOfMonth]\n",
      "Index: []\n"
     ]
    }
   ],
   "source": [
    "# Calculate if RetirementDate is at the end of its month\n",
    "df[\"IsEndOfMonth\"] = df[\"RetirementDate\"].apply(lambda x: x == x.replace(day=calendar.monthrange(x.year, x.month)[1]))\n",
    "\n",
    "# Identify employees retiring at the end of their retirement month that matches the current month\n",
    "retire_end_of_current_month = df[(df[\"IsEndOfMonth\"]) & (df[\"RetirementDate\"].dt.month == today.month) & (df[\"RetirementDate\"].dt.year == today.year)]\n",
    "print(retire_end_of_current_month)\n"
   ]
  },
  {
   "cell_type": "code",
   "execution_count": null,
   "metadata": {},
   "outputs": [],
   "source": []
  }
 ],
 "metadata": {
  "kernelspec": {
   "display_name": "Python 3",
   "language": "python",
   "name": "python3"
  },
  "language_info": {
   "codemirror_mode": {
    "name": "ipython",
    "version": 3
   },
   "file_extension": ".py",
   "mimetype": "text/x-python",
   "name": "python",
   "nbconvert_exporter": "python",
   "pygments_lexer": "ipython3",
   "version": "3.11.8"
  }
 },
 "nbformat": 4,
 "nbformat_minor": 2
}
