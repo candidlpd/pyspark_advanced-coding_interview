{
 "cells": [
  {
   "cell_type": "code",
   "execution_count": 1,
   "metadata": {},
   "outputs": [
    {
     "data": {
      "text/plain": [
       "'H:\\\\pyspark_advanced-coding_interview'"
      ]
     },
     "execution_count": 1,
     "metadata": {},
     "output_type": "execute_result"
    }
   ],
   "source": [
    "import os\n",
    "os.getcwd()\n",
    "os.chdir(\"H:\\pyspark_advanced-coding_interview\")\n",
    "os.getcwd()"
   ]
  },
  {
   "cell_type": "markdown",
   "metadata": {},
   "source": [
    "# custom sorting india alaways top"
   ]
  },
  {
   "cell_type": "code",
   "execution_count": 2,
   "metadata": {},
   "outputs": [
    {
     "name": "stdout",
     "output_type": "stream",
     "text": [
      "+---+---------+\n",
      "| id|  country|\n",
      "+---+---------+\n",
      "|  1|    India|\n",
      "|  2|      USA|\n",
      "|  3|Australia|\n",
      "|  4|   Canada|\n",
      "|  5|  Germany|\n",
      "|  6|      USA|\n",
      "|  7|   France|\n",
      "+---+---------+\n",
      "\n"
     ]
    }
   ],
   "source": [
    "from pyspark.sql import SparkSession\n",
    "\n",
    "# Initialize Spark Session\n",
    "spark = SparkSession.builder.appName(\"CustomSortExample\").getOrCreate()\n",
    "\n",
    "# Sample Data: Country information\n",
    "data = [\n",
    "    (1, \"India\"),\n",
    "    (2, \"USA\"),\n",
    "    (3, \"Australia\"),\n",
    "    (4, \"Canada\"),\n",
    "    (5, \"Germany\"),\n",
    "    (6, \"USA\"),\n",
    "    (7, \"France\")\n",
    "]\n",
    "\n",
    "# Create DataFrame\n",
    "df = spark.createDataFrame(data, [\"id\", \"country\"])\n",
    "\n",
    "# Create a Temporary View for Spark SQL\n",
    "df.createOrReplaceTempView(\"countries\")\n",
    "\n",
    "# Show the original DataFrame\n",
    "df.show()\n"
   ]
  },
  {
   "cell_type": "code",
   "execution_count": 4,
   "metadata": {},
   "outputs": [
    {
     "name": "stdout",
     "output_type": "stream",
     "text": [
      "+---+---------+\n",
      "| id|  country|\n",
      "+---+---------+\n",
      "|  1|    India|\n",
      "|  2|      USA|\n",
      "|  6|      USA|\n",
      "|  3|Australia|\n",
      "|  4|   Canada|\n",
      "|  7|   France|\n",
      "|  5|  Germany|\n",
      "+---+---------+\n",
      "\n"
     ]
    }
   ],
   "source": [
    "res = spark.sql(\"\"\"   \n",
    "                \n",
    "select * \n",
    "from countries \n",
    "order by (case when country = 'India' THEN 0 \n",
    "                when country = 'USA' THEN 1 \n",
    "                ELSE 2 END), country  asc;          \n",
    "                \"\"\")\n",
    "res.show()"
   ]
  },
  {
   "cell_type": "code",
   "execution_count": 5,
   "metadata": {},
   "outputs": [
    {
     "name": "stdout",
     "output_type": "stream",
     "text": [
      "+---+---------+-------------+\n",
      "| id|  country|sort_priority|\n",
      "+---+---------+-------------+\n",
      "|  6|      USA|            0|\n",
      "|  2|      USA|            0|\n",
      "|  3|Australia|            1|\n",
      "|  4|   Canada|            1|\n",
      "|  7|   France|            1|\n",
      "|  5|  Germany|            1|\n",
      "|  1|    India|            1|\n",
      "+---+---------+-------------+\n",
      "\n"
     ]
    }
   ],
   "source": [
    "from pyspark.sql.functions import when, col\n",
    "\n",
    "# Add a custom column for sorting\n",
    "df_sorted = df.withColumn(\n",
    "    \"sort_priority\", when(col(\"country\") == \"USA\", 0).otherwise(1)\n",
    ").orderBy(\"sort_priority\", \"country\")\n",
    "\n",
    "# Show the result\n",
    "df_sorted.show()\n"
   ]
  },
  {
   "cell_type": "code",
   "execution_count": null,
   "metadata": {},
   "outputs": [],
   "source": []
  }
 ],
 "metadata": {
  "kernelspec": {
   "display_name": "Python 3",
   "language": "python",
   "name": "python3"
  },
  "language_info": {
   "codemirror_mode": {
    "name": "ipython",
    "version": 3
   },
   "file_extension": ".py",
   "mimetype": "text/x-python",
   "name": "python",
   "nbconvert_exporter": "python",
   "pygments_lexer": "ipython3",
   "version": "3.11.8"
  }
 },
 "nbformat": 4,
 "nbformat_minor": 2
}
