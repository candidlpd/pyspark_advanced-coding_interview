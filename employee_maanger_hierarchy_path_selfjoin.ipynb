{
 "cells": [
  {
   "cell_type": "code",
   "execution_count": 1,
   "metadata": {},
   "outputs": [
    {
     "data": {
      "text/plain": [
       "'H:\\\\pyspark_advanced-coding_interview'"
      ]
     },
     "execution_count": 1,
     "metadata": {},
     "output_type": "execute_result"
    }
   ],
   "source": [
    "import os\n",
    "os.getcwd()\n",
    "os.chdir(\"H:\\pyspark_advanced-coding_interview\")\n",
    "os.getcwd()"
   ]
  },
  {
   "cell_type": "code",
   "execution_count": 10,
   "metadata": {},
   "outputs": [
    {
     "name": "stdout",
     "output_type": "stream",
     "text": [
      "+------+--------+----------+\n",
      "|emp_id|emp_name|manager_id|\n",
      "+------+--------+----------+\n",
      "|     1|    John|      null|\n",
      "|     2|   Alice|         1|\n",
      "|     3|     Bob|         1|\n",
      "|     4|   David|         2|\n",
      "|     5|     Eva|         2|\n",
      "|     6| Charlie|         3|\n",
      "|     7|    Mike|         3|\n",
      "+------+--------+----------+\n",
      "\n"
     ]
    }
   ],
   "source": [
    "\n",
    "from pyspark.sql import SparkSession\n",
    "from pyspark.sql.functions import col, concat_ws, lit\n",
    "\n",
    "# Initialize Spark\n",
    "spark = SparkSession.builder.appName(\"EmployeeHierarchy\").getOrCreate()\n",
    "\n",
    "# Sample Employee Data\n",
    "data = [\n",
    "    (1, 'John', None),  # CEO\n",
    "    (2, 'Alice', 1),    # Manager reporting to John\n",
    "    (3, 'Bob', 1),      # Manager reporting to John\n",
    "    (4, 'David', 2),    # Employee reporting to Alice\n",
    "    (5, 'Eva', 2),      # Employee reporting to Alice\n",
    "    (6, 'Charlie', 3),  # Employee reporting to Bob\n",
    "    (7, 'Mike', 3)      # Employee reporting to Bob\n",
    "]\n",
    "\n",
    "columns = [\"emp_id\", \"emp_name\", \"manager_id\"]\n",
    "\n",
    "# Create DataFrame\n",
    "df = spark.createDataFrame(data, columns)\n",
    "\n",
    "\n",
    "df.createOrReplaceTempView(\"employee\")\n",
    "\n",
    "\n",
    "df.show()\n",
    "\n"
   ]
  },
  {
   "cell_type": "code",
   "execution_count": 13,
   "metadata": {},
   "outputs": [
    {
     "name": "stdout",
     "output_type": "stream",
     "text": [
      "+------+--------+------+-------------------------+\n",
      "|emp_id|emp_name|mgr_id|hierarchy_path           |\n",
      "+------+--------+------+-------------------------+\n",
      "|2     |Bob     |1     |Alice -> Bob             |\n",
      "|3     |Charlie |1     |Alice -> Charlie         |\n",
      "|4     |David   |2     |Alice -> Bob -> David    |\n",
      "|5     |Eva     |2     |Alice -> Bob -> Eva      |\n",
      "|4     |David   |2     |Alice -> Bob -> David    |\n",
      "|5     |Eva     |2     |Alice -> Bob -> Eva      |\n",
      "|4     |David   |2     |Alice -> Bob -> David    |\n",
      "|5     |Eva     |2     |Alice -> Bob -> Eva      |\n",
      "|4     |David   |2     |Alice -> Bob -> David    |\n",
      "|5     |Eva     |2     |Alice -> Bob -> Eva      |\n",
      "|6     |Frank   |3     |Alice -> Charlie -> Frank|\n",
      "|6     |Frank   |3     |Alice -> Charlie -> Frank|\n",
      "|6     |Frank   |3     |Alice -> Charlie -> Frank|\n",
      "|6     |Frank   |3     |Alice -> Charlie -> Frank|\n",
      "|2     |Bob     |1     |Alice -> Bob             |\n",
      "|3     |Charlie |1     |Alice -> Charlie         |\n",
      "|4     |David   |2     |Alice -> Bob -> David    |\n",
      "|5     |Eva     |2     |Alice -> Bob -> Eva      |\n",
      "|4     |David   |2     |Alice -> Bob -> David    |\n",
      "|5     |Eva     |2     |Alice -> Bob -> Eva      |\n",
      "+------+--------+------+-------------------------+\n",
      "only showing top 20 rows\n",
      "\n"
     ]
    }
   ],
   "source": [
    "from pyspark.sql import SparkSession\n",
    "from pyspark.sql.functions import col, lit, concat, when\n",
    "\n",
    "# Initialize Spark Session\n",
    "spark = SparkSession.builder.appName(\"EmployeeHierarchy\").getOrCreate()\n",
    "\n",
    "# Sample Data: Employee - Manager Table\n",
    "data = [\n",
    "    (1, \"Alice\", None),\n",
    "    (2, \"Bob\", 1),\n",
    "    (3, \"Charlie\", 1),\n",
    "    (4, \"David\", 2),\n",
    "    (5, \"Eva\", 2),\n",
    "    (6, \"Frank\", 3)\n",
    "]\n",
    "\n",
    "# Convert to DataFrame and create a temp view\n",
    "df = spark.createDataFrame(data, [\"emp_id\", \"emp_name\", \"mgr_id\"])\n",
    "df.createOrReplaceTempView(\"employee\")\n",
    "\n",
    "# Start with the top-level employee (e.g., CEO) who has no manager (mgr_id is NULL)\n",
    "hierarchy_df = df.filter(col(\"mgr_id\").isNull()) \\\n",
    "    .withColumn(\"hierarchy_path\", col(\"emp_name\"))\n",
    "\n",
    "# Iteratively join to find next levels in the hierarchy\n",
    "for i in range(5):  # Assuming a maximum of 5 levels deep, adjust as needed\n",
    "    hierarchy_df = hierarchy_df.alias(\"h\").join(\n",
    "        df.alias(\"e\"), col(\"h.emp_id\") == col(\"e.mgr_id\"), \"left\"\n",
    "    ).select(\n",
    "        col(\"e.emp_id\"),\n",
    "        col(\"e.emp_name\"),\n",
    "        col(\"e.mgr_id\"),\n",
    "        concat(col(\"h.hierarchy_path\"), lit(\" -> \"), col(\"e.emp_name\")).alias(\"hierarchy_path\")\n",
    "    ).where(col(\"e.emp_id\").isNotNull()).union(hierarchy_df)\n",
    "\n",
    "# Show the result\n",
    "hierarchy_df.show(truncate=False)\n",
    "\n"
   ]
  },
  {
   "cell_type": "code",
   "execution_count": null,
   "metadata": {},
   "outputs": [],
   "source": []
  }
 ],
 "metadata": {
  "kernelspec": {
   "display_name": "Python 3",
   "language": "python",
   "name": "python3"
  },
  "language_info": {
   "codemirror_mode": {
    "name": "ipython",
    "version": 3
   },
   "file_extension": ".py",
   "mimetype": "text/x-python",
   "name": "python",
   "nbconvert_exporter": "python",
   "pygments_lexer": "ipython3",
   "version": "3.11.8"
  }
 },
 "nbformat": 4,
 "nbformat_minor": 2
}
