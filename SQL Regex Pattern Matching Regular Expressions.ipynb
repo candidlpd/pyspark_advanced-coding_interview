{
 "cells": [
  {
   "cell_type": "code",
   "execution_count": 1,
   "metadata": {},
   "outputs": [
    {
     "data": {
      "text/plain": [
       "'H:\\\\pyspark_advanced-coding_interview'"
      ]
     },
     "execution_count": 1,
     "metadata": {},
     "output_type": "execute_result"
    }
   ],
   "source": [
    "import os\n",
    "os.getcwd()\n",
    "os.chdir(\"H:\\pyspark_advanced-coding_interview\")\n",
    "os.getcwd()"
   ]
  },
  {
   "cell_type": "code",
   "execution_count": 2,
   "metadata": {},
   "outputs": [],
   "source": [
    "from pyspark.sql import SparkSession\n",
    "\n",
    "# Create a Spark session with optimized settings\n",
    "spark = (\n",
    "    SparkSession.builder \n",
    "    .appName(\"OptimizedLocalSpark\") \n",
    "    .config(\"spark.driver.memory\", \"8g\")        \n",
    "    .config(\"spark.executor.memory\", \"8g\")    \n",
    "    .config(\"spark.executor.cores\", \"4\")       \n",
    "    .config(\"spark.cores.max\", \"12\")           \n",
    "    .config(\"spark.sql.shuffle.partitions\", \"28\")  \n",
    "    .config(\"spark.serializer\", \"org.apache.spark.serializer.KryoSerializer\") \n",
    "    .getOrCreate()\n",
    ")\n",
    "sc = spark.sparkContext"
   ]
  },
  {
   "cell_type": "code",
   "execution_count": 1,
   "metadata": {},
   "outputs": [
    {
     "name": "stdout",
     "output_type": "stream",
     "text": [
      "+---+-------------+\n",
      "|id |mixed_string |\n",
      "+---+-------------+\n",
      "|1  |Order123     |\n",
      "|2  |Item-456     |\n",
      "|3  |Prod_789     |\n",
      "|4  |Ref2001      |\n",
      "|5  |Test123Test  |\n",
      "|6  |Alpha1234beta|\n",
      "|7  |XYZ000       |\n",
      "|8  |num42value   |\n",
      "|9  |Num100number |\n",
      "|10 |Val-56       |\n",
      "|11 |Alpha-Beta123|\n",
      "|12 |Box_789      |\n",
      "|13 |CodeX11      |\n",
      "|14 |SampleText2  |\n",
      "|15 |DataValue500 |\n",
      "+---+-------------+\n",
      "\n"
     ]
    }
   ],
   "source": [
    "from pyspark.sql import SparkSession\n",
    "\n",
    "# Initialize Spark Session\n",
    "spark = SparkSession.builder.appName(\"RegexTutorial\").getOrCreate()\n",
    "\n",
    "# Sample Data: Strings with different patterns\n",
    "data = [\n",
    "    (1, \"Order123\"),\n",
    "    (2, \"Item-456\"),\n",
    "    (3, \"Prod_789\"),\n",
    "    (4, \"Ref2001\"),\n",
    "    (5, \"Test123Test\"),\n",
    "    (6, \"Alpha1234beta\"),\n",
    "    (7, \"XYZ000\"),\n",
    "    (8, \"num42value\"),\n",
    "    (9, \"Num100number\"),\n",
    "    (10, \"Val-56\"),\n",
    "    (11, \"Alpha-Beta123\"),\n",
    "    (12, \"Box_789\"),\n",
    "    (13, \"CodeX11\"),\n",
    "    (14, \"SampleText2\"),\n",
    "    (15, \"DataValue500\")\n",
    "]\n",
    "\n",
    "# Create DataFrame\n",
    "df = spark.createDataFrame(data, [\"id\", \"mixed_string\"])\n",
    "\n",
    "# Create a Temporary View for Spark SQL\n",
    "df.createOrReplaceTempView(\"regex_table\")\n",
    "df.cache()\n",
    "# Show the Original DataFrame\n",
    "df.show(truncate=False)\n"
   ]
  },
  {
   "cell_type": "markdown",
   "metadata": {},
   "source": [
    "# Extract Numbers from String"
   ]
  },
  {
   "cell_type": "code",
   "execution_count": 3,
   "metadata": {},
   "outputs": [
    {
     "name": "stdout",
     "output_type": "stream",
     "text": [
      "+---+-------------+----------------+\n",
      "| id| mixed_string|extracted_number|\n",
      "+---+-------------+----------------+\n",
      "|  1|     Order123|               d|\n",
      "|  2|     Item-456|                |\n",
      "|  3|     Prod_789|               d|\n",
      "|  4|      Ref2001|                |\n",
      "|  5|  Test123Test|                |\n",
      "|  6|Alpha1234beta|                |\n",
      "|  7|       XYZ000|                |\n",
      "|  8|   num42value|                |\n",
      "|  9| Num100number|                |\n",
      "| 10|       Val-56|                |\n",
      "| 11|Alpha-Beta123|                |\n",
      "| 12|      Box_789|                |\n",
      "| 13|      CodeX11|               d|\n",
      "| 14|  SampleText2|                |\n",
      "| 15| DataValue500|                |\n",
      "+---+-------------+----------------+\n",
      "\n"
     ]
    }
   ],
   "source": [
    "res1 = spark.sql (\"\"\" \n",
    "  \n",
    "  SELECT id, mixed_string, regexp_extract(mixed_string, '\\\\d+', 0) AS extracted_number\n",
    "FROM regex_table;\n",
    "                 \n",
    "                   \n",
    "                   \"\"\")\n",
    "\n",
    "res1.show()"
   ]
  },
  {
   "cell_type": "code",
   "execution_count": 4,
   "metadata": {},
   "outputs": [
    {
     "name": "stdout",
     "output_type": "stream",
     "text": [
      "+---+-------------+----------------+\n",
      "|id |mixed_string |extracted_number|\n",
      "+---+-------------+----------------+\n",
      "|1  |Order123     |123             |\n",
      "|2  |Item-456     |456             |\n",
      "|3  |Prod_789     |789             |\n",
      "|4  |Ref2001      |2001            |\n",
      "|5  |Test123Test  |123             |\n",
      "|6  |Alpha1234beta|1234            |\n",
      "|7  |XYZ000       |000             |\n",
      "|8  |num42value   |42              |\n",
      "|9  |Num100number |100             |\n",
      "|10 |Val-56       |56              |\n",
      "|11 |Alpha-Beta123|123             |\n",
      "|12 |Box_789      |789             |\n",
      "|13 |CodeX11      |11              |\n",
      "|14 |SampleText2  |2               |\n",
      "|15 |DataValue500 |500             |\n",
      "+---+-------------+----------------+\n",
      "\n"
     ]
    }
   ],
   "source": [
    "from pyspark.sql.functions import regexp_extract\n",
    "\n",
    "df.withColumn(\"extracted_number\", regexp_extract(\"mixed_string\", \"\\\\d+\", 0)).show(truncate=False)\n"
   ]
  },
  {
   "cell_type": "markdown",
   "metadata": {},
   "source": [
    "# Extract Alphabets Only"
   ]
  },
  {
   "cell_type": "code",
   "execution_count": 5,
   "metadata": {},
   "outputs": [
    {
     "name": "stdout",
     "output_type": "stream",
     "text": [
      "+---+-------------+--------------+\n",
      "| id| mixed_string|extracted_text|\n",
      "+---+-------------+--------------+\n",
      "|  1|     Order123|         Order|\n",
      "|  2|     Item-456|          Item|\n",
      "|  3|     Prod_789|          Prod|\n",
      "|  4|      Ref2001|           Ref|\n",
      "|  5|  Test123Test|          Test|\n",
      "|  6|Alpha1234beta|         Alpha|\n",
      "|  7|       XYZ000|           XYZ|\n",
      "|  8|   num42value|           num|\n",
      "|  9| Num100number|           Num|\n",
      "| 10|       Val-56|           Val|\n",
      "| 11|Alpha-Beta123|         Alpha|\n",
      "| 12|      Box_789|           Box|\n",
      "| 13|      CodeX11|         CodeX|\n",
      "| 14|  SampleText2|    SampleText|\n",
      "| 15| DataValue500|     DataValue|\n",
      "+---+-------------+--------------+\n",
      "\n"
     ]
    }
   ],
   "source": [
    "res2 = spark.sql (\"\"\" \n",
    "  \n",
    "SELECT id, mixed_string, regexp_extract(mixed_string, '[A-Za-z]+', 0) AS extracted_text\n",
    "FROM regex_table;\n",
    "\n",
    "                 \n",
    "                   \n",
    "                   \"\"\")\n",
    "\n",
    "res2.show()"
   ]
  },
  {
   "cell_type": "code",
   "execution_count": 6,
   "metadata": {},
   "outputs": [
    {
     "name": "stdout",
     "output_type": "stream",
     "text": [
      "+---+-------------+--------------+\n",
      "|id |mixed_string |extracted_text|\n",
      "+---+-------------+--------------+\n",
      "|1  |Order123     |Order         |\n",
      "|2  |Item-456     |Item          |\n",
      "|3  |Prod_789     |Prod          |\n",
      "|4  |Ref2001      |Ref           |\n",
      "|5  |Test123Test  |Test          |\n",
      "|6  |Alpha1234beta|Alpha         |\n",
      "|7  |XYZ000       |XYZ           |\n",
      "|8  |num42value   |num           |\n",
      "|9  |Num100number |Num           |\n",
      "|10 |Val-56       |Val           |\n",
      "|11 |Alpha-Beta123|Alpha         |\n",
      "|12 |Box_789      |Box           |\n",
      "|13 |CodeX11      |CodeX         |\n",
      "|14 |SampleText2  |SampleText    |\n",
      "|15 |DataValue500 |DataValue     |\n",
      "+---+-------------+--------------+\n",
      "\n"
     ]
    }
   ],
   "source": [
    "df.withColumn(\"extracted_text\", regexp_extract(\"mixed_string\", \"[A-Za-z]+\", 0)).show(truncate=False)\n"
   ]
  },
  {
   "cell_type": "markdown",
   "metadata": {},
   "source": [
    "# Check if String Contains Numbers"
   ]
  },
  {
   "cell_type": "code",
   "execution_count": 7,
   "metadata": {},
   "outputs": [
    {
     "name": "stdout",
     "output_type": "stream",
     "text": [
      "+---+-------------+-----------+\n",
      "| id| mixed_string|has_numbers|\n",
      "+---+-------------+-----------+\n",
      "|  1|     Order123|        Yes|\n",
      "|  2|     Item-456|         No|\n",
      "|  3|     Prod_789|        Yes|\n",
      "|  4|      Ref2001|         No|\n",
      "|  5|  Test123Test|         No|\n",
      "|  6|Alpha1234beta|         No|\n",
      "|  7|       XYZ000|         No|\n",
      "|  8|   num42value|         No|\n",
      "|  9| Num100number|         No|\n",
      "| 10|       Val-56|         No|\n",
      "| 11|Alpha-Beta123|         No|\n",
      "| 12|      Box_789|         No|\n",
      "| 13|      CodeX11|        Yes|\n",
      "| 14|  SampleText2|         No|\n",
      "| 15| DataValue500|         No|\n",
      "+---+-------------+-----------+\n",
      "\n"
     ]
    }
   ],
   "source": [
    "res3 = spark.sql (\"\"\" \n",
    "  \n",
    "SELECT id, mixed_string, \n",
    "       CASE WHEN mixed_string RLIKE '\\\\d+' THEN 'Yes' ELSE 'No' END AS has_numbers\n",
    "FROM regex_table;\n",
    "\n",
    "                   \n",
    "                   \"\"\")\n",
    "\n",
    "res3.show()"
   ]
  },
  {
   "cell_type": "code",
   "execution_count": 8,
   "metadata": {},
   "outputs": [
    {
     "name": "stdout",
     "output_type": "stream",
     "text": [
      "+---+-------------+-----------+\n",
      "|id |mixed_string |has_numbers|\n",
      "+---+-------------+-----------+\n",
      "|1  |Order123     |true       |\n",
      "|2  |Item-456     |true       |\n",
      "|3  |Prod_789     |true       |\n",
      "|4  |Ref2001      |true       |\n",
      "|5  |Test123Test  |true       |\n",
      "|6  |Alpha1234beta|true       |\n",
      "|7  |XYZ000       |true       |\n",
      "|8  |num42value   |true       |\n",
      "|9  |Num100number |true       |\n",
      "|10 |Val-56       |true       |\n",
      "|11 |Alpha-Beta123|true       |\n",
      "|12 |Box_789      |true       |\n",
      "|13 |CodeX11      |true       |\n",
      "|14 |SampleText2  |true       |\n",
      "|15 |DataValue500 |true       |\n",
      "+---+-------------+-----------+\n",
      "\n"
     ]
    }
   ],
   "source": [
    "df.withColumn(\"has_numbers\", df[\"mixed_string\"].rlike(\"\\\\d+\")).show(truncate=False)\n"
   ]
  },
  {
   "cell_type": "markdown",
   "metadata": {},
   "source": [
    "# Replace Numbers with X"
   ]
  },
  {
   "cell_type": "code",
   "execution_count": 9,
   "metadata": {},
   "outputs": [
    {
     "name": "stdout",
     "output_type": "stream",
     "text": [
      "+---+-------------+-------------+\n",
      "| id| mixed_string|replaced_text|\n",
      "+---+-------------+-------------+\n",
      "|  1|     Order123|     OrXer123|\n",
      "|  2|     Item-456|     Item-456|\n",
      "|  3|     Prod_789|     ProX_789|\n",
      "|  4|      Ref2001|      Ref2001|\n",
      "|  5|  Test123Test|  Test123Test|\n",
      "|  6|Alpha1234beta|Alpha1234beta|\n",
      "|  7|       XYZ000|       XYZ000|\n",
      "|  8|   num42value|   num42value|\n",
      "|  9| Num100number| Num100number|\n",
      "| 10|       Val-56|       Val-56|\n",
      "| 11|Alpha-Beta123|Alpha-Beta123|\n",
      "| 12|      Box_789|      Box_789|\n",
      "| 13|      CodeX11|      CoXeX11|\n",
      "| 14|  SampleText2|  SampleText2|\n",
      "| 15| DataValue500| DataValue500|\n",
      "+---+-------------+-------------+\n",
      "\n"
     ]
    }
   ],
   "source": [
    "res4 = spark.sql (\"\"\" \n",
    "  \n",
    "SELECT id, mixed_string, regexp_replace(mixed_string, '\\\\d+', 'X') AS replaced_text\n",
    "FROM regex_table;\n",
    "\n",
    "\n",
    "                   \n",
    "                   \"\"\")\n",
    "\n",
    "res4.show()"
   ]
  },
  {
   "cell_type": "code",
   "execution_count": 10,
   "metadata": {},
   "outputs": [
    {
     "name": "stdout",
     "output_type": "stream",
     "text": [
      "+---+-------------+-------------+\n",
      "|id |mixed_string |replaced_text|\n",
      "+---+-------------+-------------+\n",
      "|1  |Order123     |OrderX       |\n",
      "|2  |Item-456     |Item-X       |\n",
      "|3  |Prod_789     |Prod_X       |\n",
      "|4  |Ref2001      |RefX         |\n",
      "|5  |Test123Test  |TestXTest    |\n",
      "|6  |Alpha1234beta|AlphaXbeta   |\n",
      "|7  |XYZ000       |XYZX         |\n",
      "|8  |num42value   |numXvalue    |\n",
      "|9  |Num100number |NumXnumber   |\n",
      "|10 |Val-56       |Val-X        |\n",
      "|11 |Alpha-Beta123|Alpha-BetaX  |\n",
      "|12 |Box_789      |Box_X        |\n",
      "|13 |CodeX11      |CodeXX       |\n",
      "|14 |SampleText2  |SampleTextX  |\n",
      "|15 |DataValue500 |DataValueX   |\n",
      "+---+-------------+-------------+\n",
      "\n"
     ]
    }
   ],
   "source": [
    "from pyspark.sql.functions import regexp_replace\n",
    "\n",
    "df.withColumn(\"replaced_text\", regexp_replace(\"mixed_string\", \"\\\\d+\", \"X\")).show(truncate=False)\n"
   ]
  },
  {
   "cell_type": "markdown",
   "metadata": {},
   "source": [
    "# Remove Special Characters"
   ]
  },
  {
   "cell_type": "code",
   "execution_count": 11,
   "metadata": {},
   "outputs": [
    {
     "name": "stdout",
     "output_type": "stream",
     "text": [
      "+---+-------------+-------------+\n",
      "| id| mixed_string|   clean_text|\n",
      "+---+-------------+-------------+\n",
      "|  1|     Order123|     Order123|\n",
      "|  2|     Item-456|      Item456|\n",
      "|  3|     Prod_789|      Prod789|\n",
      "|  4|      Ref2001|      Ref2001|\n",
      "|  5|  Test123Test|  Test123Test|\n",
      "|  6|Alpha1234beta|Alpha1234beta|\n",
      "|  7|       XYZ000|       XYZ000|\n",
      "|  8|   num42value|   num42value|\n",
      "|  9| Num100number| Num100number|\n",
      "| 10|       Val-56|        Val56|\n",
      "| 11|Alpha-Beta123| AlphaBeta123|\n",
      "| 12|      Box_789|       Box789|\n",
      "| 13|      CodeX11|      CodeX11|\n",
      "| 14|  SampleText2|  SampleText2|\n",
      "| 15| DataValue500| DataValue500|\n",
      "+---+-------------+-------------+\n",
      "\n"
     ]
    }
   ],
   "source": [
    "res5 = spark.sql (\"\"\" \n",
    "  \n",
    "SELECT id, mixed_string, regexp_replace(mixed_string, '[^A-Za-z0-9]', '') AS clean_text\n",
    "FROM regex_table;\n",
    "\n",
    "\n",
    "                   \n",
    "                   \"\"\")\n",
    "\n",
    "res5.show()"
   ]
  },
  {
   "cell_type": "code",
   "execution_count": 12,
   "metadata": {},
   "outputs": [
    {
     "name": "stdout",
     "output_type": "stream",
     "text": [
      "+---+-------------+-------------+\n",
      "|id |mixed_string |clean_text   |\n",
      "+---+-------------+-------------+\n",
      "|1  |Order123     |Order123     |\n",
      "|2  |Item-456     |Item456      |\n",
      "|3  |Prod_789     |Prod789      |\n",
      "|4  |Ref2001      |Ref2001      |\n",
      "|5  |Test123Test  |Test123Test  |\n",
      "|6  |Alpha1234beta|Alpha1234beta|\n",
      "|7  |XYZ000       |XYZ000       |\n",
      "|8  |num42value   |num42value   |\n",
      "|9  |Num100number |Num100number |\n",
      "|10 |Val-56       |Val56        |\n",
      "|11 |Alpha-Beta123|AlphaBeta123 |\n",
      "|12 |Box_789      |Box789       |\n",
      "|13 |CodeX11      |CodeX11      |\n",
      "|14 |SampleText2  |SampleText2  |\n",
      "|15 |DataValue500 |DataValue500 |\n",
      "+---+-------------+-------------+\n",
      "\n"
     ]
    }
   ],
   "source": [
    "df.withColumn(\"clean_text\", regexp_replace(\"mixed_string\", \"[^A-Za-z0-9]\", \"\")).show(truncate=False)\n"
   ]
  },
  {
   "cell_type": "markdown",
   "metadata": {},
   "source": [
    "# Extract First Occurrence of Digits After a Hyphen"
   ]
  },
  {
   "cell_type": "code",
   "execution_count": 13,
   "metadata": {},
   "outputs": [
    {
     "name": "stdout",
     "output_type": "stream",
     "text": [
      "+---+-------------+-------------------+\n",
      "| id| mixed_string|digits_after_hyphen|\n",
      "+---+-------------+-------------------+\n",
      "|  1|     Order123|                   |\n",
      "|  2|     Item-456|                   |\n",
      "|  3|     Prod_789|                   |\n",
      "|  4|      Ref2001|                   |\n",
      "|  5|  Test123Test|                   |\n",
      "|  6|Alpha1234beta|                   |\n",
      "|  7|       XYZ000|                   |\n",
      "|  8|   num42value|                   |\n",
      "|  9| Num100number|                   |\n",
      "| 10|       Val-56|                   |\n",
      "| 11|Alpha-Beta123|                   |\n",
      "| 12|      Box_789|                   |\n",
      "| 13|      CodeX11|                   |\n",
      "| 14|  SampleText2|                   |\n",
      "| 15| DataValue500|                   |\n",
      "+---+-------------+-------------------+\n",
      "\n"
     ]
    }
   ],
   "source": [
    "res6 = spark.sql (\"\"\" \n",
    "  \n",
    "SELECT id, mixed_string, regexp_extract(mixed_string, '-(\\\\d+)', 1) AS digits_after_hyphen\n",
    "FROM regex_table;\n",
    "\n",
    "\n",
    "\n",
    "                   \n",
    "                   \"\"\")\n",
    "\n",
    "res6.show()"
   ]
  },
  {
   "cell_type": "code",
   "execution_count": 14,
   "metadata": {},
   "outputs": [
    {
     "name": "stdout",
     "output_type": "stream",
     "text": [
      "+---+-------------+-------------------+\n",
      "|id |mixed_string |digits_after_hyphen|\n",
      "+---+-------------+-------------------+\n",
      "|1  |Order123     |                   |\n",
      "|2  |Item-456     |456                |\n",
      "|3  |Prod_789     |                   |\n",
      "|4  |Ref2001      |                   |\n",
      "|5  |Test123Test  |                   |\n",
      "|6  |Alpha1234beta|                   |\n",
      "|7  |XYZ000       |                   |\n",
      "|8  |num42value   |                   |\n",
      "|9  |Num100number |                   |\n",
      "|10 |Val-56       |56                 |\n",
      "|11 |Alpha-Beta123|                   |\n",
      "|12 |Box_789      |                   |\n",
      "|13 |CodeX11      |                   |\n",
      "|14 |SampleText2  |                   |\n",
      "|15 |DataValue500 |                   |\n",
      "+---+-------------+-------------------+\n",
      "\n"
     ]
    }
   ],
   "source": [
    "df.withColumn(\"digits_after_hyphen\", regexp_extract(\"mixed_string\", \"-(\\\\d+)\", 1)).show(truncate=False)\n"
   ]
  },
  {
   "cell_type": "markdown",
   "metadata": {},
   "source": [
    "# Replace All Digits with #"
   ]
  },
  {
   "cell_type": "markdown",
   "metadata": {},
   "source": []
  },
  {
   "cell_type": "code",
   "execution_count": 15,
   "metadata": {},
   "outputs": [
    {
     "name": "stdout",
     "output_type": "stream",
     "text": [
      "+---+-------------+---------------+\n",
      "| id| mixed_string|replaced_digits|\n",
      "+---+-------------+---------------+\n",
      "|  1|     Order123|       Or#er123|\n",
      "|  2|     Item-456|       Item-456|\n",
      "|  3|     Prod_789|       Pro#_789|\n",
      "|  4|      Ref2001|        Ref2001|\n",
      "|  5|  Test123Test|    Test123Test|\n",
      "|  6|Alpha1234beta|  Alpha1234beta|\n",
      "|  7|       XYZ000|         XYZ000|\n",
      "|  8|   num42value|     num42value|\n",
      "|  9| Num100number|   Num100number|\n",
      "| 10|       Val-56|         Val-56|\n",
      "| 11|Alpha-Beta123|  Alpha-Beta123|\n",
      "| 12|      Box_789|        Box_789|\n",
      "| 13|      CodeX11|        Co#eX11|\n",
      "| 14|  SampleText2|    SampleText2|\n",
      "| 15| DataValue500|   DataValue500|\n",
      "+---+-------------+---------------+\n",
      "\n"
     ]
    }
   ],
   "source": [
    "res7 = spark.sql (\"\"\" \n",
    "  \n",
    "SELECT id, mixed_string, regexp_replace(mixed_string, '\\\\d', '#') AS replaced_digits\n",
    "FROM regex_table;\n",
    "\n",
    "\n",
    "\n",
    "                   \n",
    "                   \"\"\")\n",
    "\n",
    "res7.show()"
   ]
  },
  {
   "cell_type": "code",
   "execution_count": 16,
   "metadata": {},
   "outputs": [
    {
     "name": "stdout",
     "output_type": "stream",
     "text": [
      "+---+-------------+---------------+\n",
      "|id |mixed_string |replaced_digits|\n",
      "+---+-------------+---------------+\n",
      "|1  |Order123     |Order###       |\n",
      "|2  |Item-456     |Item-###       |\n",
      "|3  |Prod_789     |Prod_###       |\n",
      "|4  |Ref2001      |Ref####        |\n",
      "|5  |Test123Test  |Test###Test    |\n",
      "|6  |Alpha1234beta|Alpha####beta  |\n",
      "|7  |XYZ000       |XYZ###         |\n",
      "|8  |num42value   |num##value     |\n",
      "|9  |Num100number |Num###number   |\n",
      "|10 |Val-56       |Val-##         |\n",
      "|11 |Alpha-Beta123|Alpha-Beta###  |\n",
      "|12 |Box_789      |Box_###        |\n",
      "|13 |CodeX11      |CodeX##        |\n",
      "|14 |SampleText2  |SampleText#    |\n",
      "|15 |DataValue500 |DataValue###   |\n",
      "+---+-------------+---------------+\n",
      "\n"
     ]
    }
   ],
   "source": [
    "df.withColumn(\"replaced_digits\", regexp_replace(\"mixed_string\", \"\\\\d\", \"#\")).show(truncate=False)\n"
   ]
  },
  {
   "cell_type": "markdown",
   "metadata": {},
   "source": [
    "# Extract Letters Before Digits"
   ]
  },
  {
   "cell_type": "code",
   "execution_count": 17,
   "metadata": {},
   "outputs": [
    {
     "name": "stdout",
     "output_type": "stream",
     "text": [
      "+---+-------------+---------------------+\n",
      "| id| mixed_string|letters_before_digits|\n",
      "+---+-------------+---------------------+\n",
      "|  1|     Order123|                   Or|\n",
      "|  2|     Item-456|                     |\n",
      "|  3|     Prod_789|                  Pro|\n",
      "|  4|      Ref2001|                     |\n",
      "|  5|  Test123Test|                     |\n",
      "|  6|Alpha1234beta|                     |\n",
      "|  7|       XYZ000|                     |\n",
      "|  8|   num42value|                     |\n",
      "|  9| Num100number|                     |\n",
      "| 10|       Val-56|                     |\n",
      "| 11|Alpha-Beta123|                     |\n",
      "| 12|      Box_789|                     |\n",
      "| 13|      CodeX11|                   Co|\n",
      "| 14|  SampleText2|                     |\n",
      "| 15| DataValue500|                     |\n",
      "+---+-------------+---------------------+\n",
      "\n"
     ]
    }
   ],
   "source": [
    "res8 = spark.sql (\"\"\" \n",
    "SELECT id, mixed_string, regexp_extract(mixed_string, '([A-Za-z]+)\\\\d+', 1) AS letters_before_digits\n",
    "FROM regex_table;\n",
    "\n",
    "\n",
    "\n",
    "\n",
    "                   \n",
    "                   \"\"\")\n",
    "\n",
    "res8.show()"
   ]
  },
  {
   "cell_type": "code",
   "execution_count": 18,
   "metadata": {},
   "outputs": [
    {
     "name": "stdout",
     "output_type": "stream",
     "text": [
      "+---+-------------+---------------------+\n",
      "|id |mixed_string |letters_before_digits|\n",
      "+---+-------------+---------------------+\n",
      "|1  |Order123     |Order                |\n",
      "|2  |Item-456     |                     |\n",
      "|3  |Prod_789     |                     |\n",
      "|4  |Ref2001      |Ref                  |\n",
      "|5  |Test123Test  |Test                 |\n",
      "|6  |Alpha1234beta|Alpha                |\n",
      "|7  |XYZ000       |XYZ                  |\n",
      "|8  |num42value   |num                  |\n",
      "|9  |Num100number |Num                  |\n",
      "|10 |Val-56       |                     |\n",
      "|11 |Alpha-Beta123|Beta                 |\n",
      "|12 |Box_789      |                     |\n",
      "|13 |CodeX11      |CodeX                |\n",
      "|14 |SampleText2  |SampleText           |\n",
      "|15 |DataValue500 |DataValue            |\n",
      "+---+-------------+---------------------+\n",
      "\n"
     ]
    }
   ],
   "source": [
    "df.withColumn(\"letters_before_digits\", regexp_extract(\"mixed_string\", \"([A-Za-z]+)\\\\d+\", 1)).show(truncate=False)\n"
   ]
  },
  {
   "cell_type": "markdown",
   "metadata": {},
   "source": [
    "# Replace Multiple Spaces with Single Space"
   ]
  },
  {
   "cell_type": "code",
   "execution_count": 19,
   "metadata": {},
   "outputs": [
    {
     "name": "stdout",
     "output_type": "stream",
     "text": [
      "+---+-------------+-------------+\n",
      "| id| mixed_string|single_spaced|\n",
      "+---+-------------+-------------+\n",
      "|  1|     Order123|     Order123|\n",
      "|  2|     Item-456|     Item-456|\n",
      "|  3|     Prod_789|     Prod_789|\n",
      "|  4|      Ref2001|      Ref2001|\n",
      "|  5|  Test123Test|  Te t123Te t|\n",
      "|  6|Alpha1234beta|Alpha1234beta|\n",
      "|  7|       XYZ000|       XYZ000|\n",
      "|  8|   num42value|   num42value|\n",
      "|  9| Num100number| Num100number|\n",
      "| 10|       Val-56|       Val-56|\n",
      "| 11|Alpha-Beta123|Alpha-Beta123|\n",
      "| 12|      Box_789|      Box_789|\n",
      "| 13|      CodeX11|      CodeX11|\n",
      "| 14|  SampleText2|  SampleText2|\n",
      "| 15| DataValue500| DataValue500|\n",
      "+---+-------------+-------------+\n",
      "\n"
     ]
    }
   ],
   "source": [
    "res9 = spark.sql (\"\"\" \n",
    "SELECT id, mixed_string, regexp_replace(mixed_string, '\\\\s+', ' ') AS single_spaced\n",
    "FROM regex_table;\n",
    "\n",
    "\n",
    "\n",
    "                   \n",
    "                   \"\"\")\n",
    "\n",
    "res9.show()"
   ]
  },
  {
   "cell_type": "code",
   "execution_count": 20,
   "metadata": {},
   "outputs": [
    {
     "name": "stdout",
     "output_type": "stream",
     "text": [
      "+---+-------------+-------------+\n",
      "|id |mixed_string |single_spaced|\n",
      "+---+-------------+-------------+\n",
      "|1  |Order123     |Order123     |\n",
      "|2  |Item-456     |Item-456     |\n",
      "|3  |Prod_789     |Prod_789     |\n",
      "|4  |Ref2001      |Ref2001      |\n",
      "|5  |Test123Test  |Test123Test  |\n",
      "|6  |Alpha1234beta|Alpha1234beta|\n",
      "|7  |XYZ000       |XYZ000       |\n",
      "|8  |num42value   |num42value   |\n",
      "|9  |Num100number |Num100number |\n",
      "|10 |Val-56       |Val-56       |\n",
      "|11 |Alpha-Beta123|Alpha-Beta123|\n",
      "|12 |Box_789      |Box_789      |\n",
      "|13 |CodeX11      |CodeX11      |\n",
      "|14 |SampleText2  |SampleText2  |\n",
      "|15 |DataValue500 |DataValue500 |\n",
      "+---+-------------+-------------+\n",
      "\n"
     ]
    }
   ],
   "source": [
    "df.withColumn(\"single_spaced\", regexp_replace(\"mixed_string\", \"\\\\s+\", \" \")).show(truncate=False)\n"
   ]
  },
  {
   "cell_type": "markdown",
   "metadata": {},
   "source": [
    "#  Remove Leading and Trailing Spaces"
   ]
  },
  {
   "cell_type": "code",
   "execution_count": 21,
   "metadata": {},
   "outputs": [
    {
     "name": "stdout",
     "output_type": "stream",
     "text": [
      "+---+-------------+-------------+\n",
      "| id| mixed_string| trimmed_text|\n",
      "+---+-------------+-------------+\n",
      "|  1|     Order123|     Order123|\n",
      "|  2|     Item-456|     Item-456|\n",
      "|  3|     Prod_789|     Prod_789|\n",
      "|  4|      Ref2001|      Ref2001|\n",
      "|  5|  Test123Test|  Test123Test|\n",
      "|  6|Alpha1234beta|Alpha1234beta|\n",
      "|  7|       XYZ000|       XYZ000|\n",
      "|  8|   num42value|   num42value|\n",
      "|  9| Num100number| Num100number|\n",
      "| 10|       Val-56|       Val-56|\n",
      "| 11|Alpha-Beta123|Alpha-Beta123|\n",
      "| 12|      Box_789|      Box_789|\n",
      "| 13|      CodeX11|      CodeX11|\n",
      "| 14|  SampleText2|  SampleText2|\n",
      "| 15| DataValue500| DataValue500|\n",
      "+---+-------------+-------------+\n",
      "\n"
     ]
    }
   ],
   "source": [
    "res10 = spark.sql (\"\"\" \n",
    "SELECT id, mixed_string, trim(mixed_string) AS trimmed_text\n",
    "FROM regex_table;\n",
    "\n",
    "\n",
    "                   \n",
    "                   \"\"\")\n",
    "\n",
    "res10.show()"
   ]
  },
  {
   "cell_type": "code",
   "execution_count": 23,
   "metadata": {},
   "outputs": [
    {
     "name": "stdout",
     "output_type": "stream",
     "text": [
      "+---+-------------+\n",
      "| id| mixed_string|\n",
      "+---+-------------+\n",
      "|  1|     Order123|\n",
      "|  2|     Item-456|\n",
      "|  3|     Prod_789|\n",
      "|  4|      Ref2001|\n",
      "|  5|  Test123Test|\n",
      "|  6|Alpha1234beta|\n",
      "|  7|       XYZ000|\n",
      "|  8|   num42value|\n",
      "|  9| Num100number|\n",
      "| 10|       Val-56|\n",
      "| 11|Alpha-Beta123|\n",
      "| 12|      Box_789|\n",
      "| 13|      CodeX11|\n",
      "| 14|  SampleText2|\n",
      "| 15| DataValue500|\n",
      "+---+-------------+\n",
      "\n"
     ]
    }
   ],
   "source": [
    "df.show()"
   ]
  },
  {
   "cell_type": "code",
   "execution_count": 26,
   "metadata": {},
   "outputs": [
    {
     "name": "stdout",
     "output_type": "stream",
     "text": [
      "+---+-------------+-------------+\n",
      "|id |mixed_string |trimmed_text |\n",
      "+---+-------------+-------------+\n",
      "|1  |Order123     |Order123     |\n",
      "|2  |Item-456     |Item-456     |\n",
      "|3  |Prod_789     |Prod_789     |\n",
      "|4  |Ref2001      |Ref2001      |\n",
      "|5  |Test123Test  |Test123Test  |\n",
      "|6  |Alpha1234beta|Alpha1234beta|\n",
      "|7  |XYZ000       |XYZ000       |\n",
      "|8  |num42value   |num42value   |\n",
      "|9  |Num100number |Num100number |\n",
      "|10 |Val-56       |Val-56       |\n",
      "|11 |Alpha-Beta123|Alpha-Beta123|\n",
      "|12 |Box_789      |Box_789      |\n",
      "|13 |CodeX11      |CodeX11      |\n",
      "|14 |SampleText2  |SampleText2  |\n",
      "|15 |DataValue500 |DataValue500 |\n",
      "+---+-------------+-------------+\n",
      "\n"
     ]
    }
   ],
   "source": [
    "from pyspark.sql import functions as F\n",
    "\n",
    "# Assuming 'df' is your DataFrame and 'mixed_string' is your column\n",
    "df.withColumn(\"trimmed_text\", F.trim(df[\"mixed_string\"])).show(truncate=False)\n",
    "\n"
   ]
  },
  {
   "cell_type": "code",
   "execution_count": null,
   "metadata": {},
   "outputs": [],
   "source": []
  }
 ],
 "metadata": {
  "kernelspec": {
   "display_name": "Python 3",
   "language": "python",
   "name": "python3"
  },
  "language_info": {
   "codemirror_mode": {
    "name": "ipython",
    "version": 3
   },
   "file_extension": ".py",
   "mimetype": "text/x-python",
   "name": "python",
   "nbconvert_exporter": "python",
   "pygments_lexer": "ipython3",
   "version": "3.11.8"
  }
 },
 "nbformat": 4,
 "nbformat_minor": 2
}
