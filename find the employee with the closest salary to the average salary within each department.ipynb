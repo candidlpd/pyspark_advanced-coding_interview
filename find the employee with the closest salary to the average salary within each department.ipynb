{
 "cells": [
  {
   "cell_type": "code",
   "execution_count": 1,
   "metadata": {},
   "outputs": [
    {
     "data": {
      "text/plain": [
       "'H:\\\\pyspark_advanced-coding_interview'"
      ]
     },
     "execution_count": 1,
     "metadata": {},
     "output_type": "execute_result"
    }
   ],
   "source": [
    "import os\n",
    "os.getcwd()\n",
    "os.chdir(\"H:\\pyspark_advanced-coding_interview\")\n",
    "os.getcwd()"
   ]
  },
  {
   "cell_type": "markdown",
   "metadata": {},
   "source": [
    "# find the employee with the closest salary to the average salary within each department"
   ]
  },
  {
   "cell_type": "code",
   "execution_count": 6,
   "metadata": {},
   "outputs": [],
   "source": [
    "from pyspark.sql import SparkSession\n",
    "from pyspark.sql.functions import avg, abs, col, lit, row_number\n",
    "from pyspark.sql.window import Window\n",
    "\n",
    "# Initialize Spark Session\n",
    "spark = SparkSession.builder.appName(\"ClosestSalary\").getOrCreate()\n",
    "\n",
    "# Sample Data\n",
    "data = [\n",
    "    (1, \"Alice\", 5000, \"HR\"),\n",
    "    (2, \"Bob\", 6000, \"HR\"),\n",
    "    (3, \"Charlie\", 5500, \"HR\"),\n",
    "    (4, \"David\", 9000, \"Engineering\"),\n",
    "    (5, \"Eva\", 8500, \"Engineering\"),\n",
    "    (6, \"Frank\", 9500, \"Engineering\")\n",
    "]\n",
    "\n",
    "# Create DataFrame\n",
    "df = spark.createDataFrame(data, [\"emp_id\", \"emp_name\", \"salary\", \"department\"])\n",
    "df.cache()\n",
    "df.createOrReplaceTempView(\"employees\")\n",
    "\n"
   ]
  },
  {
   "cell_type": "code",
   "execution_count": 7,
   "metadata": {},
   "outputs": [
    {
     "name": "stdout",
     "output_type": "stream",
     "text": [
      "+------+--------+------+-----------+\n",
      "|emp_id|emp_name|salary| department|\n",
      "+------+--------+------+-----------+\n",
      "|     1|   Alice|  5000|         HR|\n",
      "|     2|     Bob|  6000|         HR|\n",
      "|     3| Charlie|  5500|         HR|\n",
      "|     4|   David|  9000|Engineering|\n",
      "|     5|     Eva|  8500|Engineering|\n",
      "|     6|   Frank|  9500|Engineering|\n",
      "+------+--------+------+-----------+\n",
      "\n"
     ]
    }
   ],
   "source": [
    "df.show()"
   ]
  },
  {
   "cell_type": "code",
   "execution_count": 2,
   "metadata": {},
   "outputs": [
    {
     "ename": "NameError",
     "evalue": "name 'spark' is not defined",
     "output_type": "error",
     "traceback": [
      "\u001b[1;31m---------------------------------------------------------------------------\u001b[0m",
      "\u001b[1;31mNameError\u001b[0m                                 Traceback (most recent call last)",
      "Cell \u001b[1;32mIn[2], line 1\u001b[0m\n\u001b[1;32m----> 1\u001b[0m df \u001b[38;5;241m=\u001b[39m \u001b[43mspark\u001b[49m\u001b[38;5;241m.\u001b[39mcreateDataFrame(data, [\u001b[38;5;124m\"\u001b[39m\u001b[38;5;124memp_id\u001b[39m\u001b[38;5;124m\"\u001b[39m, \u001b[38;5;124m\"\u001b[39m\u001b[38;5;124memp_name\u001b[39m\u001b[38;5;124m\"\u001b[39m, \u001b[38;5;124m\"\u001b[39m\u001b[38;5;124msalary\u001b[39m\u001b[38;5;124m\"\u001b[39m, \u001b[38;5;124m\"\u001b[39m\u001b[38;5;124mdepartment\u001b[39m\u001b[38;5;124m\"\u001b[39m])\n\u001b[0;32m      2\u001b[0m df\u001b[38;5;241m.\u001b[39mcache()\n\u001b[0;32m      3\u001b[0m df\u001b[38;5;241m.\u001b[39mcreateOrReplaceTempView(\u001b[38;5;124m\"\u001b[39m\u001b[38;5;124memployees\u001b[39m\u001b[38;5;124m\"\u001b[39m)\n",
      "\u001b[1;31mNameError\u001b[0m: name 'spark' is not defined"
     ]
    }
   ],
   "source": [
    "\n",
    "df = spark.createDataFrame(data, [\"emp_id\", \"emp_name\", \"salary\", \"department\"])\n",
    "df.cache()\n",
    "df.createOrReplaceTempView(\"employees\")\n",
    "\n",
    "\n",
    "res = spark.sql(\"\"\"                 \n",
    "                \n",
    " WITH dept_avg AS (\n",
    "    SELECT department, AVG(salary) AS avg_salary\n",
    "    FROM employees\n",
    "    GROUP BY department\n",
    "),\n",
    "emp_with_avg AS (\n",
    "    SELECT e.*, d.avg_salary, ABS(e.salary - d.avg_salary) AS diff\n",
    "    FROM employees e\n",
    "    JOIN dept_avg d ON e.department = d.department\n",
    "),\n",
    "ranked_employees AS (\n",
    "    SELECT *, ROW_NUMBER() OVER (PARTITION BY department ORDER BY diff) AS rank\n",
    "    FROM emp_with_avg\n",
    ")\n",
    "SELECT emp_id, emp_name, salary, department\n",
    "FROM ranked_employees\n",
    "WHERE rank = 1;\n",
    "               \n",
    "                \n",
    "                \"\"\")\n",
    "res.show()"
   ]
  },
  {
   "cell_type": "code",
   "execution_count": 3,
   "metadata": {},
   "outputs": [
    {
     "name": "stdout",
     "output_type": "stream",
     "text": [
      "+------+--------+------+-----------+\n",
      "|emp_id|emp_name|salary| department|\n",
      "+------+--------+------+-----------+\n",
      "|     4|   David|  9000|Engineering|\n",
      "|     3| Charlie|  5500|         HR|\n",
      "+------+--------+------+-----------+\n",
      "\n"
     ]
    }
   ],
   "source": [
    "\n",
    "from pyspark.sql import SparkSession\n",
    "from pyspark.sql.functions import avg, abs, col, lit, row_number\n",
    "from pyspark.sql.window import Window\n",
    "\n",
    "# Initialize Spark Session\n",
    "spark = SparkSession.builder.appName(\"ClosestSalary\").getOrCreate()\n",
    "\n",
    "# Sample Data\n",
    "data = [\n",
    "    (1, \"Alice\", 5000, \"HR\"),\n",
    "    (2, \"Bob\", 6000, \"HR\"),\n",
    "    (3, \"Charlie\", 5500, \"HR\"),\n",
    "    (4, \"David\", 9000, \"Engineering\"),\n",
    "    (5, \"Eva\", 8500, \"Engineering\"),\n",
    "    (6, \"Frank\", 9500, \"Engineering\")\n",
    "]\n",
    "\n",
    "# Create DataFrame\n",
    "df = spark.createDataFrame(data, [\"emp_id\", \"emp_name\", \"salary\", \"department\"])\n",
    "df.createOrReplaceTempView(\"employees\")\n",
    "\n",
    "\n",
    "\n",
    "\n",
    "\n",
    "from pyspark.sql import Window\n",
    "from pyspark.sql.functions import avg, abs, col, row_number\n",
    "\n",
    "# Calculate average salary per department\n",
    "avg_salary_df = df.groupBy(\"department\").agg(avg(\"salary\").alias(\"avg_salary\"))\n",
    "\n",
    "# Join with original data and calculate the difference\n",
    "joined_df = df.join(avg_salary_df, \"department\") \\\n",
    "    .withColumn(\"diff\", abs(col(\"salary\") - col(\"avg_salary\")))\n",
    "\n",
    "# Define window to rank employees based on the closest difference\n",
    "window_spec = Window.partitionBy(\"department\").orderBy(\"diff\")\n",
    "\n",
    "# Get the employee with the closest salary to the average salary\n",
    "result_df = joined_df.withColumn(\"rank\", row_number().over(window_spec)) \\\n",
    "    .filter(col(\"rank\") == 1) \\\n",
    "    .select(\"emp_id\", \"emp_name\", \"salary\", \"department\")\n",
    "\n",
    "result_df.show()\n"
   ]
  },
  {
   "cell_type": "code",
   "execution_count": null,
   "metadata": {},
   "outputs": [],
   "source": []
  }
 ],
 "metadata": {
  "kernelspec": {
   "display_name": "Python 3",
   "language": "python",
   "name": "python3"
  },
  "language_info": {
   "codemirror_mode": {
    "name": "ipython",
    "version": 3
   },
   "file_extension": ".py",
   "mimetype": "text/x-python",
   "name": "python",
   "nbconvert_exporter": "python",
   "pygments_lexer": "ipython3",
   "version": "3.11.8"
  }
 },
 "nbformat": 4,
 "nbformat_minor": 2
}
