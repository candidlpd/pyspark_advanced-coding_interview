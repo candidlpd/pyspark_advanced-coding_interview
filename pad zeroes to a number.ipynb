{
 "cells": [
  {
   "cell_type": "code",
   "execution_count": 1,
   "metadata": {},
   "outputs": [
    {
     "data": {
      "text/plain": [
       "'H:\\\\pyspark_advanced-coding_interview'"
      ]
     },
     "execution_count": 1,
     "metadata": {},
     "output_type": "execute_result"
    }
   ],
   "source": [
    "import os\n",
    "os.getcwd()\n",
    "os.chdir(\"H:\\pyspark_advanced-coding_interview\")\n",
    "os.getcwd()"
   ]
  },
  {
   "cell_type": "markdown",
   "metadata": {},
   "source": [
    "# pad zeroes to a number"
   ]
  },
  {
   "cell_type": "code",
   "execution_count": 2,
   "metadata": {},
   "outputs": [
    {
     "name": "stdout",
     "output_type": "stream",
     "text": [
      "+---+------+\n",
      "| id|number|\n",
      "+---+------+\n",
      "|  1|     5|\n",
      "|  2|    12|\n",
      "|  3|   123|\n",
      "|  4|  4567|\n",
      "|  5|   890|\n",
      "+---+------+\n",
      "\n"
     ]
    }
   ],
   "source": [
    "from pyspark.sql import SparkSession\n",
    "from pyspark.sql.functions import lpad\n",
    "\n",
    "# Initialize Spark Session\n",
    "spark = SparkSession.builder.appName(\"PadZerosExample\").getOrCreate()\n",
    "\n",
    "# Sample Data: Number values to pad\n",
    "data = [\n",
    "    (1, 5),\n",
    "    (2, 12),\n",
    "    (3, 123),\n",
    "    (4, 4567),\n",
    "    (5, 890)\n",
    "]\n",
    "\n",
    "# Create DataFrame\n",
    "df = spark.createDataFrame(data, [\"id\", \"number\"])\n",
    "\n",
    "# Create a Temporary View for Spark SQL\n",
    "df.createOrReplaceTempView(\"numbers\")\n",
    "\n",
    "# Show the original DataFrame\n",
    "df.show()\n"
   ]
  },
  {
   "cell_type": "code",
   "execution_count": 3,
   "metadata": {},
   "outputs": [
    {
     "name": "stdout",
     "output_type": "stream",
     "text": [
      "+---+------+-------------+\n",
      "| id|number|padded_number|\n",
      "+---+------+-------------+\n",
      "|  1|     5|        00005|\n",
      "|  2|    12|        00012|\n",
      "|  3|   123|        00123|\n",
      "|  4|  4567|        04567|\n",
      "|  5|   890|        00890|\n",
      "+---+------+-------------+\n",
      "\n"
     ]
    }
   ],
   "source": [
    "\n",
    "# The total length of the resulting string (5 in this case).The character to pad with ('0').\n",
    "\n",
    "res = spark.sql(\"\"\" \n",
    "                \n",
    " SELECT id, number, lpad(number, 5, '0') AS padded_number\n",
    "FROM numbers;\n",
    "               \n",
    "                \"\"\")\n",
    "\n",
    "res.show()"
   ]
  },
  {
   "cell_type": "code",
   "execution_count": 4,
   "metadata": {},
   "outputs": [
    {
     "name": "stdout",
     "output_type": "stream",
     "text": [
      "+---+------+-------------+\n",
      "| id|number|padded_number|\n",
      "+---+------+-------------+\n",
      "|  1|     5|        00005|\n",
      "|  2|    12|        00012|\n",
      "|  3|   123|        00123|\n",
      "|  4|  4567|        04567|\n",
      "|  5|   890|        00890|\n",
      "+---+------+-------------+\n",
      "\n"
     ]
    }
   ],
   "source": [
    "# Use lpad function to pad zeros to the 'number' column\n",
    "df_padded = df.withColumn(\"padded_number\", lpad(\"number\", 5, \"0\"))\n",
    "\n",
    "# Show the result\n",
    "df_padded.show()\n"
   ]
  },
  {
   "cell_type": "code",
   "execution_count": 5,
   "metadata": {},
   "outputs": [
    {
     "name": "stdout",
     "output_type": "stream",
     "text": [
      "+---+------+-------------+\n",
      "| id|number|padded_number|\n",
      "+---+------+-------------+\n",
      "|  1|     5|        00005|\n",
      "|  2|    12|        00012|\n",
      "|  3|   123|        00123|\n",
      "|  4|  4567|        04567|\n",
      "|  5|   890|        00890|\n",
      "+---+------+-------------+\n",
      "\n"
     ]
    }
   ],
   "source": [
    "from pyspark.sql.functions import expr\n",
    "\n",
    "# Using expr to pad zeros with format function\n",
    "df_padded_expr = df.withColumn(\"padded_number\", expr(\"format_string('%05d', number)\"))\n",
    "\n",
    "# Show the result\n",
    "df_padded_expr.show()\n"
   ]
  },
  {
   "cell_type": "code",
   "execution_count": null,
   "metadata": {},
   "outputs": [],
   "source": []
  }
 ],
 "metadata": {
  "kernelspec": {
   "display_name": "Python 3",
   "language": "python",
   "name": "python3"
  },
  "language_info": {
   "codemirror_mode": {
    "name": "ipython",
    "version": 3
   },
   "file_extension": ".py",
   "mimetype": "text/x-python",
   "name": "python",
   "nbconvert_exporter": "python",
   "pygments_lexer": "ipython3",
   "version": "3.11.8"
  }
 },
 "nbformat": 4,
 "nbformat_minor": 2
}
