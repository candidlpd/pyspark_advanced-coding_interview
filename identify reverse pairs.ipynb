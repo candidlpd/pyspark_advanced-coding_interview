{
 "cells": [
  {
   "cell_type": "code",
   "execution_count": 1,
   "metadata": {},
   "outputs": [
    {
     "name": "stdout",
     "output_type": "stream",
     "text": [
      "H:\\pyspark_advanced-coding_interview\n"
     ]
    }
   ],
   "source": [
    "import os\n",
    "os.getcwd()\n",
    "os.chdir(\"H:\\pyspark_advanced-coding_interview\")\n",
    "print(os.getcwd())\n",
    "\n",
    "\n",
    "from pyspark.sql import SparkSession\n",
    "\n",
    "# Create a Spark session with optimized settings\n",
    "spark = (\n",
    "    SparkSession.builder \n",
    "    .appName(\"OptimizedLocalSpark\") \n",
    "    .config(\"spark.driver.memory\", \"8g\")        \n",
    "    .config(\"spark.executor.memory\", \"8g\")    \n",
    "    .config(\"spark.executor.cores\", \"4\")       \n",
    "    .config(\"spark.cores.max\", \"12\")           \n",
    "    .config(\"spark.sql.shuffle.partitions\", \"28\")  \n",
    "    .config(\"spark.serializer\", \"org.apache.spark.serializer.KryoSerializer\") \n",
    "    .getOrCreate()\n",
    ")\n",
    "sc = spark.sparkContext"
   ]
  },
  {
   "cell_type": "markdown",
   "metadata": {},
   "source": [
    "# identify reverse pairs"
   ]
  },
  {
   "cell_type": "code",
   "execution_count": 2,
   "metadata": {},
   "outputs": [
    {
     "name": "stdout",
     "output_type": "stream",
     "text": [
      "+-------+-------+\n",
      "|person1|person2|\n",
      "+-------+-------+\n",
      "|Alice  |Bob    |\n",
      "|Bob    |Alice  |\n",
      "|Charlie|David  |\n",
      "|David  |Charlie|\n",
      "|Eva    |Frank  |\n",
      "|Frank  |Eva    |\n",
      "|Grace  |Henry  |\n",
      "|Ivy    |Jack   |\n",
      "|Jack   |Ivy    |\n",
      "|Liam   |Mia    |\n",
      "|Mia    |Liam   |\n",
      "|Noah   |Olivia |\n",
      "|Peter  |Quinn  |\n",
      "|Quinn  |Peter  |\n",
      "+-------+-------+\n",
      "\n"
     ]
    }
   ],
   "source": [
    "from pyspark.sql import SparkSession\n",
    "\n",
    "# Initialize Spark Session\n",
    "spark = SparkSession.builder.appName(\"ReversePairsSelfJoin\").getOrCreate()\n",
    "\n",
    "# Sample Data: Pairs of connections (like friendships, trades, etc.)\n",
    "data = [\n",
    "    (\"Alice\", \"Bob\"),\n",
    "    (\"Bob\", \"Alice\"),\n",
    "    (\"Charlie\", \"David\"),\n",
    "    (\"David\", \"Charlie\"),\n",
    "    (\"Eva\", \"Frank\"),\n",
    "    (\"Frank\", \"Eva\"),\n",
    "    (\"Grace\", \"Henry\"),\n",
    "    (\"Ivy\", \"Jack\"),\n",
    "    (\"Jack\", \"Ivy\"),\n",
    "    (\"Liam\", \"Mia\"),\n",
    "    (\"Mia\", \"Liam\"),\n",
    "    (\"Noah\", \"Olivia\"),\n",
    "    (\"Peter\", \"Quinn\"),\n",
    "    (\"Quinn\", \"Peter\")\n",
    "]\n",
    "\n",
    "# Create DataFrame\n",
    "df = spark.createDataFrame(data, [\"person1\", \"person2\"])\n",
    "\n",
    "# Create a Temporary View for Spark SQL\n",
    "df.createOrReplaceTempView(\"connections\")\n",
    "\n",
    "# Show the Original DataFrame\n",
    "df.show(truncate=False)\n"
   ]
  },
  {
   "cell_type": "code",
   "execution_count": 4,
   "metadata": {},
   "outputs": [
    {
     "name": "stdout",
     "output_type": "stream",
     "text": [
      "+-------+-------+\n",
      "|person1|person2|\n",
      "+-------+-------+\n",
      "|  Alice|    Bob|\n",
      "|Charlie|  David|\n",
      "|    Eva|  Frank|\n",
      "|    Ivy|   Jack|\n",
      "|   Liam|    Mia|\n",
      "|  Peter|  Quinn|\n",
      "+-------+-------+\n",
      "\n"
     ]
    }
   ],
   "source": [
    "\n",
    "#Self-Join (c1 and c2): Match rows where person1 of c1 is equal to person2 of c2 and vice versa.\n",
    "#WHERE c1.person1 < c1.person2: Ensures each reverse pair is shown only once (e.g., (Alice, Bob) and not (Bob, Alice)).\n",
    "\n",
    "\n",
    "\n",
    "res = spark.sql(\"\"\" \n",
    "                \n",
    "SELECT c1.person1, c1.person2\n",
    "FROM connections c1\n",
    "JOIN connections c2 ON c1.person1 = c2.person2 AND c1.person2 = c2.person1\n",
    "WHERE c1.person1 < c1.person2;\n",
    "\n",
    "\n",
    "              \n",
    "                \"\"\")\n",
    "res.show()\n"
   ]
  },
  {
   "cell_type": "code",
   "execution_count": 6,
   "metadata": {},
   "outputs": [
    {
     "name": "stdout",
     "output_type": "stream",
     "text": [
      "+-------+-------+\n",
      "|person1|person2|\n",
      "+-------+-------+\n",
      "+-------+-------+\n",
      "\n"
     ]
    }
   ],
   "source": [
    "#df.alias(\"c1\") and df.alias(\"c2\"): Aliases are used to create a self-join.\n",
    "#Conditions: Join where person1 from c1 equals person2 from c2 and vice versa.\n",
    "#Filter: Keep only one entry per reverse pair using .filter(\"c1.person1 < c1.person2\").\n",
    "\n",
    "# Perform Self-Join to find reverse pairs\n",
    "df_reversed = df.alias(\"c1\").join(\n",
    "    df.alias(\"c2\"),\n",
    "    (df.alias(\"c1\")[\"person1\"] == df.alias(\"c2\")[\"person2\"]) & (df.alias(\"c1\")[\"person2\"] == df.alias(\"c2\")[\"person1\"]),\n",
    "    \"inner\"\n",
    ").select(\"c1.person1\", \"c1.person2\").filter(\"c1.person1 < c1.person2\")\n",
    "\n",
    "# Show the result\n",
    "df_reversed.show(truncate=False)\n",
    "\n"
   ]
  },
  {
   "cell_type": "code",
   "execution_count": 11,
   "metadata": {},
   "outputs": [
    {
     "name": "stdout",
     "output_type": "stream",
     "text": [
      "+-------+-------+\n",
      "|person1|person2|\n",
      "+-------+-------+\n",
      "|Alice  |Bob    |\n",
      "|Charlie|David  |\n",
      "|Eva    |Frank  |\n",
      "|Ivy    |Jack   |\n",
      "|Liam   |Mia    |\n",
      "|Peter  |Quinn  |\n",
      "+-------+-------+\n",
      "\n"
     ]
    }
   ],
   "source": [
    "from pyspark.sql.functions import col\n",
    "\n",
    "# Reverse columns to create a mirrored DataFrame\n",
    "df_reversed = df.withColumnRenamed(\"person1\", \"person2_rev\").withColumnRenamed(\"person2\", \"person1_rev\")\n",
    "\n",
    "# Perform the self-join to find reverse pairs\n",
    "df_reverse_pairs = df.alias(\"original\").join(\n",
    "    df_reversed.alias(\"reversed\"),\n",
    "    (col(\"original.person1\") == col(\"reversed.person1_rev\")) & (col(\"original.person2\") == col(\"reversed.person2_rev\")),\n",
    "    \"inner\"\n",
    ").select(col(\"original.person1\"), col(\"original.person2\")).filter(col(\"original.person1\") < col(\"original.person2\"))\n",
    "\n",
    "# Show the result\n",
    "df_reverse_pairs.show(truncate=False)\n",
    "\n"
   ]
  },
  {
   "cell_type": "code",
   "execution_count": 7,
   "metadata": {},
   "outputs": [
    {
     "name": "stdout",
     "output_type": "stream",
     "text": [
      "+-------+-------+\n",
      "|person1|person2|\n",
      "+-------+-------+\n",
      "|    Bob|  Alice|\n",
      "|  Alice|    Bob|\n",
      "|  David|Charlie|\n",
      "|Charlie|  David|\n",
      "|  Frank|    Eva|\n",
      "|    Eva|  Frank|\n",
      "|   Jack|    Ivy|\n",
      "|    Ivy|   Jack|\n",
      "|    Mia|   Liam|\n",
      "|   Liam|    Mia|\n",
      "|  Quinn|  Peter|\n",
      "|  Peter|  Quinn|\n",
      "+-------+-------+\n",
      "\n"
     ]
    }
   ],
   "source": [
    "#CASE WHEN: Create a unique identifier to ensure (A, B) and (B, A) are considered the same.\n",
    "#DISTINCT: Remove any duplicates from the result set.\n",
    "\n",
    "\n",
    "\n",
    "res1 = spark.sql(\"\"\" \n",
    "                \n",
    "WITH reverse_pairs AS (\n",
    "    SELECT c1.person1, c1.person2, \n",
    "           CASE WHEN c1.person1 < c1.person2 THEN CONCAT(c1.person1, '-', c1.person2) \n",
    "                ELSE CONCAT(c1.person2, '-', c1.person1) END AS pair_id\n",
    "    FROM connections c1\n",
    "    JOIN connections c2 ON c1.person1 = c2.person2 AND c1.person2 = c2.person1\n",
    ")\n",
    "SELECT DISTINCT person1, person2 \n",
    "FROM reverse_pairs;\n",
    "\n",
    "\n",
    "\n",
    "              \n",
    "                \"\"\")\n",
    "res1.show()"
   ]
  },
  {
   "cell_type": "code",
   "execution_count": 9,
   "metadata": {},
   "outputs": [
    {
     "name": "stdout",
     "output_type": "stream",
     "text": [
      "+-------+-------+\n",
      "|person1|person2|\n",
      "+-------+-------+\n",
      "|Alice  |Bob    |\n",
      "|Charlie|David  |\n",
      "|Eva    |Frank  |\n",
      "|Grace  |Henry  |\n",
      "|Ivy    |Jack   |\n",
      "|Liam   |Mia    |\n",
      "|Noah   |Olivia |\n",
      "|Peter  |Quinn  |\n",
      "+-------+-------+\n",
      "\n"
     ]
    }
   ],
   "source": [
    "from pyspark.sql.functions import concat, lit, when,col\n",
    "\n",
    "# Create a unique identifier for reverse pairs\n",
    "df_pairs = df.withColumn(\n",
    "    \"pair_id\", \n",
    "    when(col(\"person1\") < col(\"person2\"), concat(col(\"person1\"), lit(\"-\"), col(\"person2\")))\n",
    "    .otherwise(concat(col(\"person2\"), lit(\"-\"), col(\"person1\")))\n",
    ")\n",
    "\n",
    "# Select distinct pairs based on the unique identifier\n",
    "df_unique_pairs = df_pairs.dropDuplicates([\"pair_id\"]).select(\"person1\", \"person2\")\n",
    "\n",
    "# Show the result\n",
    "df_unique_pairs.show(truncate=False)\n"
   ]
  },
  {
   "cell_type": "code",
   "execution_count": null,
   "metadata": {},
   "outputs": [],
   "source": []
  }
 ],
 "metadata": {
  "kernelspec": {
   "display_name": "Python 3",
   "language": "python",
   "name": "python3"
  },
  "language_info": {
   "codemirror_mode": {
    "name": "ipython",
    "version": 3
   },
   "file_extension": ".py",
   "mimetype": "text/x-python",
   "name": "python",
   "nbconvert_exporter": "python",
   "pygments_lexer": "ipython3",
   "version": "3.11.8"
  }
 },
 "nbformat": 4,
 "nbformat_minor": 2
}
