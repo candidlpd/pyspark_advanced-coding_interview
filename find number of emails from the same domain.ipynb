{
 "cells": [
  {
   "cell_type": "markdown",
   "metadata": {},
   "source": [
    "# find number of emails from the same domain"
   ]
  },
  {
   "cell_type": "code",
   "execution_count": 1,
   "metadata": {},
   "outputs": [
    {
     "data": {
      "text/plain": [
       "'H:\\\\pyspark_advanced-coding_interview'"
      ]
     },
     "execution_count": 1,
     "metadata": {},
     "output_type": "execute_result"
    }
   ],
   "source": [
    "import os\n",
    "os.getcwd()\n",
    "os.chdir(\"H:\\pyspark_advanced-coding_interview\")\n",
    "os.getcwd()"
   ]
  },
  {
   "cell_type": "markdown",
   "metadata": {},
   "source": [
    "# Spark SQL"
   ]
  },
  {
   "cell_type": "code",
   "execution_count": 1,
   "metadata": {},
   "outputs": [
    {
     "name": "stdout",
     "output_type": "stream",
     "text": [
      "+------+-------------------+\n",
      "|UserID|Email              |\n",
      "+------+-------------------+\n",
      "|1     |alice@gmail.com    |\n",
      "|2     |bob@yahoo.com      |\n",
      "|3     |charlie@gmail.com  |\n",
      "|4     |david@hotmail.com  |\n",
      "|5     |eve@gmail.com      |\n",
      "|6     |frank@yahoo.com    |\n",
      "|7     |grace@outlook.com  |\n",
      "|8     |heidi@gmail.com    |\n",
      "|9     |ivan@hotmail.com   |\n",
      "|10    |judy@outlook.com   |\n",
      "|11    |kevin@gmail.com    |\n",
      "|12    |laura@company.com  |\n",
      "|13    |mallory@company.com|\n",
      "|14    |oscar@gmail.com    |\n",
      "|15    |peggy@yahoo.com    |\n",
      "+------+-------------------+\n",
      "\n"
     ]
    }
   ],
   "source": [
    "from pyspark.sql import SparkSession\n",
    "from pyspark.sql.types import StructType, StructField, StringType, IntegerType\n",
    "\n",
    "# Initialize Spark Session (if not already done)\n",
    "spark = SparkSession.builder.appName(\"EmailDomainCount\").getOrCreate()\n",
    "\n",
    "# Define schema using StructType and StructField\n",
    "schema = StructType([\n",
    "    StructField(\"UserID\", IntegerType(), True),\n",
    "    StructField(\"Email\", StringType(), True)\n",
    "])\n",
    "\n",
    "# Sample email data\n",
    "data = [\n",
    "    (1, \"alice@gmail.com\"),\n",
    "    (2, \"bob@yahoo.com\"),\n",
    "    (3, \"charlie@gmail.com\"),\n",
    "    (4, \"david@hotmail.com\"),\n",
    "    (5, \"eve@gmail.com\"),\n",
    "    (6, \"frank@yahoo.com\"),\n",
    "    (7, \"grace@outlook.com\"),\n",
    "    (8, \"heidi@gmail.com\"),\n",
    "    (9, \"ivan@hotmail.com\"),\n",
    "    (10, \"judy@outlook.com\"),\n",
    "    (11, \"kevin@gmail.com\"),\n",
    "    (12, \"laura@company.com\"),\n",
    "    (13, \"mallory@company.com\"),\n",
    "    (14, \"oscar@gmail.com\"),\n",
    "    (15, \"peggy@yahoo.com\")\n",
    "]\n",
    "\n",
    "# Create DataFrame\n",
    "df = spark.createDataFrame(data, schema)\n",
    "df.show(truncate=False)\n"
   ]
  },
  {
   "cell_type": "code",
   "execution_count": 2,
   "metadata": {},
   "outputs": [],
   "source": [
    "# Register the DataFrame as a temporary table\n",
    "df.createOrReplaceTempView(\"Users\")\n"
   ]
  },
  {
   "cell_type": "code",
   "execution_count": 4,
   "metadata": {},
   "outputs": [
    {
     "name": "stdout",
     "output_type": "stream",
     "text": [
      "+-----------+----------+\n",
      "|Domain     |EmailCount|\n",
      "+-----------+----------+\n",
      "|gmail.com  |6         |\n",
      "|yahoo.com  |3         |\n",
      "|hotmail.com|2         |\n",
      "|outlook.com|2         |\n",
      "|company.com|2         |\n",
      "+-----------+----------+\n",
      "\n",
      "+-----------+----------+\n",
      "|Domain     |EmailCount|\n",
      "+-----------+----------+\n",
      "|gmail.com  |6         |\n",
      "|yahoo.com  |3         |\n",
      "|hotmail.com|2         |\n",
      "|outlook.com|2         |\n",
      "|company.com|2         |\n",
      "+-----------+----------+\n",
      "\n",
      "+-----------+----------+\n",
      "|     Domain|EmailCount|\n",
      "+-----------+----------+\n",
      "|  gmail.com|         6|\n",
      "|  yahoo.com|         3|\n",
      "|hotmail.com|         2|\n",
      "|outlook.com|         2|\n",
      "|company.com|         2|\n",
      "+-----------+----------+\n",
      "\n",
      "+--------------+----------+\n",
      "|DomainCategory|EmailCount|\n",
      "+--------------+----------+\n",
      "|gmail.com     |6         |\n",
      "|Other         |4         |\n",
      "|yahoo.com     |3         |\n",
      "|hotmail.com   |2         |\n",
      "+--------------+----------+\n",
      "\n"
     ]
    }
   ],
   "source": [
    "# Execute Method 1 Query\n",
    "query1 = spark.sql(\"\"\"\n",
    "SELECT \n",
    "    REGEXP_EXTRACT(Email, '@(.*)', 1) AS Domain, \n",
    "    COUNT(*) AS EmailCount\n",
    "FROM Users\n",
    "GROUP BY Domain\n",
    "ORDER BY EmailCount DESC\n",
    "\"\"\")\n",
    "query1.show(truncate=False)\n",
    "\n",
    "# @(.*) captures everything after the @ symbol\n",
    "\n",
    "\n",
    "\n",
    "# Execute Method 2 Query\n",
    "query2 = spark.sql(\"\"\"\n",
    "SELECT \n",
    "    SPLIT(Email, '@')[1] AS Domain, \n",
    "    COUNT(*) AS EmailCount\n",
    "FROM Users\n",
    "GROUP BY Domain\n",
    "ORDER BY EmailCount DESC\n",
    "\"\"\")\n",
    "query2.show(truncate=False)\n",
    "\n",
    "# Splits the email string at the @ symbol and retrieves the domain part\n",
    "\n",
    "query3 = spark.sql(\"\"\"   \n",
    "  \n",
    "  SELECT \n",
    "    SUBSTRING_INDEX(Email, '@', -1) AS Domain, \n",
    "    COUNT(*) AS EmailCount\n",
    "FROM Users\n",
    "GROUP BY Domain\n",
    "ORDER BY EmailCount DESC;\n",
    "                   \n",
    "                   \"\"\")\n",
    "query3.show()\n",
    "\n",
    "#  substring extracts everything after the @ symbol, giving us the domain.\n",
    "\n",
    "# Execute Method 4 Query (Using CASE Statements)\n",
    "query4 = spark.sql(\"\"\"\n",
    "SELECT \n",
    "    CASE \n",
    "        WHEN Email LIKE '%@gmail.com' THEN 'gmail.com'\n",
    "        WHEN Email LIKE '%@yahoo.com' THEN 'yahoo.com'\n",
    "        WHEN Email LIKE '%@hotmail.com' THEN 'hotmail.com'\n",
    "        ELSE 'Other'\n",
    "    END AS DomainCategory, \n",
    "    COUNT(*) AS EmailCount\n",
    "FROM Users\n",
    "GROUP BY DomainCategory\n",
    "ORDER BY EmailCount DESC\n",
    "\"\"\")\n",
    "query4.show(truncate=False)\n"
   ]
  },
  {
   "cell_type": "markdown",
   "metadata": {},
   "source": [
    "# Pyspark"
   ]
  },
  {
   "cell_type": "code",
   "execution_count": 9,
   "metadata": {},
   "outputs": [
    {
     "name": "stdout",
     "output_type": "stream",
     "text": [
      "+------+-------------------+\n",
      "|UserID|              Email|\n",
      "+------+-------------------+\n",
      "|     1|    alice@gmail.com|\n",
      "|     2|      bob@yahoo.com|\n",
      "|     3|  charlie@gmail.com|\n",
      "|     4|  david@hotmail.com|\n",
      "|     5|      eve@gmail.com|\n",
      "|     6|    frank@yahoo.com|\n",
      "|     7|  grace@outlook.com|\n",
      "|     8|    heidi@gmail.com|\n",
      "|     9|   ivan@hotmail.com|\n",
      "|    10|   judy@outlook.com|\n",
      "|    11|    kevin@gmail.com|\n",
      "|    12|  laura@company.com|\n",
      "|    13|mallory@company.com|\n",
      "|    14|    oscar@gmail.com|\n",
      "|    15|    peggy@yahoo.com|\n",
      "+------+-------------------+\n",
      "\n"
     ]
    }
   ],
   "source": [
    "df.show()"
   ]
  },
  {
   "cell_type": "code",
   "execution_count": 5,
   "metadata": {},
   "outputs": [
    {
     "name": "stdout",
     "output_type": "stream",
     "text": [
      "+-----------+----------+\n",
      "|Domain     |EmailCount|\n",
      "+-----------+----------+\n",
      "|gmail.com  |6         |\n",
      "|yahoo.com  |3         |\n",
      "|hotmail.com|2         |\n",
      "|outlook.com|2         |\n",
      "|company.com|2         |\n",
      "+-----------+----------+\n",
      "\n"
     ]
    }
   ],
   "source": [
    "from pyspark.sql.functions import regexp_extract\n",
    "\n",
    "# Extract domain using regular expressions\n",
    "df_domain_count = df.withColumn(\"Domain\", regexp_extract(\"Email\", \"@(.*)\", 1)) \\\n",
    "                    .groupBy(\"Domain\") \\\n",
    "                    .count() \\\n",
    "                    .withColumnRenamed(\"count\", \"EmailCount\") \\\n",
    "                    .orderBy(\"EmailCount\", ascending=False)\n",
    "\n",
    "df_domain_count.show(truncate=False)\n"
   ]
  },
  {
   "cell_type": "code",
   "execution_count": 6,
   "metadata": {},
   "outputs": [
    {
     "name": "stdout",
     "output_type": "stream",
     "text": [
      "+-----------+----------+\n",
      "|Domain     |EmailCount|\n",
      "+-----------+----------+\n",
      "|gmail.com  |6         |\n",
      "|yahoo.com  |3         |\n",
      "|hotmail.com|2         |\n",
      "|outlook.com|2         |\n",
      "|company.com|2         |\n",
      "+-----------+----------+\n",
      "\n"
     ]
    }
   ],
   "source": [
    "from pyspark.sql.functions import split\n",
    "\n",
    "# Extract domain using split\n",
    "df_split_domain = df.withColumn(\"Domain\", split(\"Email\", \"@\")[1]) \\\n",
    "                    .groupBy(\"Domain\") \\\n",
    "                    .count() \\\n",
    "                    .withColumnRenamed(\"count\", \"EmailCount\") \\\n",
    "                    .orderBy(\"EmailCount\", ascending=False)\n",
    "\n",
    "df_split_domain.show(truncate=False)\n"
   ]
  },
  {
   "cell_type": "code",
   "execution_count": 7,
   "metadata": {},
   "outputs": [
    {
     "name": "stdout",
     "output_type": "stream",
     "text": [
      "+-----------+----------+\n",
      "|Domain     |EmailCount|\n",
      "+-----------+----------+\n",
      "|gmail.com  |6         |\n",
      "|yahoo.com  |3         |\n",
      "|hotmail.com|2         |\n",
      "|outlook.com|2         |\n",
      "|company.com|2         |\n",
      "+-----------+----------+\n",
      "\n"
     ]
    }
   ],
   "source": [
    "from pyspark.sql.functions import expr\n",
    "\n",
    "# Extract domain using SQL expression\n",
    "df_expr_domain = df.withColumn(\"Domain\", expr(\"split(Email, '@')[1]\")) \\\n",
    "                   .groupBy(\"Domain\") \\\n",
    "                   .count() \\\n",
    "                   .withColumnRenamed(\"count\", \"EmailCount\") \\\n",
    "                   .orderBy(\"EmailCount\", ascending=False)\n",
    "\n",
    "df_expr_domain.show(truncate=False)\n"
   ]
  },
  {
   "cell_type": "code",
   "execution_count": 8,
   "metadata": {},
   "outputs": [
    {
     "name": "stdout",
     "output_type": "stream",
     "text": [
      "+-----------+----------+\n",
      "|Domain     |EmailCount|\n",
      "+-----------+----------+\n",
      "|gmail.com  |6         |\n",
      "|yahoo.com  |3         |\n",
      "|outlook.com|2         |\n",
      "|hotmail.com|2         |\n",
      "|company.com|2         |\n",
      "+-----------+----------+\n",
      "\n"
     ]
    }
   ],
   "source": [
    "# Convert DataFrame to RDD and manually extract domains\n",
    "rdd_domain_count = df.rdd.map(lambda row: (row.Email.split('@')[1], 1)) \\\n",
    "                         .reduceByKey(lambda a, b: a + b) \\\n",
    "                         .sortBy(lambda x: x[1], ascending=False)\n",
    "\n",
    "# Convert back to DataFrame for display\n",
    "df_rdd_result = spark.createDataFrame(rdd_domain_count, [\"Domain\", \"EmailCount\"])\n",
    "df_rdd_result.show(truncate=False)\n"
   ]
  },
  {
   "cell_type": "code",
   "execution_count": null,
   "metadata": {},
   "outputs": [],
   "source": []
  }
 ],
 "metadata": {
  "kernelspec": {
   "display_name": "Python 3",
   "language": "python",
   "name": "python3"
  },
  "language_info": {
   "codemirror_mode": {
    "name": "ipython",
    "version": 3
   },
   "file_extension": ".py",
   "mimetype": "text/x-python",
   "name": "python",
   "nbconvert_exporter": "python",
   "pygments_lexer": "ipython3",
   "version": "3.11.8"
  }
 },
 "nbformat": 4,
 "nbformat_minor": 2
}
