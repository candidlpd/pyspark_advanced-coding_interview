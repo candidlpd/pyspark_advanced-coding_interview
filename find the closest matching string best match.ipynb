{
 "cells": [
  {
   "cell_type": "code",
   "execution_count": 1,
   "metadata": {},
   "outputs": [
    {
     "data": {
      "text/plain": [
       "'H:\\\\pyspark_advanced-coding_interview'"
      ]
     },
     "execution_count": 1,
     "metadata": {},
     "output_type": "execute_result"
    }
   ],
   "source": [
    "import os\n",
    "os.getcwd()\n",
    "os.chdir(\"H:\\pyspark_advanced-coding_interview\")\n",
    "os.getcwd()"
   ]
  },
  {
   "cell_type": "markdown",
   "metadata": {},
   "source": [
    "# find the closest matching string | best match"
   ]
  },
  {
   "cell_type": "code",
   "execution_count": 1,
   "metadata": {},
   "outputs": [
    {
     "name": "stdout",
     "output_type": "stream",
     "text": [
      "+---+----------+\n",
      "|id |fruit_name|\n",
      "+---+----------+\n",
      "|1  |apple     |\n",
      "|2  |applle    |\n",
      "|3  |banana    |\n",
      "|4  |bananna   |\n",
      "|5  |grape     |\n",
      "|6  |grapefruit|\n",
      "|7  |pineapple |\n",
      "|8  |mango     |\n",
      "|9  |oranges   |\n",
      "|10 |blueberry |\n",
      "|11 |blackberry|\n",
      "|12 |pear      |\n",
      "|13 |peach     |\n",
      "|14 |apricot   |\n",
      "|15 |plum      |\n",
      "|16 |watermelon|\n",
      "+---+----------+\n",
      "\n"
     ]
    }
   ],
   "source": [
    "from pyspark.sql import SparkSession\n",
    "\n",
    "# Initialize Spark Session\n",
    "spark = SparkSession.builder.appName(\"ClosestMatchExample\").getOrCreate()\n",
    "\n",
    "# Sample Data: Strings to match\n",
    "data = [\n",
    "    (1, \"apple\"),\n",
    "    (2, \"applle\"),\n",
    "    (3, \"banana\"),\n",
    "    (4, \"bananna\"),\n",
    "    (5, \"grape\"),\n",
    "    (6, \"grapefruit\"),\n",
    "    (7, \"pineapple\"),\n",
    "    (8, \"mango\"),\n",
    "    (9, \"oranges\"),\n",
    "    (10, \"blueberry\"),\n",
    "    (11, \"blackberry\"),\n",
    "    (12, \"pear\"),\n",
    "    (13, \"peach\"),\n",
    "    (14, \"apricot\"),\n",
    "    (15, \"plum\"),\n",
    "    (16, \"watermelon\")\n",
    "]\n",
    "\n",
    "# Create DataFrame\n",
    "df = spark.createDataFrame(data, [\"id\", \"fruit_name\"])\n",
    "\n",
    "# Create a Temporary View for Spark SQL\n",
    "df.createOrReplaceTempView(\"fruits\")\n",
    "\n",
    "# Show the original DataFrame\n",
    "df.show(truncate=False)\n"
   ]
  },
  {
   "cell_type": "code",
   "execution_count": null,
   "metadata": {},
   "outputs": [],
   "source": [
    "df.cache()"
   ]
  },
  {
   "cell_type": "code",
   "execution_count": null,
   "metadata": {},
   "outputs": [],
   "source": []
  },
  {
   "cell_type": "code",
   "execution_count": 3,
   "metadata": {},
   "outputs": [
    {
     "name": "stdout",
     "output_type": "stream",
     "text": [
      "+-----------+-------------+--------+\n",
      "|input_fruit|closest_match|distance|\n",
      "+-----------+-------------+--------+\n",
      "|apple      |applle       |1       |\n",
      "|apple      |plum         |4       |\n",
      "|apple      |pear         |4       |\n",
      "|apple      |pineapple    |4       |\n",
      "|apple      |grape        |4       |\n",
      "|apple      |mango        |5       |\n",
      "|apple      |apricot      |5       |\n",
      "|apple      |peach        |5       |\n",
      "|apple      |banana       |5       |\n",
      "|apple      |oranges      |6       |\n",
      "|apple      |bananna      |6       |\n",
      "|apple      |blueberry    |8       |\n",
      "|apple      |watermelon   |8       |\n",
      "|apple      |grapefruit   |8       |\n",
      "|apple      |blackberry   |8       |\n",
      "+-----------+-------------+--------+\n",
      "only showing top 15 rows\n",
      "\n"
     ]
    }
   ],
   "source": [
    "from pyspark.sql.functions import levenshtein, col\n",
    "\n",
    "# Self-join to compare each fruit with all others\n",
    "df_joined = df.alias(\"t1\").crossJoin(df.alias(\"t2\")) \\\n",
    "    .filter(col(\"t1.fruit_name\") != col(\"t2.fruit_name\")) \\\n",
    "    .withColumn(\"distance\", levenshtein(col(\"t1.fruit_name\"), col(\"t2.fruit_name\"))) \\\n",
    "    .orderBy(\"t1.fruit_name\", \"distance\")\n",
    "\n",
    "# Show closest matches\n",
    "df_joined.select(col(\"t1.fruit_name\").alias(\"input_fruit\"),\n",
    "                 col(\"t2.fruit_name\").alias(\"closest_match\"),\n",
    "                 col(\"distance\")).show(15, truncate=False)\n"
   ]
  },
  {
   "cell_type": "code",
   "execution_count": null,
   "metadata": {},
   "outputs": [],
   "source": [
    "res = spark.sql(\"\"\"\n",
    "                \n",
    "  SELECT t1.fruit_name AS input_fruit, t2.fruit_name AS closest_match, \n",
    "       LEVENSHTEIN(t1.fruit_name, t2.fruit_name) AS distance\n",
    "FROM fruits t1\n",
    "JOIN fruits t2 ON t1.fruit_name != t2.fruit_name\n",
    "ORDER BY t1.fruit_name, distance\n",
    "LIMIT 15;\n",
    "              \n",
    "                \n",
    "                \"\"\")\n",
    "res.show()"
   ]
  }
 ],
 "metadata": {
  "kernelspec": {
   "display_name": "Python 3",
   "language": "python",
   "name": "python3"
  },
  "language_info": {
   "codemirror_mode": {
    "name": "ipython",
    "version": 3
   },
   "file_extension": ".py",
   "mimetype": "text/x-python",
   "name": "python",
   "nbconvert_exporter": "python",
   "pygments_lexer": "ipython3",
   "version": "3.11.8"
  }
 },
 "nbformat": 4,
 "nbformat_minor": 2
}
