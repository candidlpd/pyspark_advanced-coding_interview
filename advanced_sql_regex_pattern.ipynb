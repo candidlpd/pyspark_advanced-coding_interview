{
 "cells": [
  {
   "cell_type": "markdown",
   "metadata": {},
   "source": [
    "# Explanation of Regex Components:\n",
    "1. \\\\d - Matches any digit.\n",
    "2. \\\\D - Matches any non-digit.\n",
    "3. [A-Za-z] - Matches any alphabet character.\n",
    "4. [^...] - Matches any character not in the brackets.\n",
    "5.    + plus sign - Matches one or more of the preceding token.\n",
    "6.    * Multiply sign - Matches zero or more of the preceding token.\n",
    "7.    ? - Makes the preceding token optional.\n",
    "8.    $ - End of string.\n",
    "9.    ^ - Beginning of string.\n",
    "10.   \\\\b - Word boundary."
   ]
  },
  {
   "cell_type": "code",
   "execution_count": 1,
   "metadata": {},
   "outputs": [
    {
     "data": {
      "text/plain": [
       "'H:\\\\pyspark_advanced-coding_interview'"
      ]
     },
     "execution_count": 1,
     "metadata": {},
     "output_type": "execute_result"
    }
   ],
   "source": [
    "import os\n",
    "os.getcwd()\n",
    "os.chdir(\"H:\\pyspark_advanced-coding_interview\")\n",
    "os.getcwd()"
   ]
  },
  {
   "cell_type": "code",
   "execution_count": 2,
   "metadata": {},
   "outputs": [],
   "source": [
    "from pyspark.sql import SparkSession\n",
    "\n",
    "# Create a Spark session with optimized settings\n",
    "spark = (\n",
    "    SparkSession.builder \n",
    "    .appName(\"OptimizedLocalSpark\") \n",
    "    .config(\"spark.driver.memory\", \"8g\")        \n",
    "    .config(\"spark.executor.memory\", \"8g\")    \n",
    "    .config(\"spark.executor.cores\", \"4\")       \n",
    "    .config(\"spark.cores.max\", \"12\")           \n",
    "    .config(\"spark.sql.shuffle.partitions\", \"28\")  \n",
    "    .config(\"spark.serializer\", \"org.apache.spark.serializer.KryoSerializer\") \n",
    "    .getOrCreate()\n",
    ")\n",
    "sc = spark.sparkContext"
   ]
  },
  {
   "cell_type": "code",
   "execution_count": 27,
   "metadata": {},
   "outputs": [
    {
     "name": "stdout",
     "output_type": "stream",
     "text": [
      "+---+----------+----------------------+-----------------------+-------------------+------------+-------------------+\n",
      "|id |date      |email                 |url                    |mixed_string       |product_code|camel_case         |\n",
      "+---+----------+----------------------+-----------------------+-------------------+------------+-------------------+\n",
      "|1  |2024-10-22|example@domain.com    |https://www.google.com |This_is-A_Test123  |Product_100 |CamelCaseWords     |\n",
      "|2  |1990/11/30|invalid-email@        |https://mail.yahoo.com |HELLO_world!       |Prod_450    |anotherCamelCase   |\n",
      "|3  |2005.05.10|user@domain.co.uk     |ftp://example.org      |UpperCASE123Lower  |prod-123    |YetAnotherCamelCase|\n",
      "|4  |12-12-2012|contact@sub.domain.com|https://openai.com/blog|Replace-these_chars|Ref-200     |thisIsCamelCase    |\n",
      "|5  |1980-06-15|name@example.com      |http://spark.apache.org|UpperCaseString    |Product_789 |CamelCases         |\n",
      "+---+----------+----------------------+-----------------------+-------------------+------------+-------------------+\n",
      "\n"
     ]
    }
   ],
   "source": [
    "from pyspark.sql import SparkSession\n",
    "\n",
    "# Initialize Spark Session\n",
    "spark = SparkSession.builder.appName(\"AdvancedRegexExamples\").getOrCreate()\n",
    "\n",
    "# Sample Data: Various strings for regex processing\n",
    "data = [\n",
    "    (1, \"2024-10-22\", \"example@domain.com\", \"https://www.google.com\", \"This_is-A_Test123\", \"Product_100\", \"CamelCaseWords\"),\n",
    "    (2, \"1990/11/30\", \"invalid-email@\", \"https://mail.yahoo.com\", \"HELLO_world!\", \"Prod_450\", \"anotherCamelCase\"),\n",
    "    (3, \"2005.05.10\", \"user@domain.co.uk\", \"ftp://example.org\", \"UpperCASE123Lower\", \"prod-123\", \"YetAnotherCamelCase\"),\n",
    "    (4, \"12-12-2012\", \"contact@sub.domain.com\", \"https://openai.com/blog\", \"Replace-these_chars\", \"Ref-200\", \"thisIsCamelCase\"),\n",
    "    (5, \"1980-06-15\", \"name@example.com\", \"http://spark.apache.org\", \"UpperCaseString\", \"Product_789\", \"CamelCases\")\n",
    "]\n",
    "\n",
    "# Create DataFrame\n",
    "df = spark.createDataFrame(data, [\"id\", \"date\", \"email\", \"url\", \"mixed_string\", \"product_code\", \"camel_case\"])\n",
    "\n",
    "# Create a Temporary View for Spark SQL\n",
    "df.createOrReplaceTempView(\"regex_examples\")\n",
    "df.cache()\n",
    "# Show the Original DataFrame\n",
    "df.show(truncate=False)\n"
   ]
  },
  {
   "cell_type": "markdown",
   "metadata": {},
   "source": [
    "# Extract Year from a Date String Using Regex"
   ]
  },
  {
   "cell_type": "code",
   "execution_count": 2,
   "metadata": {},
   "outputs": [
    {
     "name": "stdout",
     "output_type": "stream",
     "text": [
      "+---+----------+----+\n",
      "| id|      date|year|\n",
      "+---+----------+----+\n",
      "|  1|2024-10-22|    |\n",
      "|  2|1990/11/30|    |\n",
      "|  3|2005.05.10|    |\n",
      "|  4|12-12-2012|    |\n",
      "|  5|1980-06-15|    |\n",
      "+---+----------+----+\n",
      "\n"
     ]
    }
   ],
   "source": [
    "res1 = spark.sql (\"\"\" \n",
    "  \n",
    "SELECT id, date, regexp_extract(date, '\\\\d{4}', 0) AS year\n",
    "FROM regex_examples;\n",
    "\n",
    "                 \n",
    "                   \n",
    "                   \"\"\")\n",
    "\n",
    "res1.show()"
   ]
  },
  {
   "cell_type": "code",
   "execution_count": 3,
   "metadata": {},
   "outputs": [
    {
     "name": "stdout",
     "output_type": "stream",
     "text": [
      "+---+----------+----------------------+-----------------------+-------------------+------------+-------------------+----+\n",
      "|id |date      |email                 |url                    |mixed_string       |product_code|camel_case         |year|\n",
      "+---+----------+----------------------+-----------------------+-------------------+------------+-------------------+----+\n",
      "|1  |2024-10-22|example@domain.com    |https://www.google.com |This_is-A_Test123  |Product_100 |CamelCaseWords     |2024|\n",
      "|2  |1990/11/30|invalid-email@        |https://mail.yahoo.com |HELLO_world!       |Prod_450    |anotherCamelCase   |1990|\n",
      "|3  |2005.05.10|user@domain.co.uk     |ftp://example.org      |UpperCASE123Lower  |prod-123    |YetAnotherCamelCase|2005|\n",
      "|4  |12-12-2012|contact@sub.domain.com|https://openai.com/blog|Replace-these_chars|Ref-200     |thisIsCamelCase    |2012|\n",
      "|5  |1980-06-15|name@example.com      |http://spark.apache.org|UpperCaseString    |Product_789 |CamelCases         |1980|\n",
      "+---+----------+----------------------+-----------------------+-------------------+------------+-------------------+----+\n",
      "\n"
     ]
    }
   ],
   "source": [
    "from pyspark.sql.functions import regexp_extract\n",
    "\n",
    "df.withColumn(\"year\", regexp_extract(\"date\", \"\\\\d{4}\", 0)).show(truncate=False)\n"
   ]
  },
  {
   "cell_type": "markdown",
   "metadata": {},
   "source": [
    "# Validate if a String is a Valid Email Address"
   ]
  },
  {
   "cell_type": "code",
   "execution_count": 4,
   "metadata": {},
   "outputs": [
    {
     "name": "stdout",
     "output_type": "stream",
     "text": [
      "+---+--------------------+------------+\n",
      "| id|               email|email_status|\n",
      "+---+--------------------+------------+\n",
      "|  1|  example@domain.com|       Valid|\n",
      "|  2|      invalid-email@|     Invalid|\n",
      "|  3|   user@domain.co.uk|       Valid|\n",
      "|  4|contact@sub.domai...|       Valid|\n",
      "|  5|    name@example.com|       Valid|\n",
      "+---+--------------------+------------+\n",
      "\n"
     ]
    }
   ],
   "source": [
    "res2 = spark.sql (\"\"\" \n",
    "  \n",
    "SELECT id, email, \n",
    "       CASE WHEN email RLIKE '^[A-Za-z0-9._%+-]+@[A-Za-z0-9.-]+\\\\.[A-Za-z]{2,}$' THEN 'Valid' ELSE 'Invalid' END AS email_status\n",
    "FROM regex_examples;\n",
    "\n",
    "\n",
    "                 \n",
    "                   \n",
    "                   \"\"\")\n",
    "\n",
    "res2.show()"
   ]
  },
  {
   "cell_type": "code",
   "execution_count": 5,
   "metadata": {},
   "outputs": [
    {
     "name": "stdout",
     "output_type": "stream",
     "text": [
      "+---+----------+----------------------+-----------------------+-------------------+------------+-------------------+------------+\n",
      "|id |date      |email                 |url                    |mixed_string       |product_code|camel_case         |email_status|\n",
      "+---+----------+----------------------+-----------------------+-------------------+------------+-------------------+------------+\n",
      "|1  |2024-10-22|example@domain.com    |https://www.google.com |This_is-A_Test123  |Product_100 |CamelCaseWords     |true        |\n",
      "|2  |1990/11/30|invalid-email@        |https://mail.yahoo.com |HELLO_world!       |Prod_450    |anotherCamelCase   |false       |\n",
      "|3  |2005.05.10|user@domain.co.uk     |ftp://example.org      |UpperCASE123Lower  |prod-123    |YetAnotherCamelCase|true        |\n",
      "|4  |12-12-2012|contact@sub.domain.com|https://openai.com/blog|Replace-these_chars|Ref-200     |thisIsCamelCase    |true        |\n",
      "|5  |1980-06-15|name@example.com      |http://spark.apache.org|UpperCaseString    |Product_789 |CamelCases         |true        |\n",
      "+---+----------+----------------------+-----------------------+-------------------+------------+-------------------+------------+\n",
      "\n"
     ]
    }
   ],
   "source": [
    "df.withColumn(\"email_status\", df[\"email\"].rlike(\"^[A-Za-z0-9._%+-]+@[A-Za-z0-9.-]+\\\\.[A-Za-z]{2,}$\")).show(truncate=False)\n"
   ]
  },
  {
   "cell_type": "markdown",
   "metadata": {},
   "source": [
    "# Extract Domain Names from URLs"
   ]
  },
  {
   "cell_type": "code",
   "execution_count": 6,
   "metadata": {},
   "outputs": [
    {
     "name": "stdout",
     "output_type": "stream",
     "text": [
      "+---+--------------------+----------------+\n",
      "| id|                 url|          domain|\n",
      "+---+--------------------+----------------+\n",
      "|  1|https://www.googl...|      google.com|\n",
      "|  2|https://mail.yaho...|  mail.yahoo.com|\n",
      "|  3|   ftp://example.org|                |\n",
      "|  4|https://openai.co...|      openai.com|\n",
      "|  5|http://spark.apac...|spark.apache.org|\n",
      "+---+--------------------+----------------+\n",
      "\n"
     ]
    }
   ],
   "source": [
    "res3 = spark.sql (\"\"\" \n",
    "  \n",
    "SELECT id, url, regexp_extract(url, 'https?://(www\\\\.)?([^/]+)', 2) AS domain\n",
    "FROM regex_examples;\n",
    "\n",
    "\n",
    "\n",
    "                 \n",
    "                   \n",
    "                   \"\"\")\n",
    "\n",
    "res3.show()"
   ]
  },
  {
   "cell_type": "code",
   "execution_count": 7,
   "metadata": {},
   "outputs": [
    {
     "name": "stdout",
     "output_type": "stream",
     "text": [
      "+---+----------+----------------------+-----------------------+-------------------+------------+-------------------+----------------+\n",
      "|id |date      |email                 |url                    |mixed_string       |product_code|camel_case         |domain          |\n",
      "+---+----------+----------------------+-----------------------+-------------------+------------+-------------------+----------------+\n",
      "|1  |2024-10-22|example@domain.com    |https://www.google.com |This_is-A_Test123  |Product_100 |CamelCaseWords     |google.com      |\n",
      "|2  |1990/11/30|invalid-email@        |https://mail.yahoo.com |HELLO_world!       |Prod_450    |anotherCamelCase   |mail.yahoo.com  |\n",
      "|3  |2005.05.10|user@domain.co.uk     |ftp://example.org      |UpperCASE123Lower  |prod-123    |YetAnotherCamelCase|                |\n",
      "|4  |12-12-2012|contact@sub.domain.com|https://openai.com/blog|Replace-these_chars|Ref-200     |thisIsCamelCase    |openai.com      |\n",
      "|5  |1980-06-15|name@example.com      |http://spark.apache.org|UpperCaseString    |Product_789 |CamelCases         |spark.apache.org|\n",
      "+---+----------+----------------------+-----------------------+-------------------+------------+-------------------+----------------+\n",
      "\n"
     ]
    }
   ],
   "source": [
    "df.withColumn(\"domain\", regexp_extract(\"url\", \"https?://(www\\\\.)?([^/]+)\", 2)).show(truncate=False)\n"
   ]
  },
  {
   "cell_type": "markdown",
   "metadata": {},
   "source": [
    "# Replace - and _ with a Space"
   ]
  },
  {
   "cell_type": "code",
   "execution_count": 8,
   "metadata": {},
   "outputs": [
    {
     "name": "stdout",
     "output_type": "stream",
     "text": [
      "+---+-------------------+-------------------+\n",
      "| id|       mixed_string|           replaced|\n",
      "+---+-------------------+-------------------+\n",
      "|  1|  This_is-A_Test123|  This is A Test123|\n",
      "|  2|       HELLO_world!|       HELLO world!|\n",
      "|  3|  UpperCASE123Lower|  UpperCASE123Lower|\n",
      "|  4|Replace-these_chars|Replace these chars|\n",
      "|  5|    UpperCaseString|    UpperCaseString|\n",
      "+---+-------------------+-------------------+\n",
      "\n"
     ]
    }
   ],
   "source": [
    "res4 = spark.sql (\"\"\" \n",
    "  \n",
    "\n",
    "SELECT id, mixed_string, regexp_replace(mixed_string, '[-_]', ' ') AS replaced\n",
    "FROM regex_examples;\n",
    "\n",
    "\n",
    "                 \n",
    "                   \n",
    "                   \"\"\")\n",
    "\n",
    "res4.show()"
   ]
  },
  {
   "cell_type": "code",
   "execution_count": 10,
   "metadata": {},
   "outputs": [
    {
     "name": "stdout",
     "output_type": "stream",
     "text": [
      "+---+----------+----------------------+-----------------------+-------------------+------------+-------------------+-------------------+\n",
      "|id |date      |email                 |url                    |mixed_string       |product_code|camel_case         |replaced           |\n",
      "+---+----------+----------------------+-----------------------+-------------------+------------+-------------------+-------------------+\n",
      "|1  |2024-10-22|example@domain.com    |https://www.google.com |This_is-A_Test123  |Product_100 |CamelCaseWords     |This is A Test123  |\n",
      "|2  |1990/11/30|invalid-email@        |https://mail.yahoo.com |HELLO_world!       |Prod_450    |anotherCamelCase   |HELLO world!       |\n",
      "|3  |2005.05.10|user@domain.co.uk     |ftp://example.org      |UpperCASE123Lower  |prod-123    |YetAnotherCamelCase|UpperCASE123Lower  |\n",
      "|4  |12-12-2012|contact@sub.domain.com|https://openai.com/blog|Replace-these_chars|Ref-200     |thisIsCamelCase    |Replace these chars|\n",
      "|5  |1980-06-15|name@example.com      |http://spark.apache.org|UpperCaseString    |Product_789 |CamelCases         |UpperCaseString    |\n",
      "+---+----------+----------------------+-----------------------+-------------------+------------+-------------------+-------------------+\n",
      "\n"
     ]
    }
   ],
   "source": [
    "from pyspark.sql.functions import regexp_replace\n",
    "df.withColumn(\"replaced\", regexp_replace(\"mixed_string\", \"[-_]\", \" \")).show(truncate=False)\n"
   ]
  },
  {
   "cell_type": "markdown",
   "metadata": {},
   "source": [
    "# Extract Only Uppercase Letters from a String"
   ]
  },
  {
   "cell_type": "code",
   "execution_count": 11,
   "metadata": {},
   "outputs": [
    {
     "name": "stdout",
     "output_type": "stream",
     "text": [
      "+---+-------------------+-----------------+\n",
      "| id|       mixed_string|uppercase_letters|\n",
      "+---+-------------------+-----------------+\n",
      "|  1|  This_is-A_Test123|                T|\n",
      "|  2|       HELLO_world!|            HELLO|\n",
      "|  3|  UpperCASE123Lower|                U|\n",
      "|  4|Replace-these_chars|                R|\n",
      "|  5|    UpperCaseString|                U|\n",
      "+---+-------------------+-----------------+\n",
      "\n"
     ]
    }
   ],
   "source": [
    "res5 = spark.sql (\"\"\" \n",
    "  \n",
    "\n",
    "SELECT id, mixed_string, regexp_extract(mixed_string, '[A-Z]+', 0) AS uppercase_letters\n",
    "FROM regex_examples;\n",
    "\n",
    "                   \n",
    "                   \"\"\")\n",
    "\n",
    "res5.show()"
   ]
  },
  {
   "cell_type": "code",
   "execution_count": 12,
   "metadata": {},
   "outputs": [
    {
     "name": "stdout",
     "output_type": "stream",
     "text": [
      "+---+----------+----------------------+-----------------------+-------------------+------------+-------------------+-----------------+\n",
      "|id |date      |email                 |url                    |mixed_string       |product_code|camel_case         |uppercase_letters|\n",
      "+---+----------+----------------------+-----------------------+-------------------+------------+-------------------+-----------------+\n",
      "|1  |2024-10-22|example@domain.com    |https://www.google.com |This_is-A_Test123  |Product_100 |CamelCaseWords     |T                |\n",
      "|2  |1990/11/30|invalid-email@        |https://mail.yahoo.com |HELLO_world!       |Prod_450    |anotherCamelCase   |HELLO            |\n",
      "|3  |2005.05.10|user@domain.co.uk     |ftp://example.org      |UpperCASE123Lower  |prod-123    |YetAnotherCamelCase|U                |\n",
      "|4  |12-12-2012|contact@sub.domain.com|https://openai.com/blog|Replace-these_chars|Ref-200     |thisIsCamelCase    |R                |\n",
      "|5  |1980-06-15|name@example.com      |http://spark.apache.org|UpperCaseString    |Product_789 |CamelCases         |U                |\n",
      "+---+----------+----------------------+-----------------------+-------------------+------------+-------------------+-----------------+\n",
      "\n"
     ]
    }
   ],
   "source": [
    "df.withColumn(\"uppercase_letters\", regexp_extract(\"mixed_string\", \"[A-Z]+\", 0)).show(truncate=False)\n"
   ]
  },
  {
   "cell_type": "markdown",
   "metadata": {},
   "source": [
    "# Replace Vowels with *"
   ]
  },
  {
   "cell_type": "code",
   "execution_count": 13,
   "metadata": {},
   "outputs": [
    {
     "name": "stdout",
     "output_type": "stream",
     "text": [
      "+---+-------------------+-------------------+\n",
      "| id|       mixed_string|    replaced_vowels|\n",
      "+---+-------------------+-------------------+\n",
      "|  1|  This_is-A_Test123|  Th*s_*s-*_T*st123|\n",
      "|  2|       HELLO_world!|       H*LL*_w*rld!|\n",
      "|  3|  UpperCASE123Lower|  *pp*rC*S*123L*w*r|\n",
      "|  4|Replace-these_chars|R*pl*c*-th*s*_ch*rs|\n",
      "|  5|    UpperCaseString|    *pp*rC*s*Str*ng|\n",
      "+---+-------------------+-------------------+\n",
      "\n"
     ]
    }
   ],
   "source": [
    "res6 = spark.sql (\"\"\" \n",
    "  \n",
    "SELECT id, mixed_string, regexp_replace(mixed_string, '[AEIOUaeiou]', '*') AS replaced_vowels\n",
    "FROM regex_examples;\n",
    "\n",
    "                   \n",
    "                   \"\"\")\n",
    "\n",
    "res6.show()"
   ]
  },
  {
   "cell_type": "code",
   "execution_count": 14,
   "metadata": {},
   "outputs": [
    {
     "name": "stdout",
     "output_type": "stream",
     "text": [
      "+---+----------+----------------------+-----------------------+-------------------+------------+-------------------+-------------------+\n",
      "|id |date      |email                 |url                    |mixed_string       |product_code|camel_case         |replaced_vowels    |\n",
      "+---+----------+----------------------+-----------------------+-------------------+------------+-------------------+-------------------+\n",
      "|1  |2024-10-22|example@domain.com    |https://www.google.com |This_is-A_Test123  |Product_100 |CamelCaseWords     |Th*s_*s-*_T*st123  |\n",
      "|2  |1990/11/30|invalid-email@        |https://mail.yahoo.com |HELLO_world!       |Prod_450    |anotherCamelCase   |H*LL*_w*rld!       |\n",
      "|3  |2005.05.10|user@domain.co.uk     |ftp://example.org      |UpperCASE123Lower  |prod-123    |YetAnotherCamelCase|*pp*rC*S*123L*w*r  |\n",
      "|4  |12-12-2012|contact@sub.domain.com|https://openai.com/blog|Replace-these_chars|Ref-200     |thisIsCamelCase    |R*pl*c*-th*s*_ch*rs|\n",
      "|5  |1980-06-15|name@example.com      |http://spark.apache.org|UpperCaseString    |Product_789 |CamelCases         |*pp*rC*s*Str*ng    |\n",
      "+---+----------+----------------------+-----------------------+-------------------+------------+-------------------+-------------------+\n",
      "\n"
     ]
    }
   ],
   "source": [
    "df.withColumn(\"replaced_vowels\", regexp_replace(\"mixed_string\", \"[AEIOUaeiou]\", \"*\")).show(truncate=False)\n"
   ]
  },
  {
   "cell_type": "markdown",
   "metadata": {},
   "source": [
    "# Extract Numbers That Appear at the End of the String"
   ]
  },
  {
   "cell_type": "code",
   "execution_count": 15,
   "metadata": {},
   "outputs": [
    {
     "name": "stdout",
     "output_type": "stream",
     "text": [
      "+---+------------+-----------+\n",
      "| id|product_code|end_numbers|\n",
      "+---+------------+-----------+\n",
      "|  1| Product_100|           |\n",
      "|  2|    Prod_450|           |\n",
      "|  3|    prod-123|           |\n",
      "|  4|     Ref-200|           |\n",
      "|  5| Product_789|           |\n",
      "+---+------------+-----------+\n",
      "\n"
     ]
    }
   ],
   "source": [
    "res7 = spark.sql (\"\"\" \n",
    "  \n",
    "SELECT id, product_code, regexp_extract(product_code, '\\\\d+$', 0) AS end_numbers\n",
    "FROM regex_examples;\n",
    "\n",
    "\n",
    "                   \n",
    "                   \"\"\")\n",
    "\n",
    "res7.show()"
   ]
  },
  {
   "cell_type": "code",
   "execution_count": 16,
   "metadata": {},
   "outputs": [
    {
     "name": "stdout",
     "output_type": "stream",
     "text": [
      "+---+----------+----------------------+-----------------------+-------------------+------------+-------------------+-----------+\n",
      "|id |date      |email                 |url                    |mixed_string       |product_code|camel_case         |end_numbers|\n",
      "+---+----------+----------------------+-----------------------+-------------------+------------+-------------------+-----------+\n",
      "|1  |2024-10-22|example@domain.com    |https://www.google.com |This_is-A_Test123  |Product_100 |CamelCaseWords     |100        |\n",
      "|2  |1990/11/30|invalid-email@        |https://mail.yahoo.com |HELLO_world!       |Prod_450    |anotherCamelCase   |450        |\n",
      "|3  |2005.05.10|user@domain.co.uk     |ftp://example.org      |UpperCASE123Lower  |prod-123    |YetAnotherCamelCase|123        |\n",
      "|4  |12-12-2012|contact@sub.domain.com|https://openai.com/blog|Replace-these_chars|Ref-200     |thisIsCamelCase    |200        |\n",
      "|5  |1980-06-15|name@example.com      |http://spark.apache.org|UpperCaseString    |Product_789 |CamelCases         |789        |\n",
      "+---+----------+----------------------+-----------------------+-------------------+------------+-------------------+-----------+\n",
      "\n"
     ]
    }
   ],
   "source": [
    "df.withColumn(\"end_numbers\", regexp_extract(\"product_code\", \"\\\\d+$\", 0)).show(truncate=False)\n"
   ]
  },
  {
   "cell_type": "markdown",
   "metadata": {},
   "source": [
    "# Check if String Contains Special Characters"
   ]
  },
  {
   "cell_type": "code",
   "execution_count": 17,
   "metadata": {},
   "outputs": [
    {
     "name": "stdout",
     "output_type": "stream",
     "text": [
      "+---+-------------------+----------------+\n",
      "| id|       mixed_string|has_special_char|\n",
      "+---+-------------------+----------------+\n",
      "|  1|  This_is-A_Test123|             Yes|\n",
      "|  2|       HELLO_world!|             Yes|\n",
      "|  3|  UpperCASE123Lower|              No|\n",
      "|  4|Replace-these_chars|             Yes|\n",
      "|  5|    UpperCaseString|              No|\n",
      "+---+-------------------+----------------+\n",
      "\n"
     ]
    }
   ],
   "source": [
    "res8 = spark.sql (\"\"\" \n",
    "  \n",
    "SELECT id, mixed_string, \n",
    "       CASE WHEN mixed_string RLIKE '[^A-Za-z0-9]' THEN 'Yes' ELSE 'No' END AS has_special_char\n",
    "FROM regex_examples;\n",
    "\n",
    "                   \n",
    "                   \"\"\")\n",
    "\n",
    "res8.show()"
   ]
  },
  {
   "cell_type": "code",
   "execution_count": 18,
   "metadata": {},
   "outputs": [
    {
     "name": "stdout",
     "output_type": "stream",
     "text": [
      "+---+----------+----------------------+-----------------------+-------------------+------------+-------------------+----------------+\n",
      "|id |date      |email                 |url                    |mixed_string       |product_code|camel_case         |has_special_char|\n",
      "+---+----------+----------------------+-----------------------+-------------------+------------+-------------------+----------------+\n",
      "|1  |2024-10-22|example@domain.com    |https://www.google.com |This_is-A_Test123  |Product_100 |CamelCaseWords     |true            |\n",
      "|2  |1990/11/30|invalid-email@        |https://mail.yahoo.com |HELLO_world!       |Prod_450    |anotherCamelCase   |true            |\n",
      "|3  |2005.05.10|user@domain.co.uk     |ftp://example.org      |UpperCASE123Lower  |prod-123    |YetAnotherCamelCase|false           |\n",
      "|4  |12-12-2012|contact@sub.domain.com|https://openai.com/blog|Replace-these_chars|Ref-200     |thisIsCamelCase    |true            |\n",
      "|5  |1980-06-15|name@example.com      |http://spark.apache.org|UpperCaseString    |Product_789 |CamelCases         |false           |\n",
      "+---+----------+----------------------+-----------------------+-------------------+------------+-------------------+----------------+\n",
      "\n"
     ]
    }
   ],
   "source": [
    "df.withColumn(\"has_special_char\", df[\"mixed_string\"].rlike(\"[^A-Za-z0-9]\")).show(truncate=False)\n"
   ]
  },
  {
   "cell_type": "markdown",
   "metadata": {},
   "source": [
    "# Replace Sequences of More Than 1 Digit with#"
   ]
  },
  {
   "cell_type": "code",
   "execution_count": 20,
   "metadata": {},
   "outputs": [
    {
     "name": "stdout",
     "output_type": "stream",
     "text": [
      "+---+------------+-----------+\n",
      "| id|product_code|   replaced|\n",
      "+---+------------+-----------+\n",
      "|  1| Product_100|Product_100|\n",
      "|  2|    Prod_450|   Prod_450|\n",
      "|  3|    prod-123|   prod-123|\n",
      "|  4|     Ref-200|    Ref-200|\n",
      "|  5| Product_789|Product_789|\n",
      "+---+------------+-----------+\n",
      "\n"
     ]
    }
   ],
   "source": [
    "res9 = spark.sql (\"\"\" \n",
    "  \n",
    "SELECT id, product_code, regexp_replace(product_code, '\\\\d{2,}', '#') AS replaced\n",
    "FROM regex_examples;\n",
    "\n",
    "                   \n",
    "                   \"\"\")\n",
    "\n",
    "res9.show()"
   ]
  },
  {
   "cell_type": "code",
   "execution_count": 21,
   "metadata": {},
   "outputs": [
    {
     "name": "stdout",
     "output_type": "stream",
     "text": [
      "+---+----------+----------------------+-----------------------+-------------------+------------+-------------------+---------+\n",
      "|id |date      |email                 |url                    |mixed_string       |product_code|camel_case         |replaced |\n",
      "+---+----------+----------------------+-----------------------+-------------------+------------+-------------------+---------+\n",
      "|1  |2024-10-22|example@domain.com    |https://www.google.com |This_is-A_Test123  |Product_100 |CamelCaseWords     |Product_#|\n",
      "|2  |1990/11/30|invalid-email@        |https://mail.yahoo.com |HELLO_world!       |Prod_450    |anotherCamelCase   |Prod_#   |\n",
      "|3  |2005.05.10|user@domain.co.uk     |ftp://example.org      |UpperCASE123Lower  |prod-123    |YetAnotherCamelCase|prod-#   |\n",
      "|4  |12-12-2012|contact@sub.domain.com|https://openai.com/blog|Replace-these_chars|Ref-200     |thisIsCamelCase    |Ref-#    |\n",
      "|5  |1980-06-15|name@example.com      |http://spark.apache.org|UpperCaseString    |Product_789 |CamelCases         |Product_#|\n",
      "+---+----------+----------------------+-----------------------+-------------------+------------+-------------------+---------+\n",
      "\n"
     ]
    }
   ],
   "source": [
    "df.withColumn(\"replaced\", regexp_replace(\"product_code\", \"\\\\d{2,}\", \"#\")).show(truncate=False)\n"
   ]
  },
  {
   "cell_type": "markdown",
   "metadata": {},
   "source": [
    "# Extract Words That Start With a Capital Letter"
   ]
  },
  {
   "cell_type": "code",
   "execution_count": 22,
   "metadata": {},
   "outputs": [
    {
     "name": "stdout",
     "output_type": "stream",
     "text": [
      "+---+-------------------+------------+\n",
      "| id|       mixed_string|capital_word|\n",
      "+---+-------------------+------------+\n",
      "|  1|  This_is-A_Test123|            |\n",
      "|  2|       HELLO_world!|            |\n",
      "|  3|  UpperCASE123Lower|            |\n",
      "|  4|Replace-these_chars|            |\n",
      "|  5|    UpperCaseString|            |\n",
      "+---+-------------------+------------+\n",
      "\n"
     ]
    }
   ],
   "source": [
    "res10 = spark.sql (\"\"\" \n",
    "  \n",
    "SELECT id, mixed_string, regexp_extract(mixed_string, '\\\\b[A-Z][a-zA-Z]*', 0) AS capital_word\n",
    "FROM regex_examples;\n",
    "\n",
    "                   \n",
    "                   \"\"\")\n",
    "\n",
    "res10.show()"
   ]
  },
  {
   "cell_type": "code",
   "execution_count": 23,
   "metadata": {},
   "outputs": [
    {
     "name": "stdout",
     "output_type": "stream",
     "text": [
      "+---+----------+----------------------+-----------------------+-------------------+------------+-------------------+---------------+\n",
      "|id |date      |email                 |url                    |mixed_string       |product_code|camel_case         |capital_word   |\n",
      "+---+----------+----------------------+-----------------------+-------------------+------------+-------------------+---------------+\n",
      "|1  |2024-10-22|example@domain.com    |https://www.google.com |This_is-A_Test123  |Product_100 |CamelCaseWords     |This           |\n",
      "|2  |1990/11/30|invalid-email@        |https://mail.yahoo.com |HELLO_world!       |Prod_450    |anotherCamelCase   |HELLO          |\n",
      "|3  |2005.05.10|user@domain.co.uk     |ftp://example.org      |UpperCASE123Lower  |prod-123    |YetAnotherCamelCase|UpperCASE      |\n",
      "|4  |12-12-2012|contact@sub.domain.com|https://openai.com/blog|Replace-these_chars|Ref-200     |thisIsCamelCase    |Replace        |\n",
      "|5  |1980-06-15|name@example.com      |http://spark.apache.org|UpperCaseString    |Product_789 |CamelCases         |UpperCaseString|\n",
      "+---+----------+----------------------+-----------------------+-------------------+------------+-------------------+---------------+\n",
      "\n"
     ]
    }
   ],
   "source": [
    "df.withColumn(\"capital_word\", regexp_extract(\"mixed_string\", \"\\\\b[A-Z][a-zA-Z]*\", 0)).show(truncate=False)\n"
   ]
  },
  {
   "cell_type": "markdown",
   "metadata": {},
   "source": [
    "# Remove All Digits from a String"
   ]
  },
  {
   "cell_type": "code",
   "execution_count": 25,
   "metadata": {},
   "outputs": [
    {
     "name": "stdout",
     "output_type": "stream",
     "text": [
      "+---+-------------------+-------------------+\n",
      "| id|       mixed_string|          no_digits|\n",
      "+---+-------------------+-------------------+\n",
      "|  1|  This_is-A_Test123|  This_is-A_Test123|\n",
      "|  2|       HELLO_world!|        HELLO_worl!|\n",
      "|  3|  UpperCASE123Lower|  UpperCASE123Lower|\n",
      "|  4|Replace-these_chars|Replace-these_chars|\n",
      "|  5|    UpperCaseString|    UpperCaseString|\n",
      "+---+-------------------+-------------------+\n",
      "\n"
     ]
    }
   ],
   "source": [
    "res11 = spark.sql (\"\"\" \n",
    "  \n",
    "SELECT id, mixed_string, regexp_replace(mixed_string, '\\\\d', '') AS no_digits\n",
    "FROM regex_examples;\n",
    "\n",
    "                   \n",
    "                   \"\"\")\n",
    "\n",
    "res11.show()"
   ]
  },
  {
   "cell_type": "code",
   "execution_count": 26,
   "metadata": {},
   "outputs": [
    {
     "name": "stdout",
     "output_type": "stream",
     "text": [
      "+---+----------+----------------------+-----------------------+-------------------+------------+-------------------+-------------------+\n",
      "|id |date      |email                 |url                    |mixed_string       |product_code|camel_case         |no_digits          |\n",
      "+---+----------+----------------------+-----------------------+-------------------+------------+-------------------+-------------------+\n",
      "|1  |2024-10-22|example@domain.com    |https://www.google.com |This_is-A_Test123  |Product_100 |CamelCaseWords     |This_is-A_Test     |\n",
      "|2  |1990/11/30|invalid-email@        |https://mail.yahoo.com |HELLO_world!       |Prod_450    |anotherCamelCase   |HELLO_world!       |\n",
      "|3  |2005.05.10|user@domain.co.uk     |ftp://example.org      |UpperCASE123Lower  |prod-123    |YetAnotherCamelCase|UpperCASELower     |\n",
      "|4  |12-12-2012|contact@sub.domain.com|https://openai.com/blog|Replace-these_chars|Ref-200     |thisIsCamelCase    |Replace-these_chars|\n",
      "|5  |1980-06-15|name@example.com      |http://spark.apache.org|UpperCaseString    |Product_789 |CamelCases         |UpperCaseString    |\n",
      "+---+----------+----------------------+-----------------------+-------------------+------------+-------------------+-------------------+\n",
      "\n"
     ]
    }
   ],
   "source": [
    "df.withColumn(\"no_digits\", regexp_replace(\"mixed_string\", \"\\\\d\", \"\")).show(truncate=False)\n"
   ]
  },
  {
   "cell_type": "markdown",
   "metadata": {},
   "source": [
    "# Check if String Matches a Specific Pattern (like Prod_###)"
   ]
  },
  {
   "cell_type": "code",
   "execution_count": 28,
   "metadata": {},
   "outputs": [
    {
     "name": "stdout",
     "output_type": "stream",
     "text": [
      "+---+------------+--------------+\n",
      "| id|product_code| pattern_check|\n",
      "+---+------------+--------------+\n",
      "|  1| Product_100|Does Not Match|\n",
      "|  2|    Prod_450|Does Not Match|\n",
      "|  3|    prod-123|Does Not Match|\n",
      "|  4|     Ref-200|Does Not Match|\n",
      "|  5| Product_789|Does Not Match|\n",
      "+---+------------+--------------+\n",
      "\n"
     ]
    }
   ],
   "source": [
    "res12 = spark.sql (\"\"\" \n",
    "  \n",
    "SELECT id, product_code, \n",
    "       CASE WHEN product_code RLIKE '^Prod_\\\\d+$' THEN 'Matches' ELSE 'Does Not Match' END AS pattern_check\n",
    "FROM regex_examples;\n",
    "\n",
    "                   \n",
    "                   \"\"\")\n",
    "\n",
    "res12.show()"
   ]
  },
  {
   "cell_type": "code",
   "execution_count": 29,
   "metadata": {},
   "outputs": [
    {
     "name": "stdout",
     "output_type": "stream",
     "text": [
      "+---+----------+----------------------+-----------------------+-------------------+------------+-------------------+-------------+\n",
      "|id |date      |email                 |url                    |mixed_string       |product_code|camel_case         |pattern_check|\n",
      "+---+----------+----------------------+-----------------------+-------------------+------------+-------------------+-------------+\n",
      "|1  |2024-10-22|example@domain.com    |https://www.google.com |This_is-A_Test123  |Product_100 |CamelCaseWords     |false        |\n",
      "|2  |1990/11/30|invalid-email@        |https://mail.yahoo.com |HELLO_world!       |Prod_450    |anotherCamelCase   |true         |\n",
      "|3  |2005.05.10|user@domain.co.uk     |ftp://example.org      |UpperCASE123Lower  |prod-123    |YetAnotherCamelCase|false        |\n",
      "|4  |12-12-2012|contact@sub.domain.com|https://openai.com/blog|Replace-these_chars|Ref-200     |thisIsCamelCase    |false        |\n",
      "|5  |1980-06-15|name@example.com      |http://spark.apache.org|UpperCaseString    |Product_789 |CamelCases         |false        |\n",
      "+---+----------+----------------------+-----------------------+-------------------+------------+-------------------+-------------+\n",
      "\n"
     ]
    }
   ],
   "source": [
    "df.withColumn(\"pattern_check\", df[\"product_code\"].rlike(\"^Prod_\\\\d+$\")).show(truncate=False)\n"
   ]
  },
  {
   "cell_type": "markdown",
   "metadata": {},
   "source": [
    "# Extract First Word from a String"
   ]
  },
  {
   "cell_type": "code",
   "execution_count": 30,
   "metadata": {},
   "outputs": [
    {
     "name": "stdout",
     "output_type": "stream",
     "text": [
      "+---+----------+----------------------+-----------------------+-------------------+------------+-------------------+-----------------+\n",
      "|id |date      |email                 |url                    |mixed_string       |product_code|camel_case         |first_word       |\n",
      "+---+----------+----------------------+-----------------------+-------------------+------------+-------------------+-----------------+\n",
      "|1  |2024-10-22|example@domain.com    |https://www.google.com |This_is-A_Test123  |Product_100 |CamelCaseWords     |This_is          |\n",
      "|2  |1990/11/30|invalid-email@        |https://mail.yahoo.com |HELLO_world!       |Prod_450    |anotherCamelCase   |HELLO_world      |\n",
      "|3  |2005.05.10|user@domain.co.uk     |ftp://example.org      |UpperCASE123Lower  |prod-123    |YetAnotherCamelCase|UpperCASE123Lower|\n",
      "|4  |12-12-2012|contact@sub.domain.com|https://openai.com/blog|Replace-these_chars|Ref-200     |thisIsCamelCase    |Replace          |\n",
      "|5  |1980-06-15|name@example.com      |http://spark.apache.org|UpperCaseString    |Product_789 |CamelCases         |UpperCaseString  |\n",
      "+---+----------+----------------------+-----------------------+-------------------+------------+-------------------+-----------------+\n",
      "\n"
     ]
    }
   ],
   "source": [
    "df.withColumn(\"first_word\", regexp_extract(\"mixed_string\", \"^\\\\w+\", 0)).show(truncate=False)\n"
   ]
  },
  {
   "cell_type": "code",
   "execution_count": 31,
   "metadata": {},
   "outputs": [
    {
     "name": "stdout",
     "output_type": "stream",
     "text": [
      "+---+-------------------+----------+\n",
      "| id|       mixed_string|first_word|\n",
      "+---+-------------------+----------+\n",
      "|  1|  This_is-A_Test123|          |\n",
      "|  2|       HELLO_world!|          |\n",
      "|  3|  UpperCASE123Lower|          |\n",
      "|  4|Replace-these_chars|          |\n",
      "|  5|    UpperCaseString|          |\n",
      "+---+-------------------+----------+\n",
      "\n"
     ]
    }
   ],
   "source": [
    "res13 = spark.sql (\"\"\" \n",
    "  \n",
    "SELECT id, mixed_string, regexp_extract(mixed_string, '^\\\\w+', 0) AS first_word\n",
    "FROM regex_examples;\n",
    "\n",
    "                   \n",
    "                   \"\"\")\n",
    "\n",
    "res13.show()"
   ]
  },
  {
   "cell_type": "markdown",
   "metadata": {},
   "source": [
    "# Validate if String is a Valid IP Address"
   ]
  },
  {
   "cell_type": "code",
   "execution_count": 32,
   "metadata": {},
   "outputs": [
    {
     "name": "stdout",
     "output_type": "stream",
     "text": [
      "+---+--------------------+--------+\n",
      "| id|               email|ip_check|\n",
      "+---+--------------------+--------+\n",
      "|  1|  example@domain.com| Invalid|\n",
      "|  2|      invalid-email@| Invalid|\n",
      "|  3|   user@domain.co.uk| Invalid|\n",
      "|  4|contact@sub.domai...| Invalid|\n",
      "|  5|    name@example.com| Invalid|\n",
      "+---+--------------------+--------+\n",
      "\n",
      "+---+----------+----------------------+-----------------------+-------------------+------------+-------------------+--------+\n",
      "|id |date      |email                 |url                    |mixed_string       |product_code|camel_case         |ip_check|\n",
      "+---+----------+----------------------+-----------------------+-------------------+------------+-------------------+--------+\n",
      "|1  |2024-10-22|example@domain.com    |https://www.google.com |This_is-A_Test123  |Product_100 |CamelCaseWords     |false   |\n",
      "|2  |1990/11/30|invalid-email@        |https://mail.yahoo.com |HELLO_world!       |Prod_450    |anotherCamelCase   |false   |\n",
      "|3  |2005.05.10|user@domain.co.uk     |ftp://example.org      |UpperCASE123Lower  |prod-123    |YetAnotherCamelCase|false   |\n",
      "|4  |12-12-2012|contact@sub.domain.com|https://openai.com/blog|Replace-these_chars|Ref-200     |thisIsCamelCase    |false   |\n",
      "|5  |1980-06-15|name@example.com      |http://spark.apache.org|UpperCaseString    |Product_789 |CamelCases         |false   |\n",
      "+---+----------+----------------------+-----------------------+-------------------+------------+-------------------+--------+\n",
      "\n"
     ]
    }
   ],
   "source": [
    "res14 = spark.sql (\"\"\" \n",
    "  \n",
    "SELECT id, email, \n",
    "       CASE WHEN email RLIKE '^\\\\d{1,3}(\\\\.\\\\d{1,3}){3}$' THEN 'Valid IP' ELSE 'Invalid' END AS ip_check\n",
    "FROM regex_examples;\n",
    "\n",
    "\n",
    "                   \n",
    "                   \"\"\")\n",
    "\n",
    "res14.show()\n",
    "\n",
    "\n",
    "df.withColumn(\"ip_check\", df[\"email\"].rlike(\"^\\\\d{1,3}(\\\\.\\\\d{1,3}){3}$\")).show(truncate=False)\n"
   ]
  },
  {
   "cell_type": "markdown",
   "metadata": {},
   "source": [
    "# Extract Year, Month, and Day Separately"
   ]
  },
  {
   "cell_type": "code",
   "execution_count": 45,
   "metadata": {},
   "outputs": [
    {
     "name": "stdout",
     "output_type": "stream",
     "text": [
      "+---+----------+----+-----+---+\n",
      "| id|      date|year|month|day|\n",
      "+---+----------+----+-----+---+\n",
      "|  1|2024-10-22|    |     |   |\n",
      "|  2|1990/11/30|    |     |   |\n",
      "|  3|2005.05.10|    |     |   |\n",
      "|  4|12-12-2012|    |     |   |\n",
      "|  5|1980-06-15|    |     |   |\n",
      "+---+----------+----+-----+---+\n",
      "\n",
      "+---+----------+----------------------+-----------------------+-------------------+------------+-------------------+----+-----+---+\n",
      "|id |date      |email                 |url                    |mixed_string       |product_code|camel_case         |year|month|day|\n",
      "+---+----------+----------------------+-----------------------+-------------------+------------+-------------------+----+-----+---+\n",
      "|1  |2024-10-22|example@domain.com    |https://www.google.com |This_is-A_Test123  |Product_100 |CamelCaseWords     |2024|     |   |\n",
      "|2  |1990/11/30|invalid-email@        |https://mail.yahoo.com |HELLO_world!       |Prod_450    |anotherCamelCase   |1990|     |   |\n",
      "|3  |2005.05.10|user@domain.co.uk     |ftp://example.org      |UpperCASE123Lower  |prod-123    |YetAnotherCamelCase|2005|     |   |\n",
      "|4  |12-12-2012|contact@sub.domain.com|https://openai.com/blog|Replace-these_chars|Ref-200     |thisIsCamelCase    |2012|12   |12 |\n",
      "|5  |1980-06-15|name@example.com      |http://spark.apache.org|UpperCaseString    |Product_789 |CamelCases         |1980|     |   |\n",
      "+---+----------+----------------------+-----------------------+-------------------+------------+-------------------+----+-----+---+\n",
      "\n"
     ]
    }
   ],
   "source": [
    "res100 = spark.sql (\"\"\" \n",
    "  \n",
    "SELECT id, date, \n",
    "       regexp_extract(date, '(\\\\d{4})', 1) AS year,\n",
    "       regexp_extract(date, '(\\\\d{2})-(\\\\d{2})-(\\\\d{4})', 2) AS month,\n",
    "       regexp_extract(date, '(\\\\d{2})-(\\\\d{2})-(\\\\d{4})', 1) AS day\n",
    "FROM regex_examples;\n",
    "\n",
    "\n",
    "                   \n",
    "                   \"\"\")\n",
    "\n",
    "res100.show()\n",
    "\n",
    "\n",
    "df.withColumn(\"year\", regexp_extract(\"date\", \"(\\\\d{4})\", 1)) \\\n",
    "  .withColumn(\"month\", regexp_extract(\"date\", \"(\\\\d{2})-(\\\\d{2})-(\\\\d{4})\", 2)) \\\n",
    "  .withColumn(\"day\", regexp_extract(\"date\", \"(\\\\d{2})-(\\\\d{2})-(\\\\d{4})\", 1)).show(truncate=False)\n"
   ]
  },
  {
   "cell_type": "markdown",
   "metadata": {},
   "source": [
    "# Remove Everything After a Specific Character (e.g., -)"
   ]
  },
  {
   "cell_type": "code",
   "execution_count": 33,
   "metadata": {},
   "outputs": [
    {
     "name": "stdout",
     "output_type": "stream",
     "text": [
      "+---+------------+------------+\n",
      "| id|product_code|cleaned_code|\n",
      "+---+------------+------------+\n",
      "|  1| Product_100| Product_100|\n",
      "|  2|    Prod_450|    Prod_450|\n",
      "|  3|    prod-123|        prod|\n",
      "|  4|     Ref-200|         Ref|\n",
      "|  5| Product_789| Product_789|\n",
      "+---+------------+------------+\n",
      "\n",
      "+---+----------+----------------------+-----------------------+-------------------+------------+-------------------+------------+\n",
      "|id |date      |email                 |url                    |mixed_string       |product_code|camel_case         |cleaned_code|\n",
      "+---+----------+----------------------+-----------------------+-------------------+------------+-------------------+------------+\n",
      "|1  |2024-10-22|example@domain.com    |https://www.google.com |This_is-A_Test123  |Product_100 |CamelCaseWords     |Product_100 |\n",
      "|2  |1990/11/30|invalid-email@        |https://mail.yahoo.com |HELLO_world!       |Prod_450    |anotherCamelCase   |Prod_450    |\n",
      "|3  |2005.05.10|user@domain.co.uk     |ftp://example.org      |UpperCASE123Lower  |prod-123    |YetAnotherCamelCase|prod        |\n",
      "|4  |12-12-2012|contact@sub.domain.com|https://openai.com/blog|Replace-these_chars|Ref-200     |thisIsCamelCase    |Ref         |\n",
      "|5  |1980-06-15|name@example.com      |http://spark.apache.org|UpperCaseString    |Product_789 |CamelCases         |Product_789 |\n",
      "+---+----------+----------------------+-----------------------+-------------------+------------+-------------------+------------+\n",
      "\n"
     ]
    }
   ],
   "source": [
    "res15 = spark.sql (\"\"\" \n",
    "  \n",
    "SELECT id, product_code, regexp_replace(product_code, '-.*', '') AS cleaned_code\n",
    "FROM regex_examples;\n",
    "\n",
    "\n",
    "                   \n",
    "                   \"\"\")\n",
    "\n",
    "res15.show()\n",
    "\n",
    "\n",
    "df.withColumn(\"cleaned_code\", regexp_replace(\"product_code\", \"-.*\", \"\")).show(truncate=False)\n"
   ]
  },
  {
   "cell_type": "markdown",
   "metadata": {},
   "source": [
    "# Replace Uppercase Letters With Lowercase and Vice Versa"
   ]
  },
  {
   "cell_type": "code",
   "execution_count": 35,
   "metadata": {},
   "outputs": [
    {
     "name": "stdout",
     "output_type": "stream",
     "text": [
      "+---+----------+----------------------+-----------------------+-------------------+------------+-------------------+-------------------+\n",
      "|id |date      |email                 |url                    |mixed_string       |product_code|camel_case         |swapped_case       |\n",
      "+---+----------+----------------------+-----------------------+-------------------+------------+-------------------+-------------------+\n",
      "|1  |2024-10-22|example@domain.com    |https://www.google.com |This_is-A_Test123  |Product_100 |CamelCaseWords     |tHIS_IS-a_tEST123  |\n",
      "|2  |1990/11/30|invalid-email@        |https://mail.yahoo.com |HELLO_world!       |Prod_450    |anotherCamelCase   |hello_WORLD!       |\n",
      "|3  |2005.05.10|user@domain.co.uk     |ftp://example.org      |UpperCASE123Lower  |prod-123    |YetAnotherCamelCase|uPPERcase123lOWER  |\n",
      "|4  |12-12-2012|contact@sub.domain.com|https://openai.com/blog|Replace-these_chars|Ref-200     |thisIsCamelCase    |rEPLACE-THESE_CHARS|\n",
      "|5  |1980-06-15|name@example.com      |http://spark.apache.org|UpperCaseString    |Product_789 |CamelCases         |uPPERcASEsTRING    |\n",
      "+---+----------+----------------------+-----------------------+-------------------+------------+-------------------+-------------------+\n",
      "\n"
     ]
    }
   ],
   "source": [
    "from pyspark.sql.functions import translate\n",
    "\n",
    "df.withColumn(\"swapped_case\", translate(\"mixed_string\", \"ABCDEFGHIJKLMNOPQRSTUVWXYZabcdefghijklmnopqrstuvwxyz\", \"abcdefghijklmnopqrstuvwxyzABCDEFGHIJKLMNOPQRSTUVWXYZ\")).show(truncate=False)\n"
   ]
  },
  {
   "cell_type": "markdown",
   "metadata": {},
   "source": [
    "# Extract Second Word from a String"
   ]
  },
  {
   "cell_type": "code",
   "execution_count": 36,
   "metadata": {},
   "outputs": [
    {
     "name": "stdout",
     "output_type": "stream",
     "text": [
      "+---+-------------------+-----------+\n",
      "| id|       mixed_string|second_word|\n",
      "+---+-------------------+-----------+\n",
      "|  1|  This_is-A_Test123|           |\n",
      "|  2|       HELLO_world!|           |\n",
      "|  3|  UpperCASE123Lower|           |\n",
      "|  4|Replace-these_chars|           |\n",
      "|  5|    UpperCaseString|           |\n",
      "+---+-------------------+-----------+\n",
      "\n"
     ]
    }
   ],
   "source": [
    "res17 = spark.sql (\"\"\" \n",
    "  \n",
    "SELECT id, mixed_string, regexp_extract(mixed_string, '^\\\\w+\\\\s(\\\\w+)', 1) AS second_word\n",
    "FROM regex_examples;\n",
    "\n",
    "\n",
    "\n",
    "                   \n",
    "                   \"\"\")\n",
    "\n",
    "res17.show()"
   ]
  },
  {
   "cell_type": "code",
   "execution_count": 37,
   "metadata": {},
   "outputs": [
    {
     "name": "stdout",
     "output_type": "stream",
     "text": [
      "+---+----------+----------------------+-----------------------+-------------------+------------+-------------------+-----------+\n",
      "|id |date      |email                 |url                    |mixed_string       |product_code|camel_case         |second_word|\n",
      "+---+----------+----------------------+-----------------------+-------------------+------------+-------------------+-----------+\n",
      "|1  |2024-10-22|example@domain.com    |https://www.google.com |This_is-A_Test123  |Product_100 |CamelCaseWords     |           |\n",
      "|2  |1990/11/30|invalid-email@        |https://mail.yahoo.com |HELLO_world!       |Prod_450    |anotherCamelCase   |           |\n",
      "|3  |2005.05.10|user@domain.co.uk     |ftp://example.org      |UpperCASE123Lower  |prod-123    |YetAnotherCamelCase|           |\n",
      "|4  |12-12-2012|contact@sub.domain.com|https://openai.com/blog|Replace-these_chars|Ref-200     |thisIsCamelCase    |           |\n",
      "|5  |1980-06-15|name@example.com      |http://spark.apache.org|UpperCaseString    |Product_789 |CamelCases         |           |\n",
      "+---+----------+----------------------+-----------------------+-------------------+------------+-------------------+-----------+\n",
      "\n"
     ]
    }
   ],
   "source": [
    "df.withColumn(\"second_word\", regexp_extract(\"mixed_string\", \"^\\\\w+\\\\s(\\\\w+)\", 1)).show(truncate=False)\n"
   ]
  },
  {
   "cell_type": "markdown",
   "metadata": {},
   "source": [
    "# Extract Last Word from a String"
   ]
  },
  {
   "cell_type": "code",
   "execution_count": 38,
   "metadata": {},
   "outputs": [
    {
     "name": "stdout",
     "output_type": "stream",
     "text": [
      "+---+-------------------+---------+\n",
      "| id|       mixed_string|last_word|\n",
      "+---+-------------------+---------+\n",
      "|  1|  This_is-A_Test123|         |\n",
      "|  2|       HELLO_world!|         |\n",
      "|  3|  UpperCASE123Lower|         |\n",
      "|  4|Replace-these_chars|         |\n",
      "|  5|    UpperCaseString|         |\n",
      "+---+-------------------+---------+\n",
      "\n"
     ]
    }
   ],
   "source": [
    "res18 = spark.sql (\"\"\" \n",
    "  \n",
    "SELECT id, mixed_string, regexp_extract(mixed_string, '\\\\w+$', 0) AS last_word\n",
    "FROM regex_examples;\n",
    "\n",
    "                   \n",
    "                   \"\"\")\n",
    "\n",
    "res18.show()"
   ]
  },
  {
   "cell_type": "code",
   "execution_count": 39,
   "metadata": {},
   "outputs": [
    {
     "name": "stdout",
     "output_type": "stream",
     "text": [
      "+---+----------+----------------------+-----------------------+-------------------+------------+-------------------+-----------------+\n",
      "|id |date      |email                 |url                    |mixed_string       |product_code|camel_case         |last_word        |\n",
      "+---+----------+----------------------+-----------------------+-------------------+------------+-------------------+-----------------+\n",
      "|1  |2024-10-22|example@domain.com    |https://www.google.com |This_is-A_Test123  |Product_100 |CamelCaseWords     |A_Test123        |\n",
      "|2  |1990/11/30|invalid-email@        |https://mail.yahoo.com |HELLO_world!       |Prod_450    |anotherCamelCase   |                 |\n",
      "|3  |2005.05.10|user@domain.co.uk     |ftp://example.org      |UpperCASE123Lower  |prod-123    |YetAnotherCamelCase|UpperCASE123Lower|\n",
      "|4  |12-12-2012|contact@sub.domain.com|https://openai.com/blog|Replace-these_chars|Ref-200     |thisIsCamelCase    |these_chars      |\n",
      "|5  |1980-06-15|name@example.com      |http://spark.apache.org|UpperCaseString    |Product_789 |CamelCases         |UpperCaseString  |\n",
      "+---+----------+----------------------+-----------------------+-------------------+------------+-------------------+-----------------+\n",
      "\n"
     ]
    }
   ],
   "source": [
    "df.withColumn(\"last_word\", regexp_extract(\"mixed_string\", \"\\\\w+$\", 0)).show(truncate=False)\n"
   ]
  },
  {
   "cell_type": "markdown",
   "metadata": {},
   "source": [
    "# Validate if String is a Valid Phone Number"
   ]
  },
  {
   "cell_type": "code",
   "execution_count": 40,
   "metadata": {},
   "outputs": [
    {
     "name": "stdout",
     "output_type": "stream",
     "text": [
      "+---+-------------------+-----------+\n",
      "| id|       mixed_string|phone_check|\n",
      "+---+-------------------+-----------+\n",
      "|  1|  This_is-A_Test123|    Invalid|\n",
      "|  2|       HELLO_world!|    Invalid|\n",
      "|  3|  UpperCASE123Lower|    Invalid|\n",
      "|  4|Replace-these_chars|    Invalid|\n",
      "|  5|    UpperCaseString|    Invalid|\n",
      "+---+-------------------+-----------+\n",
      "\n"
     ]
    }
   ],
   "source": [
    "res19 = spark.sql (\"\"\" \n",
    "  \n",
    "SELECT id, mixed_string, \n",
    "       CASE WHEN mixed_string RLIKE '^\\\\+?\\\\d{1,3}[- ]?\\\\d{3}[- ]?\\\\d{3}[- ]?\\\\d{4}$' THEN 'Valid' ELSE 'Invalid' END AS phone_check\n",
    "FROM regex_examples;\n",
    "\n",
    "\n",
    "                   \n",
    "                   \"\"\")\n",
    "\n",
    "res19.show()"
   ]
  },
  {
   "cell_type": "code",
   "execution_count": 41,
   "metadata": {},
   "outputs": [
    {
     "name": "stdout",
     "output_type": "stream",
     "text": [
      "+---+----------+----------------------+-----------------------+-------------------+------------+-------------------+-----------+\n",
      "|id |date      |email                 |url                    |mixed_string       |product_code|camel_case         |phone_check|\n",
      "+---+----------+----------------------+-----------------------+-------------------+------------+-------------------+-----------+\n",
      "|1  |2024-10-22|example@domain.com    |https://www.google.com |This_is-A_Test123  |Product_100 |CamelCaseWords     |false      |\n",
      "|2  |1990/11/30|invalid-email@        |https://mail.yahoo.com |HELLO_world!       |Prod_450    |anotherCamelCase   |false      |\n",
      "|3  |2005.05.10|user@domain.co.uk     |ftp://example.org      |UpperCASE123Lower  |prod-123    |YetAnotherCamelCase|false      |\n",
      "|4  |12-12-2012|contact@sub.domain.com|https://openai.com/blog|Replace-these_chars|Ref-200     |thisIsCamelCase    |false      |\n",
      "|5  |1980-06-15|name@example.com      |http://spark.apache.org|UpperCaseString    |Product_789 |CamelCases         |false      |\n",
      "+---+----------+----------------------+-----------------------+-------------------+------------+-------------------+-----------+\n",
      "\n"
     ]
    }
   ],
   "source": [
    "df.withColumn(\"phone_check\", df[\"mixed_string\"].rlike(\"^\\\\+?\\\\d{1,3}[- ]?\\\\d{3}[- ]?\\\\d{3}[- ]?\\\\d{4}$\")).show(truncate=False)\n"
   ]
  },
  {
   "cell_type": "markdown",
   "metadata": {},
   "source": [
    "# Convert CamelCase Words to Space-Separated Words"
   ]
  },
  {
   "cell_type": "code",
   "execution_count": 42,
   "metadata": {},
   "outputs": [
    {
     "name": "stdout",
     "output_type": "stream",
     "text": [
      "+---+----------+----------------------+-----------------------+-------------------+------------+-------------------+----------------------+\n",
      "|id |date      |email                 |url                    |mixed_string       |product_code|camel_case         |converted             |\n",
      "+---+----------+----------------------+-----------------------+-------------------+------------+-------------------+----------------------+\n",
      "|1  |2024-10-22|example@domain.com    |https://www.google.com |This_is-A_Test123  |Product_100 |CamelCaseWords     |Camel Case Words      |\n",
      "|2  |1990/11/30|invalid-email@        |https://mail.yahoo.com |HELLO_world!       |Prod_450    |anotherCamelCase   |another Camel Case    |\n",
      "|3  |2005.05.10|user@domain.co.uk     |ftp://example.org      |UpperCASE123Lower  |prod-123    |YetAnotherCamelCase|Yet Another Camel Case|\n",
      "|4  |12-12-2012|contact@sub.domain.com|https://openai.com/blog|Replace-these_chars|Ref-200     |thisIsCamelCase    |this Is Camel Case    |\n",
      "|5  |1980-06-15|name@example.com      |http://spark.apache.org|UpperCaseString    |Product_789 |CamelCases         |Camel Cases           |\n",
      "+---+----------+----------------------+-----------------------+-------------------+------------+-------------------+----------------------+\n",
      "\n"
     ]
    }
   ],
   "source": [
    "df.withColumn(\"converted\", regexp_replace(\"camel_case\", \"(?<=[a-z])([A-Z])\", \" $1\")).show(truncate=False)\n"
   ]
  },
  {
   "cell_type": "markdown",
   "metadata": {},
   "source": []
  },
  {
   "cell_type": "markdown",
   "metadata": {},
   "source": [
    "# Replace https with http"
   ]
  },
  {
   "cell_type": "code",
   "execution_count": 48,
   "metadata": {},
   "outputs": [
    {
     "name": "stdout",
     "output_type": "stream",
     "text": [
      "+---+--------------------+--------------------+\n",
      "| id|                 url|         updated_url|\n",
      "+---+--------------------+--------------------+\n",
      "|  1|https://www.googl...|http://www.google...|\n",
      "|  2|https://mail.yaho...|http://mail.yahoo...|\n",
      "|  3|   ftp://example.org|   ftp://example.org|\n",
      "|  4|https://openai.co...|http://openai.com...|\n",
      "|  5|http://spark.apac...|http://spark.apac...|\n",
      "+---+--------------------+--------------------+\n",
      "\n",
      "+---+----------+----------------------+-----------------------+-------------------+------------+-------------------+-----------------------+\n",
      "|id |date      |email                 |url                    |mixed_string       |product_code|camel_case         |updated_url            |\n",
      "+---+----------+----------------------+-----------------------+-------------------+------------+-------------------+-----------------------+\n",
      "|1  |2024-10-22|example@domain.com    |https://www.google.com |This_is-A_Test123  |Product_100 |CamelCaseWords     |http://www.google.com  |\n",
      "|2  |1990/11/30|invalid-email@        |https://mail.yahoo.com |HELLO_world!       |Prod_450    |anotherCamelCase   |http://mail.yahoo.com  |\n",
      "|3  |2005.05.10|user@domain.co.uk     |ftp://example.org      |UpperCASE123Lower  |prod-123    |YetAnotherCamelCase|ftp://example.org      |\n",
      "|4  |12-12-2012|contact@sub.domain.com|https://openai.com/blog|Replace-these_chars|Ref-200     |thisIsCamelCase    |http://openai.com/blog |\n",
      "|5  |1980-06-15|name@example.com      |http://spark.apache.org|UpperCaseString    |Product_789 |CamelCases         |http://spark.apache.org|\n",
      "+---+----------+----------------------+-----------------------+-------------------+------------+-------------------+-----------------------+\n",
      "\n"
     ]
    }
   ],
   "source": [
    "res20 = spark.sql (\"\"\" \n",
    "  \n",
    "SELECT id, url, regexp_replace(url, 'https', 'http') AS updated_url \n",
    "FROM regex_examples;\n",
    "\n",
    "\n",
    "                   \n",
    "                   \"\"\")\n",
    "\n",
    "res20.show()\n",
    "\n",
    "\n",
    "\n",
    "df.withColumn(\"updated_url\", regexp_replace(\"url\", \"https\", \"http\")).show(truncate=False)\n"
   ]
  },
  {
   "cell_type": "markdown",
   "metadata": {},
   "source": [
    "# Extract Domain Name Without Protocol"
   ]
  },
  {
   "cell_type": "code",
   "execution_count": 50,
   "metadata": {},
   "outputs": [
    {
     "name": "stdout",
     "output_type": "stream",
     "text": [
      "+---+--------------------+----------------+\n",
      "| id|                 url|     domain_name|\n",
      "+---+--------------------+----------------+\n",
      "|  1|https://www.googl...|  www.google.com|\n",
      "|  2|https://mail.yaho...|  mail.yahoo.com|\n",
      "|  3|   ftp://example.org|     example.org|\n",
      "|  4|https://openai.co...|      openai.com|\n",
      "|  5|http://spark.apac...|spark.apache.org|\n",
      "+---+--------------------+----------------+\n",
      "\n",
      "+---+----------+----------------------+-----------------------+-------------------+------------+-------------------+----------------+\n",
      "|id |date      |email                 |url                    |mixed_string       |product_code|camel_case         |domain_name     |\n",
      "+---+----------+----------------------+-----------------------+-------------------+------------+-------------------+----------------+\n",
      "|1  |2024-10-22|example@domain.com    |https://www.google.com |This_is-A_Test123  |Product_100 |CamelCaseWords     |www.google.com  |\n",
      "|2  |1990/11/30|invalid-email@        |https://mail.yahoo.com |HELLO_world!       |Prod_450    |anotherCamelCase   |mail.yahoo.com  |\n",
      "|3  |2005.05.10|user@domain.co.uk     |ftp://example.org      |UpperCASE123Lower  |prod-123    |YetAnotherCamelCase|example.org     |\n",
      "|4  |12-12-2012|contact@sub.domain.com|https://openai.com/blog|Replace-these_chars|Ref-200     |thisIsCamelCase    |openai.com      |\n",
      "|5  |1980-06-15|name@example.com      |http://spark.apache.org|UpperCaseString    |Product_789 |CamelCases         |spark.apache.org|\n",
      "+---+----------+----------------------+-----------------------+-------------------+------------+-------------------+----------------+\n",
      "\n"
     ]
    }
   ],
   "source": [
    "res21 = spark.sql (\"\"\" \n",
    "  \n",
    "SELECT id, url, regexp_extract(url, '://([^/]+)', 1) AS domain_name FROM regex_examples\n",
    "\n",
    "\n",
    "                   \n",
    "                   \"\"\")\n",
    "\n",
    "res21.show()\n",
    "\n",
    "df.withColumn(\"domain_name\", regexp_extract(\"url\", \"://([^/]+)\", 1)).show(truncate=False)\n"
   ]
  },
  {
   "cell_type": "markdown",
   "metadata": {},
   "source": [
    "# Extract Numbers That Appear in the Middle of a String"
   ]
  },
  {
   "cell_type": "code",
   "execution_count": 51,
   "metadata": {},
   "outputs": [
    {
     "name": "stdout",
     "output_type": "stream",
     "text": [
      "+---+------------+-------------+\n",
      "| id|product_code|middle_number|\n",
      "+---+------------+-------------+\n",
      "|  1| Product_100|            d|\n",
      "|  2|    Prod_450|            d|\n",
      "|  3|    prod-123|            d|\n",
      "|  4|     Ref-200|             |\n",
      "|  5| Product_789|            d|\n",
      "+---+------------+-------------+\n",
      "\n"
     ]
    }
   ],
   "source": [
    "res22 = spark.sql (\"\"\" \n",
    "  \n",
    "SELECT id, product_code, regexp_extract(product_code, '\\\\d+', 0) AS middle_number \n",
    "\n",
    " FROM regex_examples;\n",
    "\n",
    "\n",
    "                   \n",
    "                   \"\"\")\n",
    "\n",
    "res22.show()"
   ]
  },
  {
   "cell_type": "code",
   "execution_count": 52,
   "metadata": {},
   "outputs": [
    {
     "name": "stdout",
     "output_type": "stream",
     "text": [
      "+---+----------+----------------------+-----------------------+-------------------+------------+-------------------+-------------+\n",
      "|id |date      |email                 |url                    |mixed_string       |product_code|camel_case         |middle_number|\n",
      "+---+----------+----------------------+-----------------------+-------------------+------------+-------------------+-------------+\n",
      "|1  |2024-10-22|example@domain.com    |https://www.google.com |This_is-A_Test123  |Product_100 |CamelCaseWords     |100          |\n",
      "|2  |1990/11/30|invalid-email@        |https://mail.yahoo.com |HELLO_world!       |Prod_450    |anotherCamelCase   |450          |\n",
      "|3  |2005.05.10|user@domain.co.uk     |ftp://example.org      |UpperCASE123Lower  |prod-123    |YetAnotherCamelCase|123          |\n",
      "|4  |12-12-2012|contact@sub.domain.com|https://openai.com/blog|Replace-these_chars|Ref-200     |thisIsCamelCase    |200          |\n",
      "|5  |1980-06-15|name@example.com      |http://spark.apache.org|UpperCaseString    |Product_789 |CamelCases         |789          |\n",
      "+---+----------+----------------------+-----------------------+-------------------+------------+-------------------+-------------+\n",
      "\n"
     ]
    }
   ],
   "source": [
    "df.withColumn(\"middle_number\", regexp_extract(\"product_code\", \"\\\\d+\", 0)).show(truncate=False)\n"
   ]
  },
  {
   "cell_type": "markdown",
   "metadata": {},
   "source": [
    "# Extract the First Four Characters from a String"
   ]
  },
  {
   "cell_type": "code",
   "execution_count": 55,
   "metadata": {},
   "outputs": [
    {
     "name": "stdout",
     "output_type": "stream",
     "text": [
      "+---+-------------------+------+\n",
      "| id|       mixed_string|prefix|\n",
      "+---+-------------------+------+\n",
      "|  1|  This_is-A_Test123|  This|\n",
      "|  2|       HELLO_world!|  HELL|\n",
      "|  3|  UpperCASE123Lower|  Uppe|\n",
      "|  4|Replace-these_chars|  Repl|\n",
      "|  5|    UpperCaseString|  Uppe|\n",
      "+---+-------------------+------+\n",
      "\n",
      "+---+----------+----------------------+-----------------------+-------------------+------------+-------------------+------+\n",
      "|id |date      |email                 |url                    |mixed_string       |product_code|camel_case         |prefix|\n",
      "+---+----------+----------------------+-----------------------+-------------------+------------+-------------------+------+\n",
      "|1  |2024-10-22|example@domain.com    |https://www.google.com |This_is-A_Test123  |Product_100 |CamelCaseWords     |This  |\n",
      "|2  |1990/11/30|invalid-email@        |https://mail.yahoo.com |HELLO_world!       |Prod_450    |anotherCamelCase   |HELL  |\n",
      "|3  |2005.05.10|user@domain.co.uk     |ftp://example.org      |UpperCASE123Lower  |prod-123    |YetAnotherCamelCase|Uppe  |\n",
      "|4  |12-12-2012|contact@sub.domain.com|https://openai.com/blog|Replace-these_chars|Ref-200     |thisIsCamelCase    |Repl  |\n",
      "|5  |1980-06-15|name@example.com      |http://spark.apache.org|UpperCaseString    |Product_789 |CamelCases         |Uppe  |\n",
      "+---+----------+----------------------+-----------------------+-------------------+------------+-------------------+------+\n",
      "\n"
     ]
    }
   ],
   "source": [
    "res23 = spark.sql (\"\"\" \n",
    "  \n",
    "SELECT id, mixed_string, substring(mixed_string, 1, 4) AS prefix \n",
    " \n",
    "\n",
    " FROM regex_examples;\n",
    "\n",
    "\n",
    "                   \n",
    "                   \"\"\")\n",
    "\n",
    "res23.show()\n",
    "\n",
    "df.withColumn(\"prefix\", df[\"mixed_string\"].substr(1, 4)).show(truncate=False)\n"
   ]
  },
  {
   "cell_type": "markdown",
   "metadata": {},
   "source": [
    "# Extract the Last Word from a Name\n"
   ]
  },
  {
   "cell_type": "code",
   "execution_count": 57,
   "metadata": {},
   "outputs": [
    {
     "name": "stdout",
     "output_type": "stream",
     "text": [
      "+---+-------------------+---------+\n",
      "| id|       mixed_string|last_word|\n",
      "+---+-------------------+---------+\n",
      "|  1|  This_is-A_Test123|         |\n",
      "|  2|       HELLO_world!|         |\n",
      "|  3|  UpperCASE123Lower|         |\n",
      "|  4|Replace-these_chars|         |\n",
      "|  5|    UpperCaseString|         |\n",
      "+---+-------------------+---------+\n",
      "\n"
     ]
    }
   ],
   "source": [
    "res24 = spark.sql (\"\"\" \n",
    "  \n",
    "SELECT id, mixed_string, regexp_extract(mixed_string , '\\\\b\\\\w+$', 0) AS last_word \n",
    "\n",
    "\n",
    " FROM regex_examples;\n",
    "\n",
    "\n",
    "                   \n",
    "                   \"\"\")\n",
    "\n",
    "res24.show()"
   ]
  },
  {
   "cell_type": "code",
   "execution_count": 58,
   "metadata": {},
   "outputs": [
    {
     "name": "stdout",
     "output_type": "stream",
     "text": [
      "+---+----------+----------------------+-----------------------+-------------------+------------+-------------------+-----------------+\n",
      "|id |date      |email                 |url                    |mixed_string       |product_code|camel_case         |last_word        |\n",
      "+---+----------+----------------------+-----------------------+-------------------+------------+-------------------+-----------------+\n",
      "|1  |2024-10-22|example@domain.com    |https://www.google.com |This_is-A_Test123  |Product_100 |CamelCaseWords     |A_Test123        |\n",
      "|2  |1990/11/30|invalid-email@        |https://mail.yahoo.com |HELLO_world!       |Prod_450    |anotherCamelCase   |                 |\n",
      "|3  |2005.05.10|user@domain.co.uk     |ftp://example.org      |UpperCASE123Lower  |prod-123    |YetAnotherCamelCase|UpperCASE123Lower|\n",
      "|4  |12-12-2012|contact@sub.domain.com|https://openai.com/blog|Replace-these_chars|Ref-200     |thisIsCamelCase    |these_chars      |\n",
      "|5  |1980-06-15|name@example.com      |http://spark.apache.org|UpperCaseString    |Product_789 |CamelCases         |UpperCaseString  |\n",
      "+---+----------+----------------------+-----------------------+-------------------+------------+-------------------+-----------------+\n",
      "\n"
     ]
    }
   ],
   "source": [
    "df.withColumn(\"last_word\", regexp_extract(\"mixed_string\", \"\\\\b\\\\w+$\", 0)).show(truncate=False)\n"
   ]
  },
  {
   "cell_type": "markdown",
   "metadata": {},
   "source": [
    "# Extract Serial Number from a String"
   ]
  },
  {
   "cell_type": "code",
   "execution_count": 59,
   "metadata": {},
   "outputs": [
    {
     "name": "stdout",
     "output_type": "stream",
     "text": [
      "+---+------------+----------------+\n",
      "| id|product_code|extracted_serial|\n",
      "+---+------------+----------------+\n",
      "|  1| Product_100|                |\n",
      "|  2|    Prod_450|                |\n",
      "|  3|    prod-123|                |\n",
      "|  4|     Ref-200|                |\n",
      "|  5| Product_789|                |\n",
      "+---+------------+----------------+\n",
      "\n"
     ]
    }
   ],
   "source": [
    "res25 = spark.sql (\"\"\" \n",
    "  \n",
    "SELECT id, product_code, regexp_extract(product_code, '[A-Z]{3}-\\\\d{4}', 0) AS extracted_serial \n",
    "\n",
    "\n",
    "\n",
    " FROM regex_examples;\n",
    "\n",
    "\n",
    "                   \n",
    "                   \"\"\")\n",
    "\n",
    "res25.show()"
   ]
  },
  {
   "cell_type": "code",
   "execution_count": 60,
   "metadata": {},
   "outputs": [
    {
     "name": "stdout",
     "output_type": "stream",
     "text": [
      "+---+----------+----------------------+-----------------------+-------------------+------------+-------------------+----------------+\n",
      "|id |date      |email                 |url                    |mixed_string       |product_code|camel_case         |extracted_serial|\n",
      "+---+----------+----------------------+-----------------------+-------------------+------------+-------------------+----------------+\n",
      "|1  |2024-10-22|example@domain.com    |https://www.google.com |This_is-A_Test123  |Product_100 |CamelCaseWords     |                |\n",
      "|2  |1990/11/30|invalid-email@        |https://mail.yahoo.com |HELLO_world!       |Prod_450    |anotherCamelCase   |                |\n",
      "|3  |2005.05.10|user@domain.co.uk     |ftp://example.org      |UpperCASE123Lower  |prod-123    |YetAnotherCamelCase|                |\n",
      "|4  |12-12-2012|contact@sub.domain.com|https://openai.com/blog|Replace-these_chars|Ref-200     |thisIsCamelCase    |                |\n",
      "|5  |1980-06-15|name@example.com      |http://spark.apache.org|UpperCaseString    |Product_789 |CamelCases         |                |\n",
      "+---+----------+----------------------+-----------------------+-------------------+------------+-------------------+----------------+\n",
      "\n"
     ]
    }
   ],
   "source": [
    "df.withColumn(\"extracted_serial\", regexp_extract(\"product_code\", \"[A-Z]{3}-\\\\d{4}\", 0)).show(truncate=False)\n"
   ]
  },
  {
   "cell_type": "code",
   "execution_count": null,
   "metadata": {},
   "outputs": [],
   "source": []
  }
 ],
 "metadata": {
  "kernelspec": {
   "display_name": "Python 3",
   "language": "python",
   "name": "python3"
  },
  "language_info": {
   "codemirror_mode": {
    "name": "ipython",
    "version": 3
   },
   "file_extension": ".py",
   "mimetype": "text/x-python",
   "name": "python",
   "nbconvert_exporter": "python",
   "pygments_lexer": "ipython3",
   "version": "3.11.8"
  }
 },
 "nbformat": 4,
 "nbformat_minor": 2
}
